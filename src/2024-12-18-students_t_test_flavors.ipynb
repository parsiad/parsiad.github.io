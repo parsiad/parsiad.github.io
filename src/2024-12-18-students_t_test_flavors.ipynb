{
 "cells": [
  {
   "cell_type": "raw",
   "id": "bdadd2a4-23a4-4d41-86d6-1a3d03e3dc9e",
   "metadata": {
    "editable": true,
    "raw_mimetype": "",
    "slideshow": {
     "slide_type": ""
    },
    "tags": []
   },
   "source": [
    "---\n",
    "date: 2024-12-18 12:00:00-0800\n",
    "layout: post\n",
    "title: Student's t-test flavors\n",
    "---"
   ]
  },
  {
   "cell_type": "code",
   "execution_count": 148,
   "id": "f926418a-ed65-44dd-bd2b-56de16baa893",
   "metadata": {
    "editable": true,
    "slideshow": {
     "slide_type": ""
    },
    "tags": [
     "no_cell"
    ]
   },
   "outputs": [],
   "source": [
    "import itertools\n",
    "\n",
    "import numpy as np\n",
    "import scipy\n",
    "from numpy.typing import NDArray\n",
    "from tabulate import tabulate"
   ]
  },
  {
   "cell_type": "markdown",
   "id": "c3d508c9-b766-478a-b1c2-6d52f05bd1fc",
   "metadata": {},
   "source": [
    "A Student's t-test is any hypothesis test where the test statistic follows a Student's t-distribution.\n",
    "In this short note, we list and distinguish between the most commonly used ones.\n",
    "\n",
    "Throughout, we denote by $t \\mapsto F_\\nu(t)$ the CDF of a Student's t-distribution with $\\nu$ degrees of freedom."
   ]
  },
  {
   "cell_type": "markdown",
   "id": "37924664-426b-4d38-b983-6ea61231e637",
   "metadata": {},
   "source": [
    "## Dependent (a.k.a. paired) t-test\n",
    "\n",
    "Given pairs $(X_1, Y_1), \\ldots, (X_N, Y_N)$, let $D_n = X_n - Y_n$.\n",
    "A *paired t-test* assumes\n",
    "\n",
    "$$\n",
    "D_1, \\ldots, D_N \\sim \\mathcal{N}(\\mu, \\sigma^2) \\text{ are i.i.d.}\n",
    "$$\n",
    "\n",
    "and tests the null hypothesis $\\mu = 0$.\n",
    "\n",
    "**Example (Running shoes).**\n",
    "A shoe company has just released their newest running shoe, \"SpeedBoot v2.0\".\n",
    "The popular YouTube channel \"ShoeScoop\" wants to conduct an independent review to see whether this shoe improves (or degrades) running times relative to its predecessor, \"SpeedBoot v1.0\".\n",
    "ShoeScoop hires 10 runners to run the same distance at a fixed level of effort with each shoe (allowing each runner an ample break between their runs).\n",
    "Each runner produces a pair of times $X_n$ and $Y_n$.\n",
    "Putting these pairs into a paired t-test, ShoeScoop can determine if there is a statistically significant difference in average running times between the versions.\n",
    "\n",
    "The test statistic is\n",
    "\n",
    "$$\n",
    "T = \\sqrt{N} \\frac{\\overline{D}}{s_D}\n",
    "$$\n",
    "\n",
    "where $\\overline{D}$ is the sample mean and $s_D$ is the [Bessel corrected](https://en.wikipedia.org/wiki/Bessel's_correction) sample standard deviation of $D_1, \\ldots, D_N$.\n",
    "[It can be shown that $T$ is a Student's t-distribution with $\\nu = N - 1$ degrees of freedom](https://en.wikipedia.org/wiki/Student%27s_t-distribution#As_the_distribution_of_a_test_statistic).\n",
    "Let $t$ denote the *observed* value of the test statistic (distinguishing it from the random variable $T$).\n",
    "From [a previous article on hypothesis testing](/blog/2019/hypothesis_testing_for_mathematicians), we know that the p-value corresponding to a test that rejects the null hypothesis when the magnitude of the test statistic is sufficiently large is\n",
    "\n",
    "$$\n",
    "\\text{p-value}\n",
    "= \\mathbb{P}(|T| \\geq |t|)\n",
    "= 2 \\mathbb{P}(T \\leq -|t|)\n",
    "= 2 F_{N - 1}(-|t|)\n",
    "$$\n",
    "\n",
    "where the second equality is a consequence of the symmetry of the Student's t-distribution.\n",
    "\n",
    "**Example (Running shoes, cont'd).**\n",
    "Paired times (in minutes) for the two versions of SpeedBoot along with the test statistic ($t$) and p-value are below."
   ]
  },
  {
   "cell_type": "code",
   "execution_count": 146,
   "id": "c4a4d0d0-cffc-4415-b258-7b6e85f79a29",
   "metadata": {
    "editable": true,
    "slideshow": {
     "slide_type": ""
    },
    "tags": [
     "no_input"
    ]
   },
   "outputs": [
    {
     "data": {
      "text/html": [
       "<table>\n",
       "<thead>\n",
       "<tr><th style=\"text-align: right;\">  Runner ($n$)</th><th style=\"text-align: right;\">  SpeedBoot v1.0 Time ($X_n$)</th><th style=\"text-align: right;\">  SpeedBoot v2.0 Time ($Y_n$)</th></tr>\n",
       "</thead>\n",
       "<tbody>\n",
       "<tr><td style=\"text-align: right;\">             0</td><td style=\"text-align: right;\">                        66.99</td><td style=\"text-align: right;\">                        66.81</td></tr>\n",
       "<tr><td style=\"text-align: right;\">             1</td><td style=\"text-align: right;\">                        57.46</td><td style=\"text-align: right;\">                        58.05</td></tr>\n",
       "<tr><td style=\"text-align: right;\">             2</td><td style=\"text-align: right;\">                        69.96</td><td style=\"text-align: right;\">                        68.27</td></tr>\n",
       "<tr><td style=\"text-align: right;\">             3</td><td style=\"text-align: right;\">                        80.93</td><td style=\"text-align: right;\">                        78.86</td></tr>\n",
       "<tr><td style=\"text-align: right;\">             4</td><td style=\"text-align: right;\">                        54.76</td><td style=\"text-align: right;\">                        55.27</td></tr>\n",
       "<tr><td style=\"text-align: right;\">             5</td><td style=\"text-align: right;\">                        55.93</td><td style=\"text-align: right;\">                        53.88</td></tr>\n",
       "<tr><td style=\"text-align: right;\">             6</td><td style=\"text-align: right;\">                        82.68</td><td style=\"text-align: right;\">                        81.25</td></tr>\n",
       "<tr><td style=\"text-align: right;\">             7</td><td style=\"text-align: right;\">                        71.83</td><td style=\"text-align: right;\">                        68.43</td></tr>\n",
       "<tr><td style=\"text-align: right;\">             8</td><td style=\"text-align: right;\">                        52.05</td><td style=\"text-align: right;\">                        49.53</td></tr>\n",
       "<tr><td style=\"text-align: right;\">             9</td><td style=\"text-align: right;\">                        66.73</td><td style=\"text-align: right;\">                        66.54</td></tr>\n",
       "</tbody>\n",
       "</table>"
      ],
      "text/plain": [
       "'<table>\\n<thead>\\n<tr><th style=\"text-align: right;\">  Runner ($n$)</th><th style=\"text-align: right;\">  SpeedBoot v1.0 Time ($X_n$)</th><th style=\"text-align: right;\">  SpeedBoot v2.0 Time ($Y_n$)</th></tr>\\n</thead>\\n<tbody>\\n<tr><td style=\"text-align: right;\">             0</td><td style=\"text-align: right;\">                        66.99</td><td style=\"text-align: right;\">                        66.81</td></tr>\\n<tr><td style=\"text-align: right;\">             1</td><td style=\"text-align: right;\">                        57.46</td><td style=\"text-align: right;\">                        58.05</td></tr>\\n<tr><td style=\"text-align: right;\">             2</td><td style=\"text-align: right;\">                        69.96</td><td style=\"text-align: right;\">                        68.27</td></tr>\\n<tr><td style=\"text-align: right;\">             3</td><td style=\"text-align: right;\">                        80.93</td><td style=\"text-align: right;\">                        78.86</td></tr>\\n<tr><td style=\"text-align: right;\">             4</td><td style=\"text-align: right;\">                        54.76</td><td style=\"text-align: right;\">                        55.27</td></tr>\\n<tr><td style=\"text-align: right;\">             5</td><td style=\"text-align: right;\">                        55.93</td><td style=\"text-align: right;\">                        53.88</td></tr>\\n<tr><td style=\"text-align: right;\">             6</td><td style=\"text-align: right;\">                        82.68</td><td style=\"text-align: right;\">                        81.25</td></tr>\\n<tr><td style=\"text-align: right;\">             7</td><td style=\"text-align: right;\">                        71.83</td><td style=\"text-align: right;\">                        68.43</td></tr>\\n<tr><td style=\"text-align: right;\">             8</td><td style=\"text-align: right;\">                        52.05</td><td style=\"text-align: right;\">                        49.53</td></tr>\\n<tr><td style=\"text-align: right;\">             9</td><td style=\"text-align: right;\">                        66.73</td><td style=\"text-align: right;\">                        66.54</td></tr>\\n</tbody>\\n</table>'"
      ]
     },
     "execution_count": 146,
     "metadata": {},
     "output_type": "execute_result"
    }
   ],
   "source": [
    "np.random.seed(42)\n",
    "N = 10\n",
    "Z = np.random.normal(loc=60.0, scale=15.0, size=N)\n",
    "X = np.round(Z + np.random.normal(loc=0.0, scale=1.0, size=N), decimals=2)\n",
    "Y = np.round(Z + np.random.normal(loc=-1.5, scale=1.0, size=N) + np.random.normal(loc=0.0, scale=1.0, size=N), decimals=2)\n",
    "\n",
    "tabulate(zip(np.arange(N), X, Y), headers=(\"Runner ($n$)\", \"SpeedBoot v1.0 Time ($X_n$)\", \"SpeedBoot v2.0 Time ($Y_n$)\"), tablefmt=\"html\")"
   ]
  },
  {
   "cell_type": "code",
   "execution_count": 134,
   "id": "c4cfea75-8026-49e7-97d1-8fe792327599",
   "metadata": {
    "editable": true,
    "slideshow": {
     "slide_type": ""
    },
    "tags": []
   },
   "outputs": [
    {
     "name": "stdout",
     "output_type": "stream",
     "text": [
      "t=2.9008249215604165, pvalue=0.017571756015627014\n"
     ]
    }
   ],
   "source": [
    "def dep_ttest(X: NDArray, Y: NDArray) -> tuple[float, float]: \n",
    "    \"\"\"Dependent (a.k.a. paired) t-test (should give results identical to `scipy.stats.ttest_rel`).\"\"\"\n",
    "    D = X - Y\n",
    "    N, = D.shape\n",
    "    t = D.mean() / scipy.stats.sem(D)\n",
    "    pvalue = 2.0 * scipy.stats.t.cdf(-np.abs(t), df=N - 1)\n",
    "    return t.item(), pvalue.item()\n",
    "\n",
    "t, pvalue = dep_ttest(X, Y)\n",
    "print(f\"{t=}, {pvalue=}\")"
   ]
  },
  {
   "cell_type": "code",
   "execution_count": 135,
   "id": "9512fc85-b52b-4f32-831a-06f3ad68efbc",
   "metadata": {
    "editable": true,
    "slideshow": {
     "slide_type": ""
    },
    "tags": [
     "no_cell"
    ]
   },
   "outputs": [],
   "source": [
    "expected = scipy.stats.ttest_rel(X, Y)\n",
    "assert np.isclose(expected.statistic, t)\n",
    "assert np.isclose(expected.pvalue, pvalue)"
   ]
  },
  {
   "cell_type": "markdown",
   "id": "009c85ec-0fb4-4c37-859f-cb79a9a31fa8",
   "metadata": {},
   "source": [
    "## Independent (a.k.a. two sample) t-test\n",
    "\n",
    "Given two sets of observations $X_1, \\ldots, X_N$ and $Y_1, \\ldots, Y_M$, an *independent t-test* assumes\n",
    "\n",
    "$$\n",
    "\\begin{align*}\n",
    "X_1, \\ldots, X_N & \\sim \\mathcal{N}(\\mu_X, \\sigma^2) \\\\\n",
    "Y_1, \\ldots, Y_M & \\sim \\mathcal{N}(\\mu_Y, \\sigma^2) \\\\\n",
    "X_1, \\ldots, X_N, Y_1, \\ldots, Y_M & \\text { are mutually independent }\n",
    "\\end{align*}\n",
    "$$\n",
    "\n",
    "and tests the null hypothesis $\\mu_X = \\mu_Y$.\n",
    "\n",
    "*Remark*.\n",
    "In the above, it is assumed that the variance for both populations is the same.\n",
    "[Welch's t-test](https://en.wikipedia.org/wiki/Welch%27s_t-test) relaxes this assumption but is not covered here.\n",
    "\n",
    "The test statistic is\n",
    "\n",
    "$$\n",
    "T = \\frac{\\overline{X} - \\overline{Y}}{s_p \\cdot \\sqrt{\\frac{1}{N} + \\frac{1}{M}}}\n",
    "$$\n",
    "\n",
    "where $\\overline{X}$ and $\\overline{Y}$ are the sample means of the two populations and\n",
    "\n",
    "$$\n",
    "s_p = \\sqrt{ \\frac{\\left(N - 1\\right) s_X^2 + \\left(M - 1\\right) s_Y^2}{N + M - 2} }\n",
    "$$\n",
    "\n",
    "is the pooled standard deviation.\n",
    "Similar to the Bessel corrected standard deviation of the previous section, $s_p^2$ is an unbiased estimate of $\\sigma^2$.\n",
    "It can be shown that $T$ is a Student's t-distribution with $\\nu = N + M - 2$ degrees of freedom.\n",
    "Similar to the previous section, the p-value corresponding to a test that rejects the null hypothesis when the magnitude of the test statistic is sufficiently large is\n",
    "\n",
    "$$\n",
    "\\text{p-value} = 2F_{N + M - 2}(-|t|)\n",
    "$$\n",
    "\n",
    "where $t$ is the observed value of the test statistic.\n",
    "\n",
    "**Example (Running shoes, cont'd).**\n",
    "Continuing with our example, instead of having each runner run with *both*  SpeedBoot v1.0 and v2.0, ShoeScoop could have had each runner run with *either* SpeedBoot v1.0 or v2.0.\n",
    "The results of this alternate experiment along with the test statistic ($t$) and p-value are given below."
   ]
  },
  {
   "cell_type": "code",
   "execution_count": 157,
   "id": "54adb40f-4191-410c-b70b-8b44695f9d24",
   "metadata": {
    "editable": true,
    "slideshow": {
     "slide_type": ""
    },
    "tags": [
     "no_input"
    ]
   },
   "outputs": [
    {
     "data": {
      "text/html": [
       "<table>\n",
       "<thead>\n",
       "<tr><th style=\"text-align: right;\">  SpeedBoot v1.0 Runner ($n$)</th><th style=\"text-align: right;\">  Time ($X_n$)</th><th style=\"text-align: right;\">  SpeedBoot v2.0 Runner ($m$)</th><th style=\"text-align: right;\">  Time ($Y_m$)</th></tr>\n",
       "</thead>\n",
       "<tbody>\n",
       "<tr><td style=\"text-align: right;\">                            0</td><td style=\"text-align: right;\">         66.99</td><td style=\"text-align: right;\">                            0</td><td style=\"text-align: right;\">         79.48</td></tr>\n",
       "<tr><td style=\"text-align: right;\">                            1</td><td style=\"text-align: right;\">         57.46</td><td style=\"text-align: right;\">                            1</td><td style=\"text-align: right;\">         55.93</td></tr>\n",
       "<tr><td style=\"text-align: right;\">                            2</td><td style=\"text-align: right;\">         69.96</td><td style=\"text-align: right;\">                            2</td><td style=\"text-align: right;\">         58.29</td></tr>\n",
       "<tr><td style=\"text-align: right;\">                            3</td><td style=\"text-align: right;\">         80.93</td><td style=\"text-align: right;\">                            3</td><td style=\"text-align: right;\">         37.29</td></tr>\n",
       "<tr><td style=\"text-align: right;\">                            4</td><td style=\"text-align: right;\">         54.76</td><td style=\"text-align: right;\">                            4</td><td style=\"text-align: right;\">         48.36</td></tr>\n",
       "<tr><td style=\"text-align: right;\">                            5</td><td style=\"text-align: right;\">         55.93</td><td style=\"text-align: right;\">                            5</td><td style=\"text-align: right;\">         58.84</td></tr>\n",
       "<tr><td style=\"text-align: right;\">                            6</td><td style=\"text-align: right;\">         82.68</td><td style=\"text-align: right;\">                            6</td><td style=\"text-align: right;\">         41.39</td></tr>\n",
       "<tr><td style=\"text-align: right;\">                            7</td><td style=\"text-align: right;\">         71.83</td><td style=\"text-align: right;\">                            7</td><td style=\"text-align: right;\">         64.89</td></tr>\n",
       "<tr><td style=\"text-align: right;\">                            8</td><td style=\"text-align: right;\">         52.05</td><td style=\"text-align: right;\">                            8</td><td style=\"text-align: right;\">         49.64</td></tr>\n",
       "<tr><td style=\"text-align: right;\">                            9</td><td style=\"text-align: right;\">         66.73</td><td style=\"text-align: right;\">                            9</td><td style=\"text-align: right;\">         54   </td></tr>\n",
       "<tr><td style=\"text-align: right;\">                             </td><td style=\"text-align: right;\">              </td><td style=\"text-align: right;\">                           10</td><td style=\"text-align: right;\">         49.15</td></tr>\n",
       "<tr><td style=\"text-align: right;\">                             </td><td style=\"text-align: right;\">              </td><td style=\"text-align: right;\">                           11</td><td style=\"text-align: right;\">         84.87</td></tr>\n",
       "<tr><td style=\"text-align: right;\">                             </td><td style=\"text-align: right;\">              </td><td style=\"text-align: right;\">                           12</td><td style=\"text-align: right;\">         57.58</td></tr>\n",
       "</tbody>\n",
       "</table>"
      ],
      "text/plain": [
       "'<table>\\n<thead>\\n<tr><th style=\"text-align: right;\">  SpeedBoot v1.0 Runner ($n$)</th><th style=\"text-align: right;\">  Time ($X_n$)</th><th style=\"text-align: right;\">  SpeedBoot v2.0 Runner ($m$)</th><th style=\"text-align: right;\">  Time ($Y_m$)</th></tr>\\n</thead>\\n<tbody>\\n<tr><td style=\"text-align: right;\">                            0</td><td style=\"text-align: right;\">         66.99</td><td style=\"text-align: right;\">                            0</td><td style=\"text-align: right;\">         79.48</td></tr>\\n<tr><td style=\"text-align: right;\">                            1</td><td style=\"text-align: right;\">         57.46</td><td style=\"text-align: right;\">                            1</td><td style=\"text-align: right;\">         55.93</td></tr>\\n<tr><td style=\"text-align: right;\">                            2</td><td style=\"text-align: right;\">         69.96</td><td style=\"text-align: right;\">                            2</td><td style=\"text-align: right;\">         58.29</td></tr>\\n<tr><td style=\"text-align: right;\">                            3</td><td style=\"text-align: right;\">         80.93</td><td style=\"text-align: right;\">                            3</td><td style=\"text-align: right;\">         37.29</td></tr>\\n<tr><td style=\"text-align: right;\">                            4</td><td style=\"text-align: right;\">         54.76</td><td style=\"text-align: right;\">                            4</td><td style=\"text-align: right;\">         48.36</td></tr>\\n<tr><td style=\"text-align: right;\">                            5</td><td style=\"text-align: right;\">         55.93</td><td style=\"text-align: right;\">                            5</td><td style=\"text-align: right;\">         58.84</td></tr>\\n<tr><td style=\"text-align: right;\">                            6</td><td style=\"text-align: right;\">         82.68</td><td style=\"text-align: right;\">                            6</td><td style=\"text-align: right;\">         41.39</td></tr>\\n<tr><td style=\"text-align: right;\">                            7</td><td style=\"text-align: right;\">         71.83</td><td style=\"text-align: right;\">                            7</td><td style=\"text-align: right;\">         64.89</td></tr>\\n<tr><td style=\"text-align: right;\">                            8</td><td style=\"text-align: right;\">         52.05</td><td style=\"text-align: right;\">                            8</td><td style=\"text-align: right;\">         49.64</td></tr>\\n<tr><td style=\"text-align: right;\">                            9</td><td style=\"text-align: right;\">         66.73</td><td style=\"text-align: right;\">                            9</td><td style=\"text-align: right;\">         54   </td></tr>\\n<tr><td style=\"text-align: right;\">                             </td><td style=\"text-align: right;\">              </td><td style=\"text-align: right;\">                           10</td><td style=\"text-align: right;\">         49.15</td></tr>\\n<tr><td style=\"text-align: right;\">                             </td><td style=\"text-align: right;\">              </td><td style=\"text-align: right;\">                           11</td><td style=\"text-align: right;\">         84.87</td></tr>\\n<tr><td style=\"text-align: right;\">                             </td><td style=\"text-align: right;\">              </td><td style=\"text-align: right;\">                           12</td><td style=\"text-align: right;\">         57.58</td></tr>\\n</tbody>\\n</table>'"
      ]
     },
     "execution_count": 157,
     "metadata": {},
     "output_type": "execute_result"
    }
   ],
   "source": [
    "np.random.seed(42)\n",
    "N = 10\n",
    "M = 13\n",
    "X = np.round(np.random.normal(loc=60.0, scale=15.0, size=N) + np.random.normal(loc=0.0, scale=1.0, size=N), decimals=2)\n",
    "Y = np.round(np.random.normal(loc=58.5, scale=(15.0**2+1.0**2)**0.5, size=M) + np.random.normal(loc=0.0, scale=1.0, size=M), decimals=2)\n",
    "\n",
    "tabulate(itertools.zip_longest(np.arange(N), X, np.arange(M), Y), headers=(\"SpeedBoot v1.0 Runner ($n$)\", \"Time ($X_n$)\", \"SpeedBoot v2.0 Runner ($m$)\", \"Time ($Y_m$)\"), tablefmt=\"html\")"
   ]
  },
  {
   "cell_type": "code",
   "execution_count": 158,
   "id": "3eb8df82-45cb-4edf-8694-ce92da0973f5",
   "metadata": {
    "editable": true,
    "slideshow": {
     "slide_type": ""
    },
    "tags": []
   },
   "outputs": [
    {
     "name": "stdout",
     "output_type": "stream",
     "text": [
      "t=1.7312949168038736, pvalue=0.09806645977709329\n"
     ]
    }
   ],
   "source": [
    "def indep_ttest(X: NDArray, Y: NDArray) -> tuple[float, float]:\n",
    "    \"\"\"Independent (a.k.a. two sample) t-test (should give results identical to `scipy.stats.ttest_ind`).\"\"\"\n",
    "    N, = X.shape\n",
    "    M, = Y.shape\n",
    "    s_p = (((N - 1) * X.std(ddof=1)**2 + (M - 1) * Y.std(ddof=1)**2) / (N + M - 2))**0.5\n",
    "    t = (np.mean(X) - np.mean(Y)) / (s_p * (1.0 / N + 1.0 / M)**0.5)\n",
    "    pvalue = 2.0 * scipy.stats.t.cdf(-np.abs(t), df=N + M - 2)\n",
    "    return t.item(), pvalue.item()\n",
    "\n",
    "t, pvalue = indep_ttest(X, Y)\n",
    "print(f\"{t=}, {pvalue=}\")"
   ]
  },
  {
   "cell_type": "code",
   "execution_count": 159,
   "id": "78ec62da-d593-4176-a6b3-a0312f01701a",
   "metadata": {
    "editable": true,
    "slideshow": {
     "slide_type": ""
    },
    "tags": [
     "no_cell"
    ]
   },
   "outputs": [],
   "source": [
    "expected = scipy.stats.ttest_ind(X, Y)\n",
    "assert np.isclose(expected.statistic, t)\n",
    "assert np.isclose(expected.pvalue, pvalue)"
   ]
  },
  {
   "cell_type": "markdown",
   "id": "4bcbd7c8-1e42-42f9-bb11-359e7c01eeee",
   "metadata": {},
   "source": [
    "*Remark*.\n",
    "If we are in a situation where the assumptions of a paired t-test are satisfied, we should always opt for the paired t-test over the independent t-test as the latter is expected to produce a larger p-value (thereby making it harder to reject the null hypothesis).\n",
    "The reason for this is intuitive: in this scenario, applying the independent t-test is akin to discarding any information about which samples are paired."
   ]
  },
  {
   "cell_type": "markdown",
   "id": "a5ae9733-dea9-4147-904c-0e8ae1ae8be8",
   "metadata": {
    "editable": true,
    "slideshow": {
     "slide_type": ""
    },
    "tags": []
   },
   "source": [
    "## One sample t-test\n",
    "\n",
    "Given observations $X_1, \\ldots, X_N$, a *one sample t-test* assumes\n",
    "\n",
    "$$\n",
    "X_1, \\ldots, X_N \\sim \\mathcal{N}(\\mu, \\sigma^2) \\text{ are i.i.d.}\n",
    "$$\n",
    "\n",
    "and tests the null hypothesis $\\mu = \\mu_0$ for some particular choice of $\\mu_0$.\n",
    "\n",
    "This test reduces to the paired t-test with $Y_1 = \\cdots = Y_M = \\mu_0$ and as such, we omit the analysis here."
   ]
  },
  {
   "cell_type": "code",
   "execution_count": 142,
   "id": "dfcb2c88-fe01-4bab-84ef-727b4c1b0869",
   "metadata": {
    "editable": true,
    "slideshow": {
     "slide_type": ""
    },
    "tags": []
   },
   "outputs": [],
   "source": [
    "def onesamp_ttest(X: NDArray, mean: float) -> tuple[float, float]: \n",
    "    \"\"\"One sample t-test (should give results identical to `scipy.stats.ttest_1samp`).\"\"\"\n",
    "    return dep_ttest(X, np.full_like(X, mean))"
   ]
  },
  {
   "cell_type": "code",
   "execution_count": 141,
   "id": "eaad9815-6b4f-4fda-af6f-7e7dbc4ef8a2",
   "metadata": {
    "editable": true,
    "slideshow": {
     "slide_type": ""
    },
    "tags": [
     "no_cell"
    ]
   },
   "outputs": [],
   "source": [
    "np.random.seed(42)\n",
    "mean = 1.0\n",
    "X = np.random.randn(20) + mean\n",
    "\n",
    "t, pvalue = onesamp_ttest(X, mean)\n",
    "\n",
    "expected = scipy.stats.ttest_1samp(X, mean)\n",
    "assert np.isclose(expected.statistic, t)\n",
    "assert np.isclose(expected.pvalue, pvalue)"
   ]
  }
 ],
 "metadata": {
  "kernelspec": {
   "display_name": "Python 3 (ipykernel)",
   "language": "python",
   "name": "python3"
  },
  "language_info": {
   "codemirror_mode": {
    "name": "ipython",
    "version": 3
   },
   "file_extension": ".py",
   "mimetype": "text/x-python",
   "name": "python",
   "nbconvert_exporter": "python",
   "pygments_lexer": "ipython3",
   "version": "3.12.7"
  }
 },
 "nbformat": 4,
 "nbformat_minor": 5
}
