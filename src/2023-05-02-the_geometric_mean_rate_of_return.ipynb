{
 "cells": [
  {
   "cell_type": "raw",
   "id": "1232dbbd-51f0-44d4-9793-ecbdea8c4254",
   "metadata": {},
   "source": [
    "---\n",
    "date: 2023-05-02 12:00:00-0800\n",
    "layout: post\n",
    "title: The geometric mean rate of return\n",
    "hidden: true\n",
    "---"
   ]
  },
  {
   "cell_type": "markdown",
   "id": "85fa715b",
   "metadata": {},
   "source": [
    "Consider a horizon of disjoint periods labelled $1$ through $N$.\n",
    "On the entire horizon, an asset with a rate of return $r_n$ on the $n$-th period has a *geometric mean rate of return* of\n",
    "\\begin{equation}\n",
    "\\overline{r} = \\left( \\prod_{n = 1}^N \\left(1 + r_n\\right) \\right)^{1 / N} - 1.\n",
    "\\end{equation}\n",
    "Note in particular that\n",
    "\\begin{equation}\n",
    "\\left(1 + \\overline{r}\\right)^N = \\prod_{n = 1}^N \\left(1 + r_n\\right).\n",
    "\\end{equation}\n",
    "In other words, a hypothetical asset whose rate of return is equal to $\\overline{r}$ on all $N$ periods yields the same return (over the horizon) as the original asset."
   ]
  }
 ],
 "metadata": {
  "kernelspec": {
   "display_name": "Python 3 (ipykernel)",
   "language": "python",
   "name": "python3"
  },
  "language_info": {
   "codemirror_mode": {
    "name": "ipython",
    "version": 3
   },
   "file_extension": ".py",
   "mimetype": "text/x-python",
   "name": "python",
   "nbconvert_exporter": "python",
   "pygments_lexer": "ipython3",
   "version": "3.11.3"
  }
 },
 "nbformat": 4,
 "nbformat_minor": 5
}
