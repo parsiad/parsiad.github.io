{
 "cells": [
  {
   "cell_type": "raw",
   "id": "adce9029-68e5-4352-803a-66a60e49f9bc",
   "metadata": {},
   "source": [
    "---\n",
    "date: 2016-02-02 12:00:00-0800\n",
    "layout: post\n",
    "redirect_from:\n",
    "  - /blog/2016/octave-financial-0-5-0-released/\n",
    "title: Octave Financial 0.5.0 released\n",
    "---"
   ]
  },
  {
   "cell_type": "markdown",
   "id": "60b74134-ca0d-4c51-b32d-ac37d2c6d60f",
   "metadata": {},
   "source": [
    "I am happy to announce the release of the GNU Octave Financial package version 0.5.0. This is the *first* release since I took on the role of maintainer."
   ]
  },
  {
   "cell_type": "markdown",
   "id": "4431e877-40af-4511-8d9f-e6df049623cf",
   "metadata": {},
   "source": [
    "If you do not already have GNU Octave, you can [grab a free copy here](https://www.gnu.org/software/octave/download.html)."
   ]
  },
  {
   "cell_type": "markdown",
   "id": "2346d933-5487-4793-b7a7-b4c6280a67b6",
   "metadata": {},
   "source": [
    "To install the package, launch Octave and run the following commands:"
   ]
  },
  {
   "cell_type": "markdown",
   "id": "fbe116d4-bc72-45d0-a977-56de978ccf12",
   "metadata": {},
   "source": [
    "```\n",
    "pkg install -forge io\n",
    "pkg install -forge financial\n",
    "```"
   ]
  },
  {
   "cell_type": "markdown",
   "id": "8de31aba-756e-43d1-ba8e-9e8437e2b148",
   "metadata": {},
   "source": [
    "Perhaps the most exciting addition in this version is the Monte Carlo simulation framework, which is significantly faster than its MATLAB counterpart. A brief tutorial (along with benchmarking information) are available in [a previous post](/blog/2015/sdes_and_monte_carlo_in_octave_financial). Other additions include Black-Scholes options and greeks valuation routines, implied volatility calculations, and general bug fixes. Some useful links for GNU Octave Financial are below:"
   ]
  },
  {
   "cell_type": "markdown",
   "id": "f8da6102-b5cf-4394-a578-0a19795c9bf3",
   "metadata": {},
   "source": [
    "* [Home page](http://octave.sourceforge.net/financial/index.html)\n",
    "* [Documentation](http://octave.sourceforge.net/financial/overview.html)\n",
    "* [News](http://octave.sourceforge.net/financial/NEWS.html)"
   ]
  }
 ],
 "metadata": {
  "kernelspec": {
   "display_name": "Python 3 (ipykernel)",
   "language": "python",
   "name": "python3"
  },
  "language_info": {
   "codemirror_mode": {
    "name": "ipython",
    "version": 3
   },
   "file_extension": ".py",
   "mimetype": "text/x-python",
   "name": "python",
   "nbconvert_exporter": "python",
   "pygments_lexer": "ipython3",
   "version": "3.8.12"
  }
 },
 "nbformat": 4,
 "nbformat_minor": 5
}
