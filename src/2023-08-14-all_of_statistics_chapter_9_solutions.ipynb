{
 "cells": [
  {
   "cell_type": "raw",
   "id": "43183327-9996-4731-a361-78d852a52509",
   "metadata": {},
   "source": [
    "---\n",
    "date: 2023-08-13 12:00:00-0800\n",
    "layout: post\n",
    "redirect_from:\n",
    "  - /blog/2020/all-of-statistics-chapter-09/\n",
    "title: All of Statistics Chapter 9 Solutions\n",
    "---"
   ]
  },
  {
   "cell_type": "code",
   "execution_count": 3,
   "id": "71aec1bb-0b9f-4ac0-9084-b9b04b0c365e",
   "metadata": {
    "editable": true,
    "slideshow": {
     "slide_type": ""
    },
    "tags": [
     "no_cell"
    ]
   },
   "outputs": [],
   "source": [
    "import matplotlib as mpl\n",
    "import matplotlib.pyplot as plt\n",
    "import numpy as np\n",
    "import seaborn as sns\n",
    "import scipy.stats\n",
    "from tabulate import tabulate\n",
    "\n",
    "mpl.style.use(\"fivethirtyeight\")"
   ]
  },
  {
   "cell_type": "markdown",
   "id": "15953adb-560d-48de-8f4e-fab411490fca",
   "metadata": {},
   "source": [
    "## 1."
   ]
  },
  {
   "cell_type": "markdown",
   "id": "81b83ce6-b6b3-4533-a61e-107b90c602da",
   "metadata": {},
   "source": [
    "Let $\\tilde{\\theta}$ be the method of moments estimator (MME) for a parametric model with two parameters.\n",
    "Denote by $\\hat{F}$ the empirical distribution.\n",
    "By definition,\n",
    "\n",
    "$$\n",
    "\\begin{align*}\n",
    "\\mathbb{E}_{\\tilde{\\theta}}X & = \\mathbb{E}_{\\hat{F}}X \\\\\n",
    "\\mathbb{E}_{\\tilde{\\theta}}[X^{2}] & = \\mathbb{E}_{\\hat{F}}[X^{2}].\n",
    "\\end{align*}\n",
    "$$\n",
    "\n",
    "Squaring the first equation and subtracting it from the second, we can rewrite the above equivalently as\n",
    "\n",
    "$$\n",
    "\\begin{align*}\n",
    "\\mathbb{E}_{\\tilde{\\theta}}X & =\\mathbb{E}_{\\hat{F}}X\\\\\n",
    "\\mathbb{V}_{\\tilde{\\theta}}X & =\\mathbb{V}_{\\hat{F}}X.\n",
    "\\end{align*}\n",
    "$$\n",
    "\n",
    "In the special case of the gamma distribution, $\\tilde{\\theta}=(\\tilde{\\alpha},\\tilde{\\beta})$ satisfies\n",
    "\n",
    "$$\n",
    "\\begin{align*}\n",
    "\\tilde{\\alpha}\\tilde{\\beta} & =\\mathbb{E}_{\\hat{F}}X\\\\\n",
    "\\tilde{\\alpha}\\tilde{\\beta}^{2} & =\\mathbb{V}_{\\hat{F}}X\n",
    "\\end{align*}\n",
    "$$\n",
    "\n",
    "and hence \n",
    "\n",
    "$$\n",
    "\\begin{align*}\n",
    "\\tilde{\\alpha} & =\\frac{\\left(\\mathbb{E}_{\\hat{F}}X\\right)^{2}}{\\mathbb{V}_{\\hat{F}}X}\\\\\n",
    "\\tilde{\\beta} & =\\frac{\\mathbb{V}_{\\hat{F}}X}{\\mathbb{E}_{\\hat{F}}X}.\n",
    "\\end{align*}\n",
    "$$"
   ]
  },
  {
   "cell_type": "code",
   "execution_count": 6,
   "id": "72d3e49d-450f-46aa-b99c-a599cfddfe6e",
   "metadata": {
    "editable": true,
    "slideshow": {
     "slide_type": ""
    },
    "tags": [
     "no_cell"
    ]
   },
   "outputs": [],
   "source": [
    "shape = 0.3\n",
    "scale = 0.7\n",
    "\n",
    "X = np.random.gamma(shape=shape, scale=scale, size=1_000_000)\n",
    "mome_shape = X.mean()**2 / X.var()\n",
    "mome_scale = X.var() / X.mean()\n",
    "\n",
    "np.testing.assert_almost_equal(mome_shape, shape, decimal=2)\n",
    "np.testing.assert_almost_equal(mome_scale, scale, decimal=2)"
   ]
  },
  {
   "cell_type": "markdown",
   "id": "eb2d5450-265b-4836-a06f-5deb66e286a8",
   "metadata": {},
   "source": [
    "## 2."
   ]
  },
  {
   "cell_type": "markdown",
   "id": "df2c5211-1da9-4c92-a281-0fb90b8b4fa3",
   "metadata": {},
   "source": [
    "(a) Let $\\tilde{\\theta}=(\\tilde{a},\\tilde{b})$ be the MME. Then,\n",
    "\n",
    "$$\n",
    "\\begin{align*}\n",
    "\\frac{\\tilde{a}+\\tilde{b}}{2} & =\\mathbb{E}_{\\hat{F}}X\\\\\n",
    "\\frac{1}{12}\\left(\\tilde{b}-\\tilde{a}\\right)^{2} & =\\mathbb{V}_{\\hat{F}}X.\n",
    "\\end{align*}\n",
    "$$\n",
    "\n",
    "Let $\\tilde{c}=\\tilde{b}-\\tilde{a}$ so that\n",
    "\n",
    "$$\n",
    "\\tilde{c}=2\\sqrt{3}\\operatorname{Std}_{\\hat{F}}X.\n",
    "$$\n",
    "\n",
    "Since $\\tilde{a}+\\tilde{b}=2\\tilde{a}+\\tilde{c}$ and $\\tilde{a}+\\tilde{b}=2\\tilde{b}-\\tilde{c}$,\n",
    "\n",
    "$$\n",
    "\\begin{align*}\n",
    "\\tilde{a} & =\\mathbb{E}_{\\hat{F}}X-\\sqrt{3}\\operatorname{Std}_{\\hat{F}}X\\\\\n",
    "\\tilde{b} & =\\mathbb{E}_{\\hat{F}}X+\\sqrt{3}\\operatorname{Std}_{\\hat{F}}X.\n",
    "\\end{align*}\n",
    "$$"
   ]
  },
  {
   "cell_type": "code",
   "execution_count": 7,
   "id": "af859094-a373-4ddb-a26d-1c0fe1dbde31",
   "metadata": {
    "editable": true,
    "slideshow": {
     "slide_type": ""
    },
    "tags": [
     "no_cell"
    ]
   },
   "outputs": [],
   "source": [
    "a = 0.3\n",
    "b = 1.2\n",
    "\n",
    "X = np.random.uniform(low=a, high=b, size=1_000_000)\n",
    "mome_a = X.mean() - np.sqrt(3) * X.std()\n",
    "mome_b = X.mean() + np.sqrt(3) * X.std()\n",
    "\n",
    "np.testing.assert_almost_equal(mome_a, a, decimal=2)\n",
    "np.testing.assert_almost_equal(mome_b, b, decimal=2)"
   ]
  },
  {
   "cell_type": "markdown",
   "id": "ba548a23-a788-4538-917e-27367f6922a7",
   "metadata": {},
   "source": [
    "(b) The likelihood is\n",
    "\n",
    "$$\n",
    "\\mathcal{L}(a,b)\n",
    "=\\prod_{n}f_{a,b}(X_{n})\n",
    "=\\frac{1}{\\left(b-a\\right)^{N}}\\prod_{n}I_{(a, b)}(X_{n})\n",
    "$$\n",
    "\n",
    "and hence the MLE is\n",
    "\n",
    "$$\n",
    "\\begin{align*}\n",
    "\\hat{a} & =\\min_{n}X_{n}\\\\\n",
    "\\hat{b} & =\\max_{n}X_{n}.\n",
    "\\end{align*}\n",
    "$$"
   ]
  },
  {
   "cell_type": "markdown",
   "id": "ecb3525c-72f1-4a99-a6ad-9d5d2141a1c6",
   "metadata": {},
   "source": [
    "(c) By equivariance, the MLE of $\\tau=(a+b)/2$ is $\\hat{\\tau}=(\\hat{a}+\\hat{b})/2$."
   ]
  },
  {
   "cell_type": "markdown",
   "id": "cf0f3939-ed92-45a3-a40e-0a888e768ee6",
   "metadata": {},
   "source": [
    "(d) The nonparametric plug-in estimator $\\tilde{\\tau}$ of $\\tau$ is the sample mean.\n",
    "Since this estimator is unbiased,\n",
    "\n",
    "$$\n",
    "\\operatorname{MSE}\\tilde{\\tau}\n",
    "=\\mathbb{V}\\tilde{\\tau}\n",
    "=\\frac{1}{n}\\mathbb{V}X_{1}\n",
    "=\\frac{1}{12n}\\left(b-a\\right)^{2}.\n",
    "$$"
   ]
  },
  {
   "cell_type": "code",
   "execution_count": 5,
   "id": "49f96cf3-a0d0-4665-b977-c41988b53fa7",
   "metadata": {},
   "outputs": [
    {
     "data": {
      "text/html": [
       "<table>\n",
       "<thead>\n",
       "<tr><th>Estimator                      </th><th style=\"text-align: right;\">      MSE</th></tr>\n",
       "</thead>\n",
       "<tbody>\n",
       "<tr><td>Nonparametric plug-in estimator</td><td style=\"text-align: right;\">0.0333333</td></tr>\n",
       "<tr><td>MLE                            </td><td style=\"text-align: right;\">0.0151677</td></tr>\n",
       "</tbody>\n",
       "</table>"
      ],
      "text/plain": [
       "'<table>\\n<thead>\\n<tr><th>Estimator                      </th><th style=\"text-align: right;\">      MSE</th></tr>\\n</thead>\\n<tbody>\\n<tr><td>Nonparametric plug-in estimator</td><td style=\"text-align: right;\">0.0333333</td></tr>\\n<tr><td>MLE                            </td><td style=\"text-align: right;\">0.0151677</td></tr>\\n</tbody>\\n</table>'"
      ]
     },
     "execution_count": 5,
     "metadata": {},
     "output_type": "execute_result"
    }
   ],
   "source": [
    "n = 10\n",
    "b = 3\n",
    "a = 1\n",
    "confidence = 0.95\n",
    "\n",
    "sample_mean_mse = (b - a)**2 / (12. * n)\n",
    "\n",
    "X = np.random.uniform(low=a, high=b, size=(1_000_000, n))\n",
    "τ = (a + b) / 2.\n",
    "mle = (X.min(axis=1) + X.max(axis=1)) / 2.\n",
    "mle_squared_error = ((mle - τ)**2)\n",
    "mle_mse = mle_squared_error.mean()\n",
    "\n",
    "tabulate(\n",
    "    [\n",
    "        [\"Nonparametric plug-in estimator\", sample_mean_mse],\n",
    "        [\"MLE\", mle_mse]\n",
    "    ],\n",
    "    headers=(\"Estimator\", \"MSE\"),\n",
    "    tablefmt=\"html\",\n",
    ")"
   ]
  },
  {
   "cell_type": "markdown",
   "id": "03e674cf-cce7-4c2e-937d-601dd9b0f1c0",
   "metadata": {},
   "source": [
    "## 3."
   ]
  },
  {
   "cell_type": "markdown",
   "id": "ede4e73a-abb5-4e64-b3df-0f047d5caa2b",
   "metadata": {},
   "source": [
    "(a) Let $Z$ be a standard normal random variable and $\\Phi$ be its CDF.\n",
    "Then,\n",
    "\n",
    "$$\n",
    "0.95=\\mathbb{P}(X<\\tau)=\\mathbb{P}(Z<\\left(\\tau-\\mu\\right)/\\sigma)=F_{Z}(\\left(\\tau-\\mu\\right)/\\sigma).\n",
    "$$\n",
    "\n",
    "Therefore, defining\n",
    "\n",
    "$$\n",
    "g(\\mu,\\sigma)=\\Phi^{-1}(0.95)\\sigma+\\mu,\n",
    "$$\n",
    "\n",
    "we have that $\\tau=g(\\mu,\\sigma)$.\n",
    "The MLE for the mean and standard deviation of a normal distribution are\n",
    "\n",
    "$$\n",
    "\\begin{align*}\n",
    "\\hat{\\mu}&=\\mathbb{E}_{\\hat{F}}X \\\\\n",
    "\\hat{\\sigma}&=\\operatorname{Std}_{\\hat{F}}X.\n",
    "\\end{align*}\n",
    "$$\n",
    "\n",
    "By equivariance, the MLE for $\\tau$ is $\\hat{\\tau}=g(\\hat{\\mu},\\hat{\\sigma})$."
   ]
  },
  {
   "cell_type": "markdown",
   "id": "0764e876-966b-4d36-ac74-5ef70f533394",
   "metadata": {},
   "source": [
    "(b) Since $\\hat{\\tau}$ is an MLE,\n",
    "\n",
    "$$\n",
    "\\frac{\\hat{\\tau}-\\tau}{\\operatorname{se}(\\hat{\\tau})}\\rightsquigarrow N(0,1).\n",
    "$$\n",
    "\n",
    "Since\n",
    "\n",
    "$$\n",
    "\\nabla g=\\begin{pmatrix}1\\\\\n",
    "\\Phi^{-1}(0.95)\n",
    "\\end{pmatrix},\n",
    "$$\n",
    "\n",
    "the multiparameter delta method yields\n",
    "\n",
    "$$\n",
    "\\begin{align*}\n",
    "\\operatorname{se}(\\hat{\\tau}) & =\\sqrt{\\begin{pmatrix}1\\\\\n",
    "\\Phi^{-1}(0.95)\n",
    "\\end{pmatrix}^{\\intercal}\\frac{1}{n}\\begin{pmatrix}\\sigma^{2}\\\\\n",
    " & \\frac{\\sigma^{2}}{2}\n",
    "\\end{pmatrix}\\begin{pmatrix}1\\\\\n",
    "\\Phi^{-1}(0.95)\n",
    "\\end{pmatrix}}\\\\\n",
    " & =\\sigma\\sqrt{\\frac{1}{n}+\\frac{1}{2n}\\Phi^{-1}(0.95)^{2}}.\n",
    "\\end{align*}\n",
    "$$\n",
    "\n",
    "An approximate $1-\\alpha$ confidence interval is $\\hat{\\tau}\\pm z_{\\alpha/2}\\cdot\\widehat{\\operatorname{se}}(\\hat{\\tau})$ where $z_{\\alpha/2}=\\Phi^{-1}(1-\\alpha/2)$."
   ]
  },
  {
   "cell_type": "markdown",
   "id": "a6d55660-bc16-449c-afcf-7b3cd1b3877b",
   "metadata": {},
   "source": [
    "(c)"
   ]
  },
  {
   "cell_type": "code",
   "execution_count": 4,
   "id": "bc0cd999-5857-4b28-b854-3c8f216cf34c",
   "metadata": {},
   "outputs": [],
   "source": [
    "X = np.array([3.23, -2.50,  1.88, -0.68,  4.43, 0.17,\n",
    "              1.03, -0.07, -0.01,  0.76,  1.76, 3.18,\n",
    "              0.33, -0.31,  0.30, -0.61,  1.52, 5.43,\n",
    "              1.54,  2.28,  0.42,  2.33, -1.03, 4.00,\n",
    "              0.39])"
   ]
  },
  {
   "cell_type": "code",
   "execution_count": 7,
   "id": "582c337f-c949-4df8-94d2-04509ba4539e",
   "metadata": {},
   "outputs": [
    {
     "data": {
      "text/plain": [
       "4.180410658803283"
      ]
     },
     "execution_count": 7,
     "metadata": {},
     "output_type": "execute_result"
    }
   ],
   "source": [
    "mle_τ = scipy.stats.norm.ppf(0.95) * X.std() + X.mean()\n",
    "mle_τ"
   ]
  },
  {
   "cell_type": "code",
   "execution_count": 8,
   "id": "8cb67ace-ca8b-4582-8f46-6f3268ec8a9d",
   "metadata": {},
   "outputs": [
    {
     "data": {
      "text/html": [
       "<table>\n",
       "<thead>\n",
       "<tr><th>Estimator           </th><th style=\"text-align: right;\">      SE</th></tr>\n",
       "</thead>\n",
       "<tbody>\n",
       "<tr><td>Delta Method        </td><td style=\"text-align: right;\">0.55758 </td></tr>\n",
       "<tr><td>Parametric Bootstrap</td><td style=\"text-align: right;\">0.555842</td></tr>\n",
       "</tbody>\n",
       "</table>"
      ],
      "text/plain": [
       "'<table>\\n<thead>\\n<tr><th>Estimator           </th><th style=\"text-align: right;\">      SE</th></tr>\\n</thead>\\n<tbody>\\n<tr><td>Delta Method        </td><td style=\"text-align: right;\">0.55758 </td></tr>\\n<tr><td>Parametric Bootstrap</td><td style=\"text-align: right;\">0.555842</td></tr>\\n</tbody>\\n</table>'"
      ]
     },
     "execution_count": 8,
     "metadata": {},
     "output_type": "execute_result"
    }
   ],
   "source": [
    "delta_method_se = X.std() * np.sqrt((1. + 0.5 * scipy.stats.norm.ppf(0.95)**2) / X.size)\n",
    "\n",
    "bootstrap_X = X.std() * np.random.randn(1_000_000, X.size) + X.mean()\n",
    "bootstrap_se = (scipy.stats.norm.ppf(0.95) * bootstrap_X.std(axis=1) + bootstrap_X.mean(axis=1)).std()\n",
    "\n",
    "tabulate(\n",
    "    [\n",
    "        [\"Delta Method\", delta_method_se],\n",
    "        [\"Parametric Bootstrap\", bootstrap_se]\n",
    "    ],\n",
    "    headers=(\"Estimator\", \"SE\"),\n",
    "    tablefmt=\"html\",\n",
    ")"
   ]
  },
  {
   "cell_type": "markdown",
   "id": "a74d2595-73a5-40b1-a890-b7c2b5f2dc71",
   "metadata": {},
   "source": [
    "## 4."
   ]
  },
  {
   "cell_type": "markdown",
   "id": "76a53e04-040c-4a60-b12a-3dcc5a5bca5f",
   "metadata": {},
   "source": [
    "By our findings in Question 2 Part (b), the MLE for $\\theta$ is $\\hat{\\theta}=\\max_{i}X_{i}$.\n",
    "Since $F_{\\hat{\\theta}}(\\theta+\\epsilon)=1$,\n",
    "\n",
    "$$\n",
    "\\mathbb{P}(\\left|\\hat{\\theta}-\\theta\\right|>\\epsilon)=1-\\mathbb{P}(\\theta-\\epsilon\\leq\\hat{\\theta}\\leq\\theta+\\epsilon)=1-F_{\\hat{\\theta}}(\\theta+\\epsilon)+F_{\\hat{\\theta}}(\\theta-\\epsilon)=F_{\\hat{\\theta}}(\\theta-\\epsilon).\n",
    "$$\n",
    "\n",
    "Since $F_{\\hat{\\theta}}=F_{X_{1}}^{n}$ and $F_{X_{1}}(\\theta-\\epsilon)<1$,\n",
    "it follows that the above converges to zero as $n\\rightarrow\\infty$."
   ]
  },
  {
   "cell_type": "markdown",
   "id": "bd72068b-35ad-447c-bbbb-775735ba311f",
   "metadata": {},
   "source": [
    "## 5."
   ]
  },
  {
   "cell_type": "markdown",
   "id": "9c335ea3-8c63-460e-b82c-02213dd4be46",
   "metadata": {},
   "source": [
    "The score function for the Poisson density is\n",
    "$$\n",
    "s(X;\\lambda)=\\frac{\\partial\\log f(X;\\lambda)}{\\partial\\lambda}=\\frac{\\partial}{\\partial\\lambda}\\left[X\\log\\lambda-\\lambda-\\log(X!)\\right]=\\frac{X}{\\lambda}-1.\n",
    "$$\n",
    "It follows that the derivative of the log-likelihood $\\ell$ is\n",
    "$$\n",
    "\\ell^{\\prime}(\\lambda)=\\sum_{i}s(X_{i};\\lambda)=-n+\\frac{1}{\\lambda}\\sum_{i}X_{i}.\n",
    "$$\n",
    "Therefore, the MLE is\n",
    "$$\n",
    "\\hat{\\lambda}=\\frac{1}{n}\\sum_{i}X_{i}.\n",
    "$$\n",
    "This happens to be the same as the MME since $\\mathbb{E}X_{1}=\\lambda$.\n",
    "The Fisher information is\n",
    "$$\n",
    "I_{n}(\\lambda)=nI(\\lambda)=n\\mathbb{V}(s(X_{1};\\lambda))=\\frac{n}{\\lambda}.\n",
    "$$"
   ]
  },
  {
   "cell_type": "markdown",
   "id": "ac04370e-213c-43ed-9937-29f2f1f4537f",
   "metadata": {},
   "source": [
    "## 6."
   ]
  },
  {
   "cell_type": "markdown",
   "id": "f989848b-fddd-423a-88b1-ebaf03acaf56",
   "metadata": {},
   "source": [
    "a) The MLE for $\\theta$ is \n",
    "$$\n",
    "\\hat{\\theta}=\\frac{1}{n}\\sum_{i}X_{i}.\n",
    "$$\n",
    "Denoting by $\\Phi$ the standard normal CDF,\n",
    "$$\n",
    "\\psi=\\mathbb{P}(Y_{1}=1)=\\mathbb{P}(X_{1}>0)=\\mathbb{P}(Z>-\\theta)=\\Phi(\\theta).\n",
    "$$\n",
    "It follows, by the equivariance of the MLE, that $\\hat{\\psi}=\\Phi(\\hat{\\theta})$ is an MLE for $\\psi$."
   ]
  },
  {
   "cell_type": "markdown",
   "id": "dc216b2b-f098-4001-bb08-94cee8d78e25",
   "metadata": {},
   "source": [
    "b) Let $\\varphi$ denote the normal PDF. By the delta method,\n",
    "$$\n",
    "\\operatorname{se}(\\hat{\\psi})\n",
    "=\\left|\\varphi(\\theta)\\right|\\operatorname{se}(\\hat{\\theta})\n",
    "=\\left|\\varphi(\\theta)\\right|\\sqrt{\\frac{1}{n}}.\n",
    "$$\n",
    "and hence $\\hat{\\psi}\\pm2\\widehat{\\operatorname{se}}(\\hat{\\psi})$ is a 95\\% confidence interval for $\\psi$."
   ]
  },
  {
   "cell_type": "markdown",
   "id": "0c86eff8-e4a5-4107-9846-f2a5577754d4",
   "metadata": {},
   "source": [
    "c) By the LLN, $\\tilde{\\psi}=(1/n)\\sum_{i}Y_{i}$ converges in probability to $\\mathbb{E}Y_{1}=\\mathbb{P}(X_{1}>0)$."
   ]
  },
  {
   "cell_type": "markdown",
   "id": "ac15dda8-d312-4b3b-9f14-f1715326fb42",
   "metadata": {},
   "source": [
    "d) The asymptotic relative efficiency is\n",
    "$$\n",
    "\\operatorname{ARE}(\\tilde{\\psi},\\hat{\\psi})=\\frac{\\operatorname{se}(\\hat{\\psi})^{2}}{\\operatorname{se}(\\tilde{\\psi})^{2}}=\\frac{\\frac{1}{n}\\varphi(\\theta)^{2}}{\\frac{1}{n}\\psi\\left(1-\\psi\\right)}=\\frac{\\varphi(\\theta)^{2}}{\\psi\\left(1-\\psi\\right)}.\n",
    "$$\n",
    "It's possible to show that the ARE achieves its maximum value of $2/\\pi\\approx0.637$ at $\\theta=0$.\n",
    "Note that the ARE is necessarily less than one due to the asymptotic optimality of the MLE (Theorem 9.23).\n",
    "The interpretation is that we lose information by basing our estimate on $Y_i$ instead of $X_i$."
   ]
  },
  {
   "cell_type": "markdown",
   "id": "02bc5999-8033-4cb2-836d-4dd8b6a7bfa1",
   "metadata": {},
   "source": [
    "e) If the data is not normal, then $\\hat{\\theta}\\xrightarrow{P}\\mathbb{E}X_{1}$ by the LLN\n",
    "and hence $\\hat{\\psi}\\xrightarrow{P}\\Phi(\\mathbb{E}X_{1})$."
   ]
  },
  {
   "cell_type": "markdown",
   "id": "6d408def-d1c6-4949-b2ff-87904e661c06",
   "metadata": {},
   "source": [
    "## 7."
   ]
  },
  {
   "cell_type": "markdown",
   "id": "64542fe9-45a6-46e6-b4d8-141f8d7912bf",
   "metadata": {},
   "source": [
    "a) By equivariance, the MLE is $\\hat{\\psi} = \\hat{p}_1 - \\hat{p}_2$."
   ]
  },
  {
   "cell_type": "markdown",
   "id": "0ec3e442-b53e-4f61-8730-6165a5234346",
   "metadata": {},
   "source": [
    "b) The log-likelihood is\n",
    "\n",
    "$$\n",
    "\\ell(p_{1},p_{2})=\\sum_{i=1}^2\\log\\binom{n_{i}}{X_{i}}+X_{i}\\log p_{i}+\\left(n_{i}-X_{i}\\right)\\log(1-p_{i}).\n",
    "$$\n",
    "\n",
    "The cross-derivatives are zero:\n",
    "\n",
    "$$\n",
    "\\frac{\\partial^2 \\ell}{\\partial p_{1}\\partial p_{2}}=0.\n",
    "$$\n",
    "\n",
    "Moreover,\n",
    "\n",
    "$$\n",
    "\\frac{\\partial^{2}\\ell}{\\partial p_{i}^{2}}=-\\frac{X_{i}}{p_{i}^{2}}-\\frac{n_{i}-X_{i}}{\\left(1-p_{i}\\right)^{2}}\n",
    "$$\n",
    "\n",
    "and hence\n",
    "\n",
    "$$\n",
    "\\mathbb{E}\\left[\\frac{\\partial^{2}\\ell}{\\partial p_{i}^{2}}\\right]=-\\frac{n_{i}}{p_{i}\\left(1-p_{i}\\right)}.\n",
    "$$\n",
    "\n",
    "It follows that the Fisher information matrix is\n",
    "\n",
    "$$\n",
    "I(p_{1},p_{2})=\\begin{pmatrix}\\frac{n_{1}}{p_{1}\\left(1-p_{1}\\right)}\\\\\n",
    " & \\frac{n_{2}}{p_{2}\\left(1-p_{2}\\right)}\n",
    "\\end{pmatrix}.\n",
    "$$"
   ]
  },
  {
   "cell_type": "markdown",
   "id": "2a1cf839-ecbe-4d7e-b9ea-6de76938ec38",
   "metadata": {},
   "source": [
    "c) Let $g(p_{1},p_{2})=p_{1}-p_{2}$. Then, $\\nabla g=(1,-1)^{\\intercal}$.\n",
    "It follows that\n",
    "\n",
    "$$\n",
    "\\operatorname{se}(\\hat{\\psi})=\\sqrt{\\nabla g^{\\intercal}I(p_{1},p_{2})^{-1}\\nabla g}=\\sqrt{\\frac{p_{1}\\left(1-p_{1}\\right)}{n_{1}}+\\frac{p_{2}\\left(1-p_{2}\\right)}{n_{2}}}.\n",
    "$$"
   ]
  },
  {
   "cell_type": "code",
   "execution_count": 24,
   "id": "4b05f946-2285-43cf-a7c1-49fc7e094d1b",
   "metadata": {},
   "outputs": [
    {
     "data": {
      "text/html": [
       "<table>\n",
       "<thead>\n",
       "<tr><th>Method              </th><th style=\"text-align: right;\">  90% CI Lower Bound</th><th style=\"text-align: right;\">  90% CI Upper Bound</th></tr>\n",
       "</thead>\n",
       "<tbody>\n",
       "<tr><td>Delta Method        </td><td style=\"text-align: right;\">         -0.00884094</td><td style=\"text-align: right;\">            0.128841</td></tr>\n",
       "<tr><td>Parametric Bootstrap</td><td style=\"text-align: right;\">         -0.01      </td><td style=\"text-align: right;\">            0.13    </td></tr>\n",
       "</tbody>\n",
       "</table>"
      ],
      "text/plain": [
       "'<table>\\n<thead>\\n<tr><th>Method              </th><th style=\"text-align: right;\">  90% CI Lower Bound</th><th style=\"text-align: right;\">  90% CI Upper Bound</th></tr>\\n</thead>\\n<tbody>\\n<tr><td>Delta Method        </td><td style=\"text-align: right;\">         -0.00884094</td><td style=\"text-align: right;\">            0.128841</td></tr>\\n<tr><td>Parametric Bootstrap</td><td style=\"text-align: right;\">         -0.01      </td><td style=\"text-align: right;\">            0.13    </td></tr>\\n</tbody>\\n</table>'"
      ]
     },
     "execution_count": 24,
     "metadata": {},
     "output_type": "execute_result"
    },
    {
     "data": {
      "image/png": "[encoded data removed]",
      "text/plain": [
       "<Figure size 640x480 with 1 Axes>"
      ]
     },
     "metadata": {},
     "output_type": "display_data"
    }
   ],
   "source": [
    "n1 = 200\n",
    "n2 = 200\n",
    "X1 = 160\n",
    "X2 = 148\n",
    "n_bootstrap_samples = 100_000\n",
    "level = 0.90\n",
    "\n",
    "p1_hat = X1 / n1\n",
    "p2_hat = X2 / n2 \n",
    "ψ_hat = p1_hat - p2_hat\n",
    "\n",
    "se_delta_method = np.sqrt(p1_hat * (1. - p1_hat) / n1 + p2_hat * (1. - p2_hat) / n2)\n",
    "\n",
    "np.random.seed(1)\n",
    "X1_bootstrap = np.random.binomial(200, p1_hat, size=(n_bootstrap_samples, ))\n",
    "X2_bootstrap = np.random.binomial(200, p2_hat, size=(n_bootstrap_samples, ))\n",
    "ψ_bootstrap = X1_bootstrap / n1 - X2_bootstrap / n2\n",
    "\n",
    "sns.histplot(x=ψ_bootstrap, bins=20, kde=True, stat=\"density\")\n",
    "plt.title(\"Parametric bootstrap\")\n",
    "plt.xlabel(r\"$\\psi$\")\n",
    "\n",
    "tabulate(\n",
    "    [\n",
    "        [\"Delta Method\", ψ_hat - 1.64 * se_delta_method, ψ_hat + 1.64 * se_delta_method],\n",
    "        [\"Parametric Bootstrap\", np.quantile(ψ_bootstrap, 0.05), np.quantile(ψ_bootstrap, 0.95)]\n",
    "    ],\n",
    "    headers=(\"Method\", \"90% CI Lower Bound\", \"90% CI Upper Bound\"),\n",
    "    tablefmt=\"html\",\n",
    ")"
   ]
  },
  {
   "cell_type": "code",
   "execution_count": 23,
   "id": "2b77698d-a02d-45a8-b865-38ac2e228e23",
   "metadata": {},
   "outputs": [
    {
     "data": {
      "text/plain": [
       "1.6448536269514722"
      ]
     },
     "execution_count": 23,
     "metadata": {},
     "output_type": "execute_result"
    }
   ],
   "source": [
    "scipy.stats.norm.ppf(0.95)"
   ]
  },
  {
   "cell_type": "markdown",
   "id": "e00db015-832e-4d92-9b74-4b89ca36d55c",
   "metadata": {},
   "source": [
    "## 8."
   ]
  },
  {
   "cell_type": "markdown",
   "id": "161026ab-9ed3-4f7f-926e-90b7a07a9f58",
   "metadata": {},
   "source": [
    "First, note that the log-likehood is\n",
    "\n",
    "$$\n",
    "\\ell(\\mu,\\sigma)=-n\\log\\sigma-\\frac{1}{2\\sigma^{2}}\\sum_{i}\\left(X_{i}-\\mu\\right)^{2}.\n",
    "$$\n",
    "\n",
    "It follows that\n",
    "\n",
    "$$\n",
    "\\begin{align*}\n",
    "\\mathbb{E}\\left[\\frac{\\partial^{2}\\ell}{\\partial\\mu^{2}}\\right] & =\\mathbb{E}\\left[-\\frac{n}{\\sigma^{2}}\\right]=-\\frac{n}{\\sigma^{2}}\\\\\n",
    "\\mathbb{E}\\left[\\frac{\\partial^{2}\\ell}{\\partial\\sigma^{2}}\\right] & =\\mathbb{E}\\left[\\frac{n}{\\sigma^{2}}-\\frac{3}{\\sigma^{4}}\\sum_{i}\\left(X_{i}-\\mu\\right)^{2}\\right]=-\\frac{2n}{\\sigma^{2}}\\\\\n",
    "\\mathbb{E}\\left[\\frac{\\partial\\ell}{\\partial\\mu\\partial\\sigma}\\right] & =\\mathbb{E}\\left[-\\frac{2}{\\sigma^{3}}\\sum_{i}\\left(X_{i}-\\mu\\right)\\right]=0.\n",
    "\\end{align*}\n",
    "$$\n",
    "\n",
    "Therefore,\n",
    "\n",
    "$$\n",
    "I(\\mu,\\sigma)=\\begin{pmatrix}\\frac{n}{\\sigma^{2}}\\\\\n",
    " & \\frac{2n}{\\sigma^{2}}\n",
    "\\end{pmatrix}.\n",
    "$$"
   ]
  },
  {
   "cell_type": "markdown",
   "id": "2dcddf0d-0eea-4a7f-92e5-0c29a4b0bd30",
   "metadata": {},
   "source": [
    "## 9."
   ]
  },
  {
   "cell_type": "markdown",
   "id": "3b8e72ea-039b-489c-84b0-bf0595287ca4",
   "metadata": {},
   "source": [
    "See Chapter 8 exercises."
   ]
  },
  {
   "cell_type": "markdown",
   "id": "ecd0ab3f-59b0-4d7b-a73d-a2329863f58b",
   "metadata": {},
   "source": [
    "## 10."
   ]
  },
  {
   "cell_type": "markdown",
   "id": "093f3848-47b1-4f40-a489-2ab172016984",
   "metadata": {},
   "source": [
    "a) See Chapter 8 exercises."
   ]
  },
  {
   "cell_type": "markdown",
   "id": "944d7f76-88e6-440a-b473-0fd7f58337af",
   "metadata": {},
   "source": [
    "b) In the parametric bootstrap,\n",
    "\n",
    "$$\n",
    "\\mathbb{P}(\\hat{\\theta}^{*}=\\hat{\\theta})=\\mathbb{E}\\left[I(\\hat{\\theta}^{*}=\\hat{\\theta})\\right]=\\mathbb{E}\\left[\\mathbb{E}\\left[I(\\hat{\\theta}^{*}=\\hat{\\theta})\\middle|\\hat{\\theta}\\right]\\right]=\\mathbb{E}0=0.\n",
    "$$\n",
    "\n",
    "In the nonparametric bootstrap,\n",
    "\n",
    "$$\n",
    "\\mathbb{P}(\\hat{\\theta}^{*}=\\hat{\\theta})=1-\\mathbb{P}(\\hat{\\theta}^{*}\\neq\\hat{\\theta})=1-\\left(\\frac{n-1}{n}\\right)^{n}\n",
    "$$\n",
    "\n",
    "since $X_{i}\\neq X_{j}$ for $i\\neq j$ a.s.\n",
    "Taking limits in the above yields\n",
    "\n",
    "$$\n",
    "\\mathbb{P}(\\hat{\\theta}^{*}=\\hat{\\theta})\\rightarrow1-1/e\\approx0.632.\n",
    "$$"
   ]
  }
 ],
 "metadata": {
  "kernelspec": {
   "display_name": "Python 3 (ipykernel)",
   "language": "python",
   "name": "python3"
  },
  "language_info": {
   "codemirror_mode": {
    "name": "ipython",
    "version": 3
   },
   "file_extension": ".py",
   "mimetype": "text/x-python",
   "name": "python",
   "nbconvert_exporter": "python",
   "pygments_lexer": "ipython3",
   "version": "3.11.6"
  }
 },
 "nbformat": 4,
 "nbformat_minor": 5
}
