{
 "cells": [
  {
   "cell_type": "raw",
   "id": "1ab29e80-664d-42cb-9332-665bbdd7b4bf",
   "metadata": {
    "editable": true,
    "raw_mimetype": "",
    "slideshow": {
     "slide_type": ""
    },
    "tags": []
   },
   "source": [
    "---\n",
    "date: 2023-11-04 12:00:00-0800\n",
    "layout: post\n",
    "title: Maximum likelihood estimation of autoregressive model parameters\n",
    "---"
   ]
  },
  {
   "cell_type": "code",
   "execution_count": 1,
   "id": "ed550b84-2d9b-4004-a33f-f58d007afbe4",
   "metadata": {
    "editable": true,
    "slideshow": {
     "slide_type": ""
    },
    "tags": [
     "no_cell"
    ]
   },
   "outputs": [],
   "source": [
    "import matplotlib.pyplot as plt\n",
    "import numpy as np\n",
    "from tabulate import tabulate\n",
    "\n",
    "plt.style.use(\"fivethirtyeight\")"
   ]
  },
  {
   "cell_type": "markdown",
   "id": "285614c8-3fae-42ed-9784-7cdcf7ee9066",
   "metadata": {
    "editable": true,
    "slideshow": {
     "slide_type": ""
    },
    "tags": []
   },
   "source": [
    "## Motivation\n",
    "\n",
    "Autoregressive (AR) models are a type of time series model in which the value at any point in time is a linear function of the previous values and white noise.\n",
    "AR models have many applications including, but not limited to, mathematical finance.\n",
    "\n",
    "In this short article, we derive the [maximum likelihood estimator (MLE)](https://en.wikipedia.org/wiki/Maximum_likelihood_estimation) for the coefficients and variance of an autoregressive model when the white noise is normally distributed.\n",
    "We will do this by appealing to the finite memory of the AR process.\n",
    "\n",
    "As an example application, we use our findings to fit the parameters of an [Ornstein–Uhlenbeck process](https://en.wikipedia.org/wiki/Ornstein%E2%80%93Uhlenbeck_process)."
   ]
  },
  {
   "cell_type": "markdown",
   "id": "e4354afd-41aa-4634-8bfd-48a63ba17b10",
   "metadata": {
    "editable": true,
    "slideshow": {
     "slide_type": ""
    },
    "tags": []
   },
   "source": [
    "## Autoregressive process\n",
    "\n",
    "An *autoregressive process* of order p, or AR(p), is a stochastic process $(X_1, X_2, \\ldots)$ satisfying\n",
    "\n",
    "$$\n",
    "X_n\n",
    "= c_0 + \\sum_{i = 1}^p c_i X_{n - i} + \\epsilon_n\n",
    "$$\n",
    "\n",
    "where $c_i$ are (non-random) coefficients and $(\\epsilon_1, \\epsilon_2, \\ldots)$ is a [white noise process](https://en.wikipedia.org/wiki/White_noise) (i.e., the $\\epsilon_n$ have zero mean and finite variance and are IID).\n",
    "The $X_{-(p-1)}, \\ldots, X_0$ are initial conditions that, for simplicity, we assume to be (non-random) constants.\n",
    "\n",
    "*Remark*.\n",
    "Most definitions of AR(p) processes do not include a bias term $c_0$ which we include for greater generality.\n",
    "\n",
    "It will be useful, for a subsequent section, to define some notation.\n",
    "Let\n",
    "\n",
    "$$\n",
    "\\mathbf{X}_{N,i}\n",
    "= \\begin{pmatrix}\n",
    "X_{1 - i} \\\\\n",
    "\\vdots \\\\\n",
    "X_{N - i}\n",
    "\\end{pmatrix}\n",
    "$$\n",
    "\n",
    "In other words, $\\mathbf{X}_{N, i}$ are the the first $N$ observations after a shift backwards by $i$ steps.\n",
    "Furthermore, let\n",
    "\n",
    "$$\n",
    "\\mathbf{A}_N\n",
    "= \\begin{pmatrix} \\mathbf{1} & \\mathbf{X}_{N, 1} & \\ldots & \\mathbf{X}_{N, p} \\end{pmatrix}\n",
    "$$\n",
    "\n",
    "be the $N \\times (p + 1)$ design matrix which contains the ones vector as its first column and the various shift vectors as its subsequent columns."
   ]
  },
  {
   "cell_type": "markdown",
   "id": "2ac15b73-f0fc-4ee6-a4a0-e6b0e8b49781",
   "metadata": {
    "editable": true,
    "slideshow": {
     "slide_type": ""
    },
    "tags": []
   },
   "source": [
    "## Maximum likelihood estimator\n",
    "\n",
    "Suppose we have observed to the process up to and including time $N$.\n",
    "The corresponding likelihood (assuming absolute continuity) is\n",
    "\n",
    "$$\n",
    "\\mathcal{L}\n",
    "= f(X_1, \\ldots, X_N)\n",
    "= f(X_1) f(X_2 \\mid X_1) f(X_3 \\mid X_1, X_2) \\cdots f(X_N \\mid X_1, \\ldots, X_{N - 1}).\n",
    "$$\n",
    "\n",
    "Since the process at a fixed time depends only on its last $p$ values, we can simplify this further to\n",
    "\n",
    "$$\n",
    "\\mathcal{L}\n",
    "= \\prod_{n = 1}^N f(X_n \\mid X_{n - 1}, \\ldots, X_{n - p}).\n",
    "$$\n",
    "\n",
    "When the white noise is normal, the conditional densities above are normal densities and we can obtain very simple expressions for the MLEs:\n",
    "\n",
    "**Proposition.**\n",
    "Consider an AR(p) model under normal white noise with variance $\\sigma^2_\\epsilon$.\n",
    "MLEs for the coefficients and variance satisfy\n",
    "\n",
    "$$\n",
    "(\\mathbf{A}_N^\\intercal \\mathbf{A}_N) \\hat{\\mathbf{c}}\n",
    "= \\mathbf{A}_N^\\intercal \\mathbf{X}_{N, 0}\n",
    "$$\n",
    "\n",
    "and\n",
    "\n",
    "$$\n",
    "N \\hat{\\sigma}^2_\\epsilon =\n",
    "\\mathbf{1}^\\intercal ( \\mathbf{A}_N \\hat{\\mathbf{c}} - \\mathbf{X}_{N, 0} )^{\\circ 2}\n",
    "$$\n",
    "\n",
    "where $\\mathbf{M}^{\\circ 2}$ is the element-wise square of the matrix $\\mathbf{M}$.\n",
    "\n",
    "*Proof*.\n",
    "As discussed above, the log-likelihood is\n",
    "\n",
    "$$\n",
    "\\log \\mathcal{L}\n",
    "= \\sum_{n = 1}^N \\log f(X_n \\mid X_{n - 1}, \\ldots, X_{n - p})\n",
    "= \\mathrm{const.} - \\frac{N}{2} \\log \\sigma^2_\\epsilon -\n",
    "  \\frac{1}{2 \\sigma^2_\\epsilon} \\sum_{n = 1}^N \\left(\n",
    "    c_0 + c_1 X_{n - 1} + \\cdots + c_p X_{n - p} - X_n\n",
    "  \\right)^2.\n",
    "$$\n",
    "\n",
    "We recognize this as equivalent to the log-likelihood used to derive the normal equations for [ordinary least squares (OLS)](https://en.wikipedia.org/wiki/Ordinary_least_squares#cite_note-14) in the presence of a bias.\n",
    "The predictors, in this case, are the shifted realizations $\\mathbf{X}_{N, i}$.\n",
    "From this, the desired result follows."
   ]
  },
  {
   "cell_type": "markdown",
   "id": "e7870a95-d225-4483-b1a0-b75b43654c6f",
   "metadata": {
    "editable": true,
    "slideshow": {
     "slide_type": ""
    },
    "tags": []
   },
   "source": [
    "## Example: Ornstein–Uhlenbeck process\n",
    "\n",
    "The *Ornstein-Uhlenbeck process* $(Y_t)_{t \\geq 0}$ is a stochastic process satisfying the stochastic differential equation\n",
    "\n",
    "$$\n",
    "dY_t = \\theta \\left(\\mu - Y_t\\right) dt + \\sigma dW_t\n",
    "$$\n",
    "\n",
    "where $\\theta > 0$ and $\\sigma > 0$ are parameters.\n",
    "Suppose we observe the process at sequence of (increasing) equally-spaced times $t_1, t_2, \\ldots, t_N$.\n",
    "By the above,\n",
    "\n",
    "$$\n",
    "\\Delta Y_n\n",
    "= \\theta \\left(\\mu \\Delta t - \\int_{t_{n - 1}}^{t_n} Y_s ds\\right) + \\sigma \\Delta W_n\n",
    "\\approx \\theta \\left(\\mu - Y_{t_{n - 1}} \\right) \\Delta t + \\sigma \\Delta W_n\n",
    "$$\n",
    "\n",
    "where $\\Delta Y_n = Y_{t_n} - Y_{t_{n - 1}}$, $\\Delta t = t_n - t_{n - 1}$, and $\\Delta W_n = W_{t_n} - W_{t_{n - 1}}$.\n",
    "By approximating the integral using its leftmost endpoint, we have arrived at the AR(1) sequence\n",
    "\n",
    "$$\n",
    "X_n = \\underbrace{\\theta \\mu \\Delta t}_{c_0} +\n",
    "      \\underbrace{\\left(1 - \\theta  \\Delta t\\right)}_{c_1} X_{n - 1} +\n",
    "      \\underbrace{\\sigma \\Delta W_n}_{\\epsilon_n}\n",
    "$$\n",
    "\n",
    "where $X_n \\approx Y_{t_n}$.\n",
    "Note, in particular, that the conditional increments are normal.\n",
    "\n",
    "*Remark*.\n",
    "This approximation is called the [Euler-Maruyama method](https://en.wikipedia.org/wiki/Euler%E2%80%93Maruyama_method).\n",
    "\n",
    "Now, we are in a position to estimate the parameters $\\theta$, $\\mu$, and $\\sigma$.\n",
    "However, recall that in deriving the MLEs, we expressed our results in terms of $c$ and $\\sigma^2_\\epsilon$!\n",
    "Fortunately, due to the [equivariance of MLEs](https://en.wikipedia.org/wiki/Maximum_likelihood_estimation#Functional_invariance), we can rely on the transformations\n",
    "\n",
    "$$\n",
    "\\begin{align*}\n",
    "\\hat{\\theta} & = ( 1 - \\hat{c}_1 ) / \\Delta t \\\\\n",
    "\\hat{\\mu} & = \\hat{c}_0 / ( \\hat{\\theta} \\Delta t ) \\\\\n",
    "\\hat{\\sigma}^2 & = \\hat{\\sigma}^2_\\epsilon / \\Delta t\n",
    "\\end{align*}\n",
    "$$\n",
    "\n",
    "to retrieve the parameters of interest.\n",
    "\n",
    "Let's try this out with some synthetic data below!"
   ]
  },
  {
   "cell_type": "code",
   "execution_count": 2,
   "id": "ef9ff35d-641b-4b8e-b16f-238e8acac35f",
   "metadata": {
    "editable": true,
    "slideshow": {
     "slide_type": ""
    },
    "tags": []
   },
   "outputs": [],
   "source": [
    "N = 1_000\n",
    "\n",
    "T = 1.\n",
    "θ = 10.\n",
    "μ = 0.5\n",
    "σ = 0.1\n",
    "Y0 = 1.\n",
    "\n",
    "np.random.seed(1)\n",
    "Y = np.empty((N + 1,))\n",
    "    \n",
    "Y[0] = Y0\n",
    "Δt = T / N\n",
    "for n in range(N):\n",
    "    ΔW = np.sqrt(Δt) * np.random.randn()\n",
    "    Y[n + 1] = θ * μ * Δt + (1. - θ * Δt) * Y[n] + σ * ΔW"
   ]
  },
  {
   "cell_type": "code",
   "execution_count": 3,
   "id": "6e7dd4a0-699e-4570-b566-5fce85b701eb",
   "metadata": {
    "editable": true,
    "slideshow": {
     "slide_type": ""
    },
    "tags": [
     "no_input"
    ]
   },
   "outputs": [
    {
     "data": {
      "image/png": "[encoded data removed]",
      "text/plain": [
       "<Figure size 640x480 with 1 Axes>"
      ]
     },
     "metadata": {},
     "output_type": "display_data"
    }
   ],
   "source": [
    "plt.plot(np.linspace(0., T, N + 1), Y, linewidth=1)\n",
    "plt.suptitle(\"Realization of Ornstein–Uhlenbeck process\")\n",
    "plt.title(f\"$\\\\theta = {θ}$, $\\\\mu = {μ}$, $\\\\sigma = {σ}$, $Y_0 = {Y0}$\", fontsize=12)\n",
    "plt.tight_layout()"
   ]
  },
  {
   "cell_type": "code",
   "execution_count": 6,
   "id": "d896f0b9-ba83-47ad-9bea-0a50fff19f27",
   "metadata": {
    "editable": true,
    "slideshow": {
     "slide_type": ""
    },
    "tags": []
   },
   "outputs": [],
   "source": [
    "A_N = np.stack([np.ones_like(Y, shape=(N, )), Y[:-1]], axis=1)\n",
    "X_N0 = Y[1:]\n",
    "\n",
    "c_hat = np.linalg.solve(A_N.T @ A_N, A_N.T @ X_N0)\n",
    "σ2_ε_hat = ((A_N @ c_hat - X_N0)**2).sum() / N\n",
    "\n",
    "θ_hat = (1. - c_hat[1]) / Δt\n",
    "μ_hat = c_hat[0] / (θ_hat * Δt) \n",
    "σ2_hat = σ2_ε_hat / Δt\n",
    "\n",
    "σ_hat = np.sqrt(σ2_hat)"
   ]
  },
  {
   "cell_type": "code",
   "execution_count": 7,
   "id": "4114694f-766c-48db-9dd4-50a481ca5636",
   "metadata": {
    "editable": true,
    "slideshow": {
     "slide_type": ""
    },
    "tags": [
     "no_input"
    ]
   },
   "outputs": [
    {
     "data": {
      "text/html": [
       "<table>\n",
       "<thead>\n",
       "<tr><th>Parameter  </th><th style=\"text-align: right;\">  Exact</th><th style=\"text-align: right;\">      MLE</th></tr>\n",
       "</thead>\n",
       "<tbody>\n",
       "<tr><td>θ          </td><td style=\"text-align: right;\">   10  </td><td style=\"text-align: right;\">10.1671  </td></tr>\n",
       "<tr><td>μ          </td><td style=\"text-align: right;\">    0.5</td><td style=\"text-align: right;\"> 0.513091</td></tr>\n",
       "<tr><td>σ          </td><td style=\"text-align: right;\">    0.1</td><td style=\"text-align: right;\"> 0.098099</td></tr>\n",
       "</tbody>\n",
       "</table>"
      ],
      "text/plain": [
       "'<table>\\n<thead>\\n<tr><th>Parameter  </th><th style=\"text-align: right;\">  Exact</th><th style=\"text-align: right;\">      MLE</th></tr>\\n</thead>\\n<tbody>\\n<tr><td>θ          </td><td style=\"text-align: right;\">   10  </td><td style=\"text-align: right;\">10.1671  </td></tr>\\n<tr><td>μ          </td><td style=\"text-align: right;\">    0.5</td><td style=\"text-align: right;\"> 0.513091</td></tr>\\n<tr><td>σ          </td><td style=\"text-align: right;\">    0.1</td><td style=\"text-align: right;\"> 0.098099</td></tr>\\n</tbody>\\n</table>'"
      ]
     },
     "execution_count": 7,
     "metadata": {},
     "output_type": "execute_result"
    }
   ],
   "source": [
    "tabulate([[\"θ\", θ, θ_hat], [\"μ\", μ, μ_hat], [\"σ\", σ, σ_hat]],\n",
    "         headers=(\"Parameter\", \"Exact\", \"MLE\"), tablefmt=\"html\")"
   ]
  }
 ],
 "metadata": {
  "kernelspec": {
   "display_name": "Python 3 (ipykernel)",
   "language": "python",
   "name": "python3"
  },
  "language_info": {
   "codemirror_mode": {
    "name": "ipython",
    "version": 3
   },
   "file_extension": ".py",
   "mimetype": "text/x-python",
   "name": "python",
   "nbconvert_exporter": "python",
   "pygments_lexer": "ipython3",
   "version": "3.8.17"
  }
 },
 "nbformat": 4,
 "nbformat_minor": 5
}
