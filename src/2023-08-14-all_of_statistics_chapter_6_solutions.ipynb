{
 "cells": [
  {
   "cell_type": "raw",
   "id": "43183327-9996-4731-a361-78d852a52509",
   "metadata": {
    "editable": true,
    "raw_mimetype": "",
    "slideshow": {
     "slide_type": ""
    },
    "tags": []
   },
   "source": [
    "---\n",
    "date: 2023-08-13 12:00:00-0800\n",
    "layout: post\n",
    "redirect_from:\n",
    "  - /blog/2020/all-of-statistics-chapter-06/\n",
    "title: All of Statistics Chapter 6 Solutions\n",
    "---"
   ]
  },
  {
   "cell_type": "code",
   "execution_count": 2,
   "id": "71aec1bb-0b9f-4ac0-9084-b9b04b0c365e",
   "metadata": {
    "editable": true,
    "slideshow": {
     "slide_type": ""
    },
    "tags": [
     "no_cell"
    ]
   },
   "outputs": [],
   "source": [
    "import matplotlib as mpl\n",
    "import matplotlib.pyplot as plt\n",
    "import numpy as np\n",
    "import scipy.stats\n",
    "from tabulate import tabulate\n",
    "\n",
    "mpl.style.use(\"fivethirtyeight\")"
   ]
  },
  {
   "cell_type": "markdown",
   "id": "12383ce9-90bb-4782-96e2-f982af8217b7",
   "metadata": {},
   "source": [
    "## 1."
   ]
  },
  {
   "cell_type": "markdown",
   "id": "f5ed6913-d178-408d-b9dd-6e8e14157d86",
   "metadata": {
    "editable": true,
    "slideshow": {
     "slide_type": ""
    },
    "tags": []
   },
   "source": [
    "Since $\\mathbb{E}\\hat{\\lambda}=\\mathbb{E}X_{1}$, the estimator is unbiased (i.e., $\\operatorname{bias}\\hat{\\lambda}=0$).\n",
    "Moreover, $(\\operatorname{se}\\hat{\\lambda})^{2}=\\mathbb{V}(X_{1})/n=\\lambda/n$.\n",
    "By the bias-variance decomposition, the MSE is also equal to $\\lambda/n$."
   ]
  },
  {
   "cell_type": "markdown",
   "id": "e0b7738a-4946-4071-8d1e-23316c5f2bed",
   "metadata": {
    "editable": true,
    "slideshow": {
     "slide_type": ""
    },
    "tags": []
   },
   "source": [
    "## 2."
   ]
  },
  {
   "cell_type": "markdown",
   "id": "9b16979c-41a9-40ca-9233-baa8bdf4b938",
   "metadata": {
    "editable": true,
    "slideshow": {
     "slide_type": ""
    },
    "tags": []
   },
   "source": [
    "If $y$ is between zero and $\\theta$,\n",
    "\n",
    "$$\n",
    "\\mathbb{P}(\\hat{\\theta}\\leq y)=\\mathbb{P}(X_{1}\\leq y)^{n}=\\left(\\frac{y}{\\theta}\\right)^{n}.\n",
    "$$\n",
    "\n",
    "Differentiating yields the PDF\n",
    "\n",
    "$$\n",
    "f_{\\hat{\\theta}}(y)=n\\frac{y^{n-1}}{\\theta^{n}}I_{(0,\\theta)}(y).\n",
    "$$\n",
    "\n",
    "Therefore, for any positive integer $k$,\n",
    "\n",
    "$$\n",
    "\\mathbb{E}\\left[\\hat{\\theta}^{k}\\right]=\\frac{n}{\\theta^{n}}\\int_{0}^{\\theta}y^{n+k-1}dy=\\frac{n}{n+k}\\theta^{k}.\n",
    "$$\n",
    "\n",
    "It follows that $\\operatorname{bias}\\hat{\\theta}=-\\theta/(n+1)$ and\n",
    "\n",
    "$$\n",
    "(\\operatorname{se}\\hat{\\theta})^{2}=\\frac{n}{n+2}\\theta^{2}-\\frac{n^{2}}{\\left(n+1\\right)^{2}}\\theta^{2}.\n",
    "$$\n",
    "\n",
    "By the bias-variance decomposition, the MSE is the sum of the squared bias and the squared standard error.\n",
    "\n",
    "*Remark*. $\\hat{\\theta}(n+1)/n$ is an unbiased estimator."
   ]
  },
  {
   "cell_type": "code",
   "execution_count": 41,
   "id": "2bb01a05-3e4a-4ba5-bf64-07a0aea55346",
   "metadata": {
    "editable": true,
    "slideshow": {
     "slide_type": ""
    },
    "tags": [
     "no_cell"
    ]
   },
   "outputs": [],
   "source": [
    "theta = 0.3\n",
    "n = 10\n",
    "\n",
    "x = np.random.uniform(low=0., high=theta, size=(100_000, n))\n",
    "theta_hat = x.max(axis=1)\n",
    "bias = theta_hat.mean() - theta\n",
    "se2 = theta_hat.var()\n",
    "\n",
    "np.testing.assert_almost_equal(bias, -theta / (n + 1), decimal=2)\n",
    "np.testing.assert_almost_equal(se2, (n / (n + 2) - n**2 / (n + 1)**2) * theta**2, decimal=5)"
   ]
  },
  {
   "cell_type": "markdown",
   "id": "a20eed50-e0da-4ab3-be82-813d6385231e",
   "metadata": {
    "editable": true,
    "slideshow": {
     "slide_type": ""
    },
    "tags": []
   },
   "source": [
    "## 3."
   ]
  },
  {
   "cell_type": "markdown",
   "id": "c68e4599-1e04-4ae5-aede-35297671d614",
   "metadata": {
    "editable": true,
    "slideshow": {
     "slide_type": ""
    },
    "tags": []
   },
   "source": [
    "Since $\\mathbb{E}\\hat{\\theta}=2\\mathbb{E}X_{1}=\\theta$,\n",
    "the estimator is unbiased (i.e., $\\operatorname{bias}\\hat{\\theta}=0$).\n",
    "Moreover, $(\\operatorname{se}\\hat{\\theta})^{2}=4(\\mathbb{V}X_{1})/n=\\theta^{2}/(3n)$.\n",
    "By the bias-variance decomposition, the MSE is also equal to $\\theta^{2}/(3n)$."
   ]
  }
 ],
 "metadata": {
  "kernelspec": {
   "display_name": "Python 3 (ipykernel)",
   "language": "python",
   "name": "python3"
  },
  "language_info": {
   "codemirror_mode": {
    "name": "ipython",
    "version": 3
   },
   "file_extension": ".py",
   "mimetype": "text/x-python",
   "name": "python",
   "nbconvert_exporter": "python",
   "pygments_lexer": "ipython3",
   "version": "3.11.5"
  }
 },
 "nbformat": 4,
 "nbformat_minor": 5
}
