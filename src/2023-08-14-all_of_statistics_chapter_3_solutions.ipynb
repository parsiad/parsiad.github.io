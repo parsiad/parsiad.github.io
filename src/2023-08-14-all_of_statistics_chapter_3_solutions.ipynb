{
 "cells": [
  {
   "cell_type": "raw",
   "id": "43183327-9996-4731-a361-78d852a52509",
   "metadata": {},
   "source": [
    "---\n",
    "date: 2023-08-13 12:00:00-0800\n",
    "layout: post\n",
    "redirect_from:\n",
    "  - /blog/2020/all-of-statistics-chapter-03/\n",
    "title: All of Statistics Chapter 3 Solutions\n",
    "---"
   ]
  },
  {
   "cell_type": "code",
   "execution_count": 2,
   "id": "71aec1bb-0b9f-4ac0-9084-b9b04b0c365e",
   "metadata": {
    "editable": true,
    "slideshow": {
     "slide_type": ""
    },
    "tags": [
     "no_cell"
    ]
   },
   "outputs": [],
   "source": [
    "import matplotlib as mpl\n",
    "import matplotlib.pyplot as plt\n",
    "import numpy as np\n",
    "import scipy.stats\n",
    "from tabulate import tabulate\n",
    "\n",
    "mpl.style.use(\"fivethirtyeight\")"
   ]
  },
  {
   "cell_type": "markdown",
   "id": "151c780b-b49b-4c25-83bc-e4eaf0471abf",
   "metadata": {},
   "source": [
    "## 1."
   ]
  },
  {
   "cell_type": "markdown",
   "id": "4767b18f-191e-4054-862f-f6d961b02521",
   "metadata": {},
   "source": [
    "Let $X_n$ be the number of dollars after the $n$-th play.\n",
    "Then,\n",
    "\n",
    "$$\n",
    "\\mathbb{E}( X_{n + 1} \\mid X_n )\n",
    "= \\frac{1}{2} \\left( 2 X_n + \\frac{1}{2} X_n \\right)\n",
    "= \\frac{5}{4} X_n.\n",
    "$$\n",
    "\n",
    "By the rule of iterated expectations $\\mathbb{E} X_{n + 1} = (5 / 4) \\mathbb{E} X_n$.\n",
    "By induction, $\\mathbb{E}X_n = (5 / 4)^n c$."
   ]
  },
  {
   "cell_type": "markdown",
   "id": "24b55454-e3d9-433e-a39b-a61ed399904f",
   "metadata": {},
   "source": [
    "## 2."
   ]
  },
  {
   "cell_type": "markdown",
   "id": "5bdb3f7b-f52e-4961-9076-710563b46c64",
   "metadata": {},
   "source": [
    "If $\\mathbb{P}(X = c) = 1$, then $\\mathbb{E}(X)^2 = \\mathbb{E}(X^2) = c^2$ and hence $\\mathbb{V}(X) = 0$.\n",
    "\n",
    "The converse is more complicated.\n",
    "We claim that if $Y$ is a nonnegative random variable, $\\mathbb{E}Y=0$ implies $Y=0$ almost everywhere.\n",
    "In this case, it is sufficient to take $Y=(X-\\mathbb{E}X)^{2}$ to conclude that $\\mathbb{P}(X=c)=1$.\n",
    "\n",
    "To substantiate the claim, assume $\\mathbb{E}Y=0$.\n",
    "Let be an arbitrary positive integer and $A_{n}=\\{Y\\geq1/n\\}$.\n",
    "Then,\n",
    "\n",
    "$$\n",
    "0=\\mathbb{E}Y\\geq\\mathbb{E}(Y I_{A_{n}})\\geq\\frac{1}{n}\\mathbb{P}(A_{n})\n",
    "$$\n",
    "\n",
    "and hence $\\mathbb{P}(A_{n})=0$. By continuity of probability,\n",
    "\n",
    "$$\n",
    "\\mathbb{P}(Y>0)=\\mathbb{P}(\\cup_{n}A_{n})=\\lim_{n}\\mathbb{P}(A_{n})=0.\n",
    "$$"
   ]
  },
  {
   "cell_type": "markdown",
   "id": "7ae064cd-1e02-45c5-8134-24398b2ead48",
   "metadata": {},
   "source": [
    "## 3."
   ]
  },
  {
   "cell_type": "markdown",
   "id": "bdcc7968-1b73-417c-9575-16fc61c1b0a5",
   "metadata": {},
   "source": [
    "Since $F_{Y_n}(y) = \\mathbb{P}(X_1 \\leq y)^n = y^n$, it follows that $f_{Y_n}(y) = n y^{n-1}$ on $(0, 1)$.\n",
    "Therefore,\n",
    "\n",
    "$$\n",
    "\\mathbb{E} Y_n = n \\int_0^1 y^n dy = \\frac{n}{n + 1}.\n",
    "$$"
   ]
  },
  {
   "cell_type": "markdown",
   "id": "7fd0e42d-2b2c-4b53-be3f-45a26e1db7c2",
   "metadata": {},
   "source": [
    "## 4."
   ]
  },
  {
   "cell_type": "markdown",
   "id": "17fcade6-6cb5-4d75-afe3-9baeddc936cd",
   "metadata": {},
   "source": [
    "Note that $X_n = \\sum_{k = 1}^n Y_n$ where $Y_n$ is -1 or 1.\n",
    "Therefore,\n",
    "\n",
    "$$\n",
    "\\mathbb{E} X_n\n",
    "= \\sum_{k = 1}^n \\mathbb{E} Y_n\n",
    "= \\sum_{k = 1}^n 1 - 2p\n",
    "= n(1 - 2p).\n",
    "$$\n",
    "\n",
    "and\n",
    "\n",
    "$$\n",
    "\\mathbb{V} X_n\n",
    "= n \\mathbb{V} Y_1\n",
    "= n (\\mathbb{E} Y_1^2 - (\\mathbb{E} Y_1)^2)\n",
    "= 4np(1 - p).\n",
    "$$"
   ]
  },
  {
   "cell_type": "code",
   "execution_count": 148,
   "id": "68ae0af6-dd1b-4b7a-9425-9b49beb89e3d",
   "metadata": {},
   "outputs": [],
   "source": [
    "p = 1. / 3.\n",
    "n = 10\n",
    "\n",
    "Y = 2 * (np.random.rand(1_000_000, n) < 1 - p) - 1\n",
    "X = Y.sum(axis=1)\n",
    "\n",
    "np.testing.assert_almost_equal(X.mean(), n * (1. - 2 * p), decimal=2)\n",
    "np.testing.assert_almost_equal(X.var(), 4 * n * p * (1. - p), decimal=2)"
   ]
  },
  {
   "cell_type": "markdown",
   "id": "391f0e71-cff5-4204-ab52-4c6251bc6235",
   "metadata": {},
   "source": [
    "## 5."
   ]
  },
  {
   "cell_type": "markdown",
   "id": "6aab8b50-3fa2-4908-ab8f-0ad8a26e7b29",
   "metadata": {},
   "source": [
    "Let $N$ be the number of tosses required and $C$ be the result of the first toss.\n",
    "Then,\n",
    "\n",
    "$$\n",
    "\\mathbb{E} N\n",
    "= \\frac{1}{2} ( \\mathbb{E} (N \\mid C = H) + \\mathbb{E} (N \\mid C = T) )\n",
    "= \\frac{1}{2} ( 1 + (1 + \\mathbb{E} N) ).\n",
    "$$\n",
    "\n",
    "Solving the above equation yields $\\mathbb{E} N = 2$."
   ]
  },
  {
   "cell_type": "markdown",
   "id": "8f7e59e0-160a-4c9b-8960-17973fbe7d30",
   "metadata": {},
   "source": [
    "## 6."
   ]
  },
  {
   "cell_type": "markdown",
   "id": "e35eca1a-ab69-4893-9064-9018674c1f44",
   "metadata": {},
   "source": [
    "By disjoint additivity,\n",
    "\n",
    "$$\n",
    "\\mathbb{P}(Y=y)=\\mathbb{P}(r(X)=y)=\\mathbb{P}(X\\in r^{-1}(\\{y\\}))=\\sum_{x\\in r^{-1}(\\{y\\})}\\mathbb{P}(X=x).\n",
    "$$\n",
    "\n",
    "It follows that\n",
    "\n",
    "$$\n",
    "\\mathbb{E}Y=\\sum_{y}y\\sum_{x\\in r^{-1}(\\{y\\})}\\mathbb{P}(X=x)=\\sum_{y}\\sum_{x\\in r^{-1}(\\{y\\})}r(x)\\mathbb{P}(X=x)=\\sum_{x}r(x)\\mathbb{P}(X=x)=\\mathbb{E}r(X).\n",
    "$$"
   ]
  },
  {
   "cell_type": "markdown",
   "id": "17938686-18be-4e8b-bf64-1612ed11b9fe",
   "metadata": {},
   "source": [
    "## 7."
   ]
  },
  {
   "cell_type": "markdown",
   "id": "58f87e62-ec2f-44f9-965f-442734c8e2c5",
   "metadata": {},
   "source": [
    "By the product rule,\n",
    "\n",
    "$$\n",
    "(x F(x))^\\prime = F(x) + x f(x).\n",
    "$$\n",
    "\n",
    "Integrating both sides from 0 to $y$ yields\n",
    "\n",
    "$$\n",
    "y F(y) = \\int_0^y F(x) dx + \\int_0^y x f(x) dx.\n",
    "$$\n",
    "\n",
    "Moving terms around and taking limits,\n",
    "\n",
    "$$\n",
    "\\int_0^\\infty x f(x) dx\n",
    "= \\lim_{y \\rightarrow \\infty} y F(y) - \\int_0^y F(x) dx\n",
    "= \\lim_{y \\rightarrow \\infty} \\int_0^y F(y) - F(x) dx.\n",
    "= \\lim_{y \\rightarrow \\infty} \\int_0^\\infty (F(y) - F(x)) I_{(0, y)}(x) dx.\n",
    "$$\n",
    "\n",
    "Let $G_y(x) = (F(y) - F(x)) I_{(0, y)}(x)$.\n",
    "Note that $G_y$ converges pointwise to $1 - F(x) = \\mathbb{P}(X > x)$.\n",
    "Moreover, $G_y$ is monotone increasing.\n",
    "By the Beppo-Levi theorem,\n",
    "\n",
    "$$\n",
    "\\int_0^\\infty x f(x) dx = \\int_0^\\infty \\mathbb{P}(X > x) dx.\n",
    "$$"
   ]
  },
  {
   "cell_type": "markdown",
   "id": "ad1894af-e3f6-4bab-a8c9-f502c61becb9",
   "metadata": {},
   "source": [
    "## 8."
   ]
  },
  {
   "cell_type": "markdown",
   "id": "86d2d3fc-aec1-4154-b2c1-d0b83d60d254",
   "metadata": {},
   "source": [
    "The first two claims follow from\n",
    "\n",
    "$$\n",
    "\\mathbb{E} \\overline{X}\n",
    "= \\frac{1}{n} \\sum_i \\mathbb{E} X_{i}\n",
    "= \\mathbb{E} X_1\n",
    "= \\mu\n",
    "$$\n",
    "\n",
    "and\n",
    "\n",
    "$$\n",
    "\\mathbb{V} \\overline{X}\n",
    "= \\frac{1}{n^2} \\sum_i \\mathbb{V} X_{i}\n",
    "= \\frac{1}{n} \\mathbb{V} X_1\n",
    "= \\frac{\\sigma^2}{n}.\n",
    "$$\n",
    "\n",
    "As for the final claim, note that\n",
    "\n",
    "$$\n",
    "\\left(n-1\\right)S_{n}^{2}=\\sum_{i=1}^{n}\\left(X_{i}-\\overline{X}\\right)^{2}=\\sum_{i=1}^{n}X_{i}^{2}-2X_{i}\\overline{X}+\\overline{X}^{2}\n",
    "$$\n",
    "\n",
    "and hence\n",
    "\n",
    "$$\n",
    "\\frac{n-1}{n}\\mathbb{E}(S_{n}^{2})=\\mathbb{E}(X_{1}^{2})-2\\mathbb{E}(X_{1}\\overline{X})+\\mathbb{E}(\\overline{X}^{2}).\n",
    "$$\n",
    "\n",
    "Note that $\\mathbb{E}(X_{1}^{2})=\\sigma^{2}+\\mu$ and $\\mathbb{E}(\\overline{X}^{2})=\\sigma^{2}/n+\\mu^{2}$.\n",
    "Moreover,\n",
    "\n",
    "$$\n",
    "X_{1}\\overline{X}=\\frac{1}{n}X_{1}\\left(X_{1}+\\sum_{i\\neq1}X_{i}\\right)\n",
    "$$\n",
    "\n",
    "and hence $\\mathbb{E}(X_{1}\\overline{X})=\\sigma^{2}/n+\\mu^{2}$.\n",
    "Substituting these findings into the equation above yields $\\mathbb{E}(S_{n}^{2})=\\sigma^{2}$, as desired."
   ]
  },
  {
   "cell_type": "markdown",
   "id": "8e80ed46-fb8e-40d1-bb48-802da955c7fc",
   "metadata": {},
   "source": [
    "## 9."
   ]
  },
  {
   "cell_type": "code",
   "execution_count": 162,
   "id": "fdf5a773-76c4-4e67-90c5-1ee800fb79e0",
   "metadata": {},
   "outputs": [
    {
     "data": {
      "image/png": "[encoded data removed]",
      "text/plain": [
       "<Figure size 640x480 with 1 Axes>"
      ]
     },
     "metadata": {},
     "output_type": "display_data"
    }
   ],
   "source": [
    "X = np.random.randn(10_000)\n",
    "n = np.arange(1, X.shape[0] + 1)\n",
    "plt.plot(n, X.cumsum() / n)\n",
    "plt.title(\"$\\overline{X}_n$ where $X_i$ is normal\")\n",
    "plt.xlabel(\"$n$\");"
   ]
  },
  {
   "cell_type": "code",
   "execution_count": 7,
   "id": "a50f65a2-5653-492b-83ce-aa008cf13b63",
   "metadata": {},
   "outputs": [
    {
     "data": {
      "image/png": "[encoded data removed]",
      "text/plain": [
       "<Figure size 640x480 with 1 Axes>"
      ]
     },
     "metadata": {},
     "output_type": "display_data"
    }
   ],
   "source": [
    "X = np.random.standard_cauchy(10_000)\n",
    "n = np.arange(1, X.shape[0] + 1)\n",
    "plt.plot(n, X.cumsum() / n)\n",
    "plt.title(\"$\\overline{X}_n$ where $X_i$ is Cauchy\")\n",
    "plt.xlabel(\"$n$\");"
   ]
  },
  {
   "cell_type": "markdown",
   "id": "d798b419-0be9-4516-b892-203f3bad211e",
   "metadata": {},
   "source": [
    "The results are so different because a Cauchy random variable has no first moment."
   ]
  },
  {
   "cell_type": "markdown",
   "id": "2e2fd79d-12b0-40c0-b86d-dc42ceab45b3",
   "metadata": {},
   "source": [
    "## 10."
   ]
  },
  {
   "cell_type": "markdown",
   "id": "15b9a145-4051-4fcf-a33b-eb784cbba036",
   "metadata": {},
   "source": [
    "The moment generating function of a standard normal distribution is $\\exp(t^2 / 2)$.\n",
    "Therefore, $\\mathbb{E} e^X = \\sqrt{e}$ and $\\mathbb{E} e^{2 X} = e^2$.\n",
    "It follows that $\\mathbb{V} e^X = e(e - 1)$."
   ]
  },
  {
   "cell_type": "code",
   "execution_count": 201,
   "id": "05043869-973b-404d-9ecd-c043d9940cda",
   "metadata": {},
   "outputs": [],
   "source": [
    "X = np.random.randn(100_000_000)\n",
    "Y = np.exp(X)\n",
    "\n",
    "np.testing.assert_almost_equal(Y.mean(), np.sqrt(np.exp(1)), decimal=2)\n",
    "np.testing.assert_almost_equal(Y.var(), np.exp(1) * (np.exp(1) - 1), decimal=2)"
   ]
  },
  {
   "cell_type": "markdown",
   "id": "7fe3f21d-00d9-4485-a6ba-a3f39a3bd52a",
   "metadata": {},
   "source": [
    "## 11."
   ]
  },
  {
   "cell_type": "markdown",
   "id": "dc20232b-8987-4939-bb94-dcd343eaaa26",
   "metadata": {},
   "source": [
    "(a) See Question 4."
   ]
  },
  {
   "cell_type": "code",
   "execution_count": 189,
   "id": "7f572707-c740-47b5-9c74-0db65b413905",
   "metadata": {},
   "outputs": [
    {
     "data": {
      "image/png": "[encoded data removed]",
      "text/plain": [
       "<Figure size 640x480 with 1 Axes>"
      ]
     },
     "metadata": {},
     "output_type": "display_data"
    }
   ],
   "source": [
    "Y = np.random.randn(4, 10_000)\n",
    "X = Y.cumsum(axis=1)\n",
    "for x in X:\n",
    "    plt.plot(x, linewidth=1)"
   ]
  },
  {
   "cell_type": "markdown",
   "id": "5d26c49f-c83e-4e17-b91a-24285cb48c25",
   "metadata": {},
   "source": [
    "(b) As time $n$ increases, the dispersion from zero increases.\n",
    "This is explained by $\\mathbb{E} X_n = 0$ and $\\mathbb{E} V(X_n) = n$ from part (a)."
   ]
  },
  {
   "cell_type": "markdown",
   "id": "d1446a9a-bfc8-44fd-ac21-68fd588779e8",
   "metadata": {},
   "source": [
    "## 12."
   ]
  },
  {
   "cell_type": "markdown",
   "id": "48c59c0e-5836-4c61-aa2c-c4e31bd10b69",
   "metadata": {},
   "source": [
    "Let $X_{1},\\ldots X_{n}\\sim\\operatorname{Bernoulli}(p)$ be IID.\n",
    "Then, $\\mathbb{E}X_{1}=p$ and $\\mathbb{V}(X_{1})=\\mathbb{E}X_{1}^{2}-(\\mathbb{E}X_{1})^{2}=p(1-p)$.\n",
    "It follows that $S=X_{1}+\\cdots+X_{n}\\sim\\operatorname{Binomial}(n,p)$ with $\\mathbb{E}S=np$ and $\\mathbb{V}(S)=n\\mathbb{V}(X_{1})=np(1-p)$.\n",
    "\n",
    "---\n",
    "\n",
    "Let $T\\sim\\operatorname{Geom}(p)$.\n",
    "First, note that\n",
    "\n",
    "$$\n",
    "\\mathbb{E}(T^d)=\\sum_{k\\geq1}k^dp(1-p)^{k-1}\n",
    "$$\n",
    "\n",
    "and hence\n",
    "\n",
    "$$\n",
    "\\mathbb{E}(T^d)\n",
    "=\\frac{\\mathbb{E}(T^d)-(1-p)\\mathbb{E}(T^d)}{p}.\n",
    "$$\n",
    "\n",
    "Therefore,\n",
    "\n",
    "$$\n",
    "\\mathbb{E}T\n",
    "=\\sum_{k\\geq1}k(1-p)^{k-1}-\\sum_{k\\geq1}k(1-p)^{k}\n",
    "=\\sum_{k\\geq0}(1-p)^{k}=\\frac{1}{p}\n",
    "$$\n",
    "\n",
    "and\n",
    "\n",
    "$$\n",
    "\\mathbb{E}(T^{2})\n",
    "=\\sum_{k\\geq1}k^{2}(1-p)^{k-1}-\\sum_{k\\geq1}k^{2}(1-p)^{k}\n",
    "=\\sum_{k\\geq0}(1+2k)(1-p)^{k}\n",
    "=\\frac{2-p}{p^{2}}.\n",
    "$$\n",
    "\n",
    "It follows that\n",
    "\n",
    "$$\n",
    "\\mathbb{V}(T)\n",
    "=\\mathbb{E}(T^{2})-(\\mathbb{E}T)^{2}\n",
    "=\\frac{1-p}{p^{2}}.\n",
    "$$\n",
    "\n",
    "---\n",
    "\n",
    "Let $X\\sim\\operatorname{Poisson}(\\lambda)$.\n",
    "Then,\n",
    "\n",
    "$$\n",
    "\\mathbb{E}X=e^{-\\lambda}\\sum_{k\\geq1}k\\frac{\\lambda^{k}}{k!}=\\lambda e^{-\\lambda}\\sum_{k\\geq0}\\frac{\\lambda^{k}}{k!}=\\lambda.\n",
    "$$\n",
    "\n",
    "Moreover,\n",
    "\n",
    "$$\n",
    "\\mathbb{E}(X^{2})=e^{-\\lambda}\\sum_{k\\geq1}k^{2}\\frac{\\lambda^{k}}{k!}=\\lambda e^{-\\lambda}\\sum_{k\\geq0}(k+1)\\frac{\\lambda^{k}}{k!}=\\lambda^{2}+\\lambda.\n",
    "$$\n",
    "\n",
    "Therefore, $\\mathbb{E}(X^{2})=\\lambda$.\n",
    "\n",
    "---\n",
    "\n",
    "Let $U\\sim\\operatorname{Uniform}(0,1)$.\n",
    "Then,\n",
    "\n",
    "$$\n",
    "\\mathbb{E}(U^{d})=\\int_{0}^{1}u^{d}du=\\frac{1}{d+1}.\n",
    "$$\n",
    "\n",
    "Therefore, $\\mathbb{V}(U)=1/3-1/4=1/12$.\n",
    "Next, let $X=(b-a)U+a\\sim\\operatorname{Uniform}(a,b)$.\n",
    "It follows that\n",
    "\n",
    "$$\n",
    "\\mathbb{E}X=(b-a)\\mathbb{E}U+a=\\frac{b-a}{2}+a=\\frac{a+b}{2}\n",
    "$$\n",
    "\n",
    "and\n",
    "\n",
    "$$\n",
    "\\mathbb{V}(X)=(b-a)^{2}\\mathbb{V}(U)=\\frac{(b-a)^{2}}{12}.\n",
    "$$\n",
    "\n",
    "---\n",
    "\n",
    "Let $X\\sim\\operatorname{Exponential}(\\beta)$. Then, by integration by parts,\n",
    "\n",
    "$$\n",
    "\\mathbb{E}X=\\frac{1}{\\beta}\\int_{0}^{\\infty}xe^{-x/\\beta}dx=-xe^{-x/\\beta}\\mid_{0}^{\\infty}+\\int_{0}^{\\infty}e^{-x/\\beta}dx=-\\beta e^{-x/\\beta}\\mid_{0}^{\\infty}=\\beta\n",
    "$$\n",
    "\n",
    "and \n",
    "\n",
    "$$\n",
    "\\mathbb{E}X^{2}=\\frac{1}{\\beta}\\int_{0}^{\\infty}x^{2}e^{-x/\\beta}dx=-x^{2}e^{-x/\\beta}\\mid_{0}^{\\infty}+2\\int_{0}^{\\infty}xe^{-x/\\beta}dx=2\\beta^{2}.\n",
    "$$\n",
    "\n",
    "It follows that $\\mathbb{V}(X)=2\\beta^{2}-\\beta^{2}=\\beta^{2}$.\n",
    "\n",
    "---\n",
    "\n",
    "Let $X\\sim\\operatorname{Gamma}(\\alpha,\\beta)$. Then, for $n\\geq1$,\n",
    "\n",
    "$$\n",
    "\\mathbb{E}(X^{n})=\\int_{0}^{\\infty}\\frac{x^{\\alpha-1+n}e^{-x/\\beta}}{\\beta^{\\alpha}\\Gamma(\\alpha)}dx=\\frac{\\beta^{\\alpha+n}\\Gamma(\\alpha+n)}{\\beta^{\\alpha}\\Gamma(\\alpha)}=(\\alpha+n-1)\\cdots\\alpha\\beta^{n}.\n",
    "$$\n",
    "\n",
    "It follows that\n",
    "\n",
    "$$\n",
    "\\mathbb{V}X=(\\alpha+1)\\alpha\\beta^{2}-\\alpha^{2}\\beta^{2}=\\alpha\\beta^{2}.\n",
    "$$\n",
    "\n",
    "---\n",
    "\n",
    "Let $X\\sim\\operatorname{Beta}(\\alpha,\\beta)$. Then, for $n\\geq1$,\n",
    "\n",
    "$$\n",
    "\\mathbb{E}(X^{n})=\\int_{0}^{1}\\frac{\\Gamma(\\alpha+\\beta)}{\\Gamma(\\alpha)\\Gamma(\\beta)}x^{\\alpha-1+n}(1-x)^{\\beta-1}dx=\\frac{\\Gamma(\\alpha+n)}{\\Gamma(\\alpha+n+\\beta)}\\frac{\\Gamma(\\alpha+\\beta)}{\\Gamma(\\alpha)}=\\frac{(\\alpha+n-1)\\cdots\\alpha}{(\\alpha+n-1+\\beta)\\cdots(\\alpha+\\beta)}.\n",
    "$$\n",
    "\n",
    "It follows that\n",
    "\n",
    "$$\n",
    "\\mathbb{V}X=\\frac{(\\alpha+1)\\alpha}{(\\alpha+1+\\beta)(\\alpha+\\beta)}-\\left(\\frac{\\alpha}{(\\alpha+\\beta)}\\right)^{2}=\\frac{\\alpha\\beta}{(\\alpha+\\beta)^{2}(\\alpha+\\beta+1)}.\n",
    "$$"
   ]
  },
  {
   "cell_type": "markdown",
   "id": "171f36a6-5dec-40a5-b8cb-53fea2ea8b9b",
   "metadata": {},
   "source": [
    "## 13."
   ]
  },
  {
   "cell_type": "markdown",
   "id": "892d2c65-6d08-45a8-af7f-88845121d25d",
   "metadata": {},
   "source": [
    "Let $C$ be the result of the toss.\n",
    "Then,\n",
    "\n",
    "$$\n",
    "\\mathbb{E}X=\\mathbb{E}(XI_{\\{C=H\\}}+XI_{\\{C=T\\}})=\\frac{1}{2}\\left(\\frac{1}{2}+\\frac{7}{2}\\right)=2.\n",
    "$$\n",
    "\n",
    "Similarly,\n",
    "\n",
    "$$\n",
    "\\mathbb{E}(X^{2})=\\mathbb{E}(X^{2}I_{\\{C=H\\}}+X^{2}I_{\\{C=T\\}})=\\frac{1}{2}\\left(\\frac{1}{3}+\\frac{37}{3}\\right)=\\frac{19}{3}.\n",
    "$$\n",
    "\n",
    "Therefore, $\\operatorname{Std}(X)=\\sqrt{7/3}$."
   ]
  },
  {
   "cell_type": "code",
   "execution_count": 196,
   "id": "480d7b8e-858e-4d4b-9a10-13d490831737",
   "metadata": {},
   "outputs": [],
   "source": [
    "p = 1. / 2.\n",
    "n = 1_000_000\n",
    "C = np.random.rand(n) < p\n",
    "X = np.random.rand(n) * C + (3. + np.random.rand(n)) * (1. - C)\n",
    "\n",
    "np.testing.assert_almost_equal(X.mean(), 2., decimal=3)\n",
    "np.testing.assert_almost_equal(X.std(), np.sqrt(7. / 3.), decimal=3)"
   ]
  },
  {
   "cell_type": "markdown",
   "id": "234ad999-0707-482b-96f7-dd77cfed0e92",
   "metadata": {},
   "source": [
    "## 14."
   ]
  },
  {
   "cell_type": "markdown",
   "id": "46c9bd23-39c0-498b-b778-2646c6d4e613",
   "metadata": {},
   "source": [
    "For any random variables $X, Y, Z$,\n",
    "\n",
    "$$\n",
    "\\operatorname{Cov}(X+Y,Z)\n",
    "=\\mathbb{E}((X+Y)Z)-\\mathbb{E}(X+Y)\\mathbb{E}Z\n",
    "=\\mathbb{E}(XZ)-\\mathbb{E}X\\mathbb{E}Z+\\mathbb{E}(YZ)-\\mathbb{E}Y\\mathbb{E}Z\n",
    "=\\operatorname{Cov}(X,Z)+\\operatorname{Cov}(Y,Z).\n",
    "$$\n",
    "\n",
    "Using this, the fact that the covariance function is symmetric, the claim\n",
    "\n",
    "$$\n",
    "\\operatorname{Cov}\\left(\\sum_{i=1}^{m}a_{i}X_{i},\\sum_{j=1}^{n}b_{j}Y_{j}\\right)=\\sum_{i=1}^{m}\\sum_{j=1}^{n}a_{i}b_{j}\\operatorname{Cov}(X_{i},Y_{j})\n",
    "$$\n",
    "\n",
    "follows by induction."
   ]
  },
  {
   "cell_type": "markdown",
   "id": "5d521903-d816-4ff0-8e27-dea1fa342b5f",
   "metadata": {},
   "source": [
    "## 15."
   ]
  },
  {
   "cell_type": "markdown",
   "id": "c9fec521-4eee-4ce6-a028-9e15e0105854",
   "metadata": {},
   "source": [
    "First, note that $\\mathbb{V}(2X-3Y+8)=\\mathbb{V}(2X-3Y)$. Moreover,\n",
    "\n",
    "$$\n",
    "\\mathbb{E}[2X-3Y]=\\int_{0}^{1}\\int_{0}^{2}(2x-3y)\\frac{1}{3}(x+y)dydx=-\\frac{23}{9}\n",
    "$$\n",
    "\n",
    "and\n",
    "\n",
    "$$\n",
    "\\mathbb{E}[(2X-3Y)^{2}]=\\int_{0}^{1}\\int_{0}^{2}(2x-3y)^{2}\\frac{1}{3}(x+y)dydx=\\frac{86}{9}.\n",
    "$$\n",
    "\n",
    "Therefore, the variance is $245/81$."
   ]
  },
  {
   "cell_type": "markdown",
   "id": "5355ac96-40c0-44f9-9564-a9b24ec8d70e",
   "metadata": {},
   "source": [
    "## 16."
   ]
  },
  {
   "cell_type": "markdown",
   "id": "bea95eb0-5e56-4ddf-ae58-5b710600b152",
   "metadata": {},
   "source": [
    "In the absolutely continuous case,\n",
    "\n",
    "$$\n",
    "\\mathbb{E}[r(X)s(Y)\\mid X=x]=\\int r(x)s(y)f(y\\mid x)dy=r(x)\\int s(y)f(y\\mid x)dy=r(x)\\mathbb{E}[S(Y)\\mid X=x].\n",
    "$$\n",
    "\n",
    "Taking $s=1$ yields\n",
    "\n",
    "$$\n",
    "\\mathbb{E}[r(X)\\mid X=x]=r(x)\\mathbb{E}[1\\mid X=x]=r(x).\n",
    "$$\n",
    "\n",
    "The discrete case is similar.\n",
    "Generalizing this to variables that are neither absolutely continuous nor discrete requires [Radon-Nikodym derivatives](https://en.wikipedia.org/wiki/Radon%E2%80%93Nikodym_theorem)."
   ]
  },
  {
   "cell_type": "markdown",
   "id": "0ac76eb0-63c6-495b-8241-b7f4100ca64d",
   "metadata": {},
   "source": [
    "## 17."
   ]
  },
  {
   "cell_type": "markdown",
   "id": "823ad987-5796-462b-af95-07637e905537",
   "metadata": {},
   "source": [
    "This is called the [law of total variance](https://en.wikipedia.org/wiki/Law_of_total_variance).\n",
    "By the tower property\n",
    "\n",
    "$$\n",
    "\\mathbb{E}\\mathbb{V}(Y\\mid X)=\\mathbb{E}(\\mathbb{E}(Y^{2}\\mid X)-\\mathbb{E}(Y\\mid X)^{2})=\\mathbb{E}(Y^{2})-\\mathbb{E}(\\mathbb{E}(Y\\mid X)^{2})\n",
    "$$\n",
    "\n",
    "and\n",
    "\n",
    "$$\n",
    "\\mathbb{V}\\mathbb{E}(Y\\mid X)=\\mathbb{E}(\\mathbb{E}(Y\\mid X)^{2})-(\\mathbb{E}\\mathbb{E}(Y\\mid X))^{2}=\\mathbb{E}(\\mathbb{E}(Y\\mid X)^{2})-(\\mathbb{E}Y)^{2}.\n",
    "$$\n",
    "\n",
    "Summing these quantities yields $\\mathbb{V}(Y)$."
   ]
  },
  {
   "cell_type": "markdown",
   "id": "3ac48395-f618-4c34-928b-6efeb7d9f4e8",
   "metadata": {},
   "source": [
    "## 18."
   ]
  },
  {
   "cell_type": "markdown",
   "id": "7ffe0ca2-0820-4596-8e9f-f30af156d4b3",
   "metadata": {},
   "source": [
    "By the tower property,\n",
    "\n",
    "$$\n",
    "\\mathbb{E}(XY)=\\mathbb{E}\\mathbb{E}(XY\\mid Y)=\\mathbb{E}(\\mathbb{E}(X\\mid Y)Y)=\\mathbb{E}(cY)=c\\mathbb{E}(Y)\n",
    "$$\n",
    "\n",
    "and $\\mathbb{E}X\\mathbb{E}Y=\\mathbb{E}\\mathbb{E}(X\\mid Y)\\mathbb{E}Y=c\\mathbb{E}Y$.\n",
    "It follows that $\\operatorname{Cov}(X,Y)=\\mathbb{E}(XY)-\\mathbb{E}X\\mathbb{E}Y=0$ and hence $X$ and $Y$ are uncorrelated."
   ]
  },
  {
   "cell_type": "markdown",
   "id": "bdc11bee-40e2-4149-82de-bf0587a70a78",
   "metadata": {},
   "source": [
    "## 19."
   ]
  },
  {
   "cell_type": "markdown",
   "id": "4dc2e3ed-2edc-4e46-99e8-eead4e982368",
   "metadata": {},
   "source": [
    "If $X_1, X_2, \\ldots$ are IID $\\operatorname{Uniform}(0, 1)$, then $\\mathbb{E} \\overline{X} = \\frac{1}{2}$ and $\\mathbb{V} \\overline{X} = \\frac{1}{12 n}$."
   ]
  },
  {
   "cell_type": "code",
   "execution_count": 28,
   "id": "ef8c9682-e56b-4289-828f-48ad220edbc8",
   "metadata": {},
   "outputs": [
    {
     "data": {
      "text/html": [
       "<table>\n",
       "<thead>\n",
       "<tr><th style=\"text-align: right;\">  n</th><th style=\"text-align: right;\">  E[X_bar]</th><th style=\"text-align: right;\">  approx E[X_bar]</th><th style=\"text-align: right;\">   V(X_bar)</th><th style=\"text-align: right;\">  approx V(X_bar)</th></tr>\n",
       "</thead>\n",
       "<tbody>\n",
       "<tr><td style=\"text-align: right;\">  1</td><td style=\"text-align: right;\">       0.5</td><td style=\"text-align: right;\">         0.49876 </td><td style=\"text-align: right;\">0.0833333  </td><td style=\"text-align: right;\">      0.0829786  </td></tr>\n",
       "<tr><td style=\"text-align: right;\">  5</td><td style=\"text-align: right;\">       0.5</td><td style=\"text-align: right;\">         0.500962</td><td style=\"text-align: right;\">0.0166667  </td><td style=\"text-align: right;\">      0.0167072  </td></tr>\n",
       "<tr><td style=\"text-align: right;\"> 25</td><td style=\"text-align: right;\">       0.5</td><td style=\"text-align: right;\">         0.499669</td><td style=\"text-align: right;\">0.00333333 </td><td style=\"text-align: right;\">      0.0033357  </td></tr>\n",
       "<tr><td style=\"text-align: right;\">100</td><td style=\"text-align: right;\">       0.5</td><td style=\"text-align: right;\">         0.50003 </td><td style=\"text-align: right;\">0.000833333</td><td style=\"text-align: right;\">      0.000831198</td></tr>\n",
       "</tbody>\n",
       "</table>"
      ],
      "text/plain": [
       "'<table>\\n<thead>\\n<tr><th style=\"text-align: right;\">  n</th><th style=\"text-align: right;\">  E[X_bar]</th><th style=\"text-align: right;\">  approx E[X_bar]</th><th style=\"text-align: right;\">   V(X_bar)</th><th style=\"text-align: right;\">  approx V(X_bar)</th></tr>\\n</thead>\\n<tbody>\\n<tr><td style=\"text-align: right;\">  1</td><td style=\"text-align: right;\">       0.5</td><td style=\"text-align: right;\">         0.49876 </td><td style=\"text-align: right;\">0.0833333  </td><td style=\"text-align: right;\">      0.0829786  </td></tr>\\n<tr><td style=\"text-align: right;\">  5</td><td style=\"text-align: right;\">       0.5</td><td style=\"text-align: right;\">         0.500962</td><td style=\"text-align: right;\">0.0166667  </td><td style=\"text-align: right;\">      0.0167072  </td></tr>\\n<tr><td style=\"text-align: right;\"> 25</td><td style=\"text-align: right;\">       0.5</td><td style=\"text-align: right;\">         0.499669</td><td style=\"text-align: right;\">0.00333333 </td><td style=\"text-align: right;\">      0.0033357  </td></tr>\\n<tr><td style=\"text-align: right;\">100</td><td style=\"text-align: right;\">       0.5</td><td style=\"text-align: right;\">         0.50003 </td><td style=\"text-align: right;\">0.000833333</td><td style=\"text-align: right;\">      0.000831198</td></tr>\\n</tbody>\\n</table>'"
      ]
     },
     "execution_count": 28,
     "metadata": {},
     "output_type": "execute_result"
    }
   ],
   "source": [
    "ns = (1, 5, 25, 100)\n",
    "X = np.random.uniform(size=(10_000, ns[-1]))\n",
    "X_bars = X.cumsum(axis=1) / np.arange(1, X.shape[1] + 1)\n",
    "table = [(n, 0.5, X_bars[:, n - 1].mean(), 1. / (12 * n), X_bars[:, n - 1].var()) for n in ns]\n",
    "tabulate(table, headers=(\"n\", \"E[X_bar]\", \"approx E[X_bar]\", \"V(X_bar)\", \"approx V(X_bar)\"), tablefmt=\"html\")"
   ]
  },
  {
   "cell_type": "markdown",
   "id": "9fefe7c0-3730-4138-95c7-2b95af31956d",
   "metadata": {},
   "source": [
    "While the mean does not change, as $n$ increases, the variance of $\\overline{X}$ decays proportional to $1 / n$.\n",
    "This holds more generally by the [central limit theorem](https://en.wikipedia.org/wiki/Central_limit_theorem)."
   ]
  },
  {
   "cell_type": "markdown",
   "id": "7cd1308c-25bb-4b84-a0e6-c52498b4e79c",
   "metadata": {},
   "source": [
    "## 20."
   ]
  },
  {
   "cell_type": "markdown",
   "id": "b6e2b230-78a4-4f5d-8afb-2fedf3fdcefc",
   "metadata": {},
   "source": [
    "For a vector $a$ with entries $a_i$,\n",
    "\n",
    "$$\n",
    "\\mathbb{E}(a^{\\intercal}X)\n",
    "=\\mathbb{E}\\biggl(\\sum_i a_i X_i\\biggr)\n",
    "=\\sum_i a_i \\mathbb{E}X_i\n",
    "=a^{\\intercal}\\mathbb{E}X_{n}.\n",
    "$$\n",
    "\n",
    "For a matrix $A$ with entries $a_{ij}$, define the column vector $a_{i \\star}$ as the transpose of the $i$-th row of $A$.\n",
    "Then,\n",
    "\n",
    "$$\n",
    "e_i^\\intercal \\mathbb{E}(AX)\n",
    "=\\mathbb{E}(e_i^\\intercal(AX))\n",
    "=\\mathbb{E}(a_{i\\star}^{\\intercal}X)\n",
    "=a_{i\\star}^{\\intercal}\\mathbb{E}X.\n",
    "$$\n",
    "\n",
    "Therefore, $\\mathbb{E}(AX) = A\\mathbb{E}X$.\n",
    "\n",
    "Next, using our findings in Question 14,\n",
    "\n",
    "$$\n",
    "\\mathbb{V}(a^{\\intercal}X)=\\mathbb{V}\\biggl(\\sum_{i}a_{i}X_{i}\\biggr)=\\sum_{ij}a_{i}a_{j}\\operatorname{Cov}(X_{i},X_{j})=a^{\\intercal}\\mathbb{V}(X)a.\n",
    "$$\n",
    "\n",
    "As before, we can generalize this to the matrix case by noting that\n",
    "\n",
    "$$\n",
    "e_i^\\intercal (\\mathbb{V}(AX)) e_j\n",
    "=\\operatorname{Cov}(e_i^\\intercal(AX),e_j^\\intercal(AX))\n",
    "=\\operatorname{Cov}(a_{i\\star}^{\\intercal}X,a_{j\\star}^{\\intercal}X)\n",
    "=\\sum_{k\\ell}a_{ik}a_{\\ell j}\\operatorname{Cov}(X_{k},X_{\\ell}).\n",
    "$$\n",
    "\n",
    "Therefore, $\\mathbb{V}(AX) = A\\mathbb{V}(X)A^\\intercal$."
   ]
  },
  {
   "cell_type": "markdown",
   "id": "3b78c8c0-7196-4683-81de-088b149f8795",
   "metadata": {},
   "source": [
    "## 21."
   ]
  },
  {
   "cell_type": "markdown",
   "id": "df37d589-c2a4-4c3e-a4e7-ba65de5eda25",
   "metadata": {},
   "source": [
    "Since\n",
    "\n",
    "$$\n",
    "\\mathbb{E}(XY)=\\mathbb{E}\\mathbb{E}(XY\\mid X)=\\mathbb{E}(X\\mathbb{E}(Y\\mid X))=\\mathbb{E}(X^{2})\n",
    "$$\n",
    "\n",
    "and\n",
    "\n",
    "$$\n",
    "\\mathbb{E}Y=\\mathbb{E}\\mathbb{E}(Y\\mid X)=\\mathbb{E}X,\n",
    "$$\n",
    "\n",
    "it follows that $\\operatorname{Cov}(X,Y)=\\mathbb{V}(X)$."
   ]
  },
  {
   "cell_type": "markdown",
   "id": "4d16267c-4c5b-4e97-b9f4-4e6c85dfa5cf",
   "metadata": {},
   "source": [
    "## 22."
   ]
  },
  {
   "cell_type": "markdown",
   "id": "e2b136f9-3ce3-49ea-877f-09fcc82e7d82",
   "metadata": {},
   "source": [
    "(a) Note that $\\mathbb{E}(YZ)=\\mathbb{E}I_{(a,b)}(X)=b-a$.\n",
    "Moreover, $\\mathbb{E}Y=\\mathbb{E}I_{(0,b)}(X)=b$ and $\\mathbb{E}Z=\\mathbb{E}I_{(a,1)}(X)=1-a$.\n",
    "Since $\\mathbb{E}(YZ)\\neq\\mathbb{E}Y\\mathbb{E}Z$, $Y$ and $Z$ are dependent.\n",
    "\n",
    "(b) If $Z = 0$, then $X \\leq a < b$ and hence $Y = 1$.\n",
    "Therefore, $\\mathbb{E}(Y \\mid Z = 0) = 1$ trivially.\n",
    "Moreover,\n",
    "\n",
    "$$\n",
    "\\mathbb{E}(Y\\mid Z=1)=\\frac{\\mathbb{E}(YZ)}{\\mathbb{E}Z}=\\frac{b-a}{1-a}.\n",
    "$$"
   ]
  },
  {
   "cell_type": "code",
   "execution_count": 40,
   "id": "77839547-f7ad-4603-bd6a-fb280f745613",
   "metadata": {},
   "outputs": [],
   "source": [
    "a = 0.3\n",
    "b = 0.5\n",
    "\n",
    "X = np.random.rand(1_000_000)\n",
    "Y = X < b\n",
    "Z = a < X\n",
    "\n",
    "np.testing.assert_almost_equal((Y * (~Z)).mean() / (~Z).mean(), 1.                , decimal=3)\n",
    "np.testing.assert_almost_equal((Y *   Z ).mean() /   Z .mean(), (b - a) / (1. - a), decimal=3)"
   ]
  },
  {
   "cell_type": "markdown",
   "id": "1bdb3425-9b9f-49ed-ad9b-61232909499e",
   "metadata": {},
   "source": [
    "## 23."
   ]
  },
  {
   "cell_type": "markdown",
   "id": "8869bebe-f8a4-4920-ba29-c02280fe34e6",
   "metadata": {},
   "source": [
    "Let $K\\sim\\operatorname{Poisson}(\\lambda)$. Then,\n",
    "\n",
    "$$\n",
    "\\mathbb{E}e^{tK}=\\sum_{k\\geq0}e^{tk}\\frac{\\lambda^{k}e^{-\\lambda}}{k!}=e^{-\\lambda}\\sum_{k\\geq0}\\frac{(\\lambda e^{t})^{k}}{k!}=\\exp(\\lambda(e^{t}-1)).\n",
    "$$\n",
    "\n",
    "---\n",
    "\n",
    "Let $X \\sim N(\\mu, \\sigma^2)$. Then,\n",
    "\n",
    "$$\n",
    "\\mathbb{E}e^{tX}=\\int_{-\\infty}^{\\infty}\\frac{1}{\\sqrt{2\\pi}\\sigma^{2}}\\exp\\biggl(-\\frac{(x-\\mu)^{2}}{2\\sigma^{2}}+\\frac{2\\sigma^{2}tx}{2\\sigma^{2}}\\biggr)dx.\n",
    "$$\n",
    "\n",
    "Completing the square,\n",
    "\n",
    "$$\n",
    "-(x-\\mu)^{2}+2\\sigma^{2}tx=-x^{2}+2\\mu x-\\mu^{2}+2\\sigma^{2}tx=-(x-(\\sigma^{2}t+\\mu))^{2}+\\sigma^{4}t^{2}+2\\mu\\sigma^{2}t.\n",
    "$$\n",
    "\n",
    "Therefore, the MGF of $X$ is $\\exp(\\sigma^{2}t^{2}/2+\\mu t)$.\n",
    "\n",
    "---\n",
    "\n",
    "Let $Y\\sim\\operatorname{Gamma}(\\alpha,\\beta)$ and\n",
    "\n",
    "$$\n",
    "\\gamma=\\frac{\\beta}{1-\\beta t}.\n",
    "$$\n",
    "\n",
    "When $\\gamma<0$ (or equivalently, $\\beta t<1$), \n",
    "\n",
    "$$\n",
    "\\mathbb{E}e^{tY}=\\frac{1}{\\beta^{\\alpha}\\Gamma(\\alpha)}\\int_{0}^{\\infty}e^{ty}y^{\\alpha-1}e^{-y/\\beta}dy=\\frac{\\gamma^{\\alpha}}{\\beta^{\\alpha}}\\frac{1}{\\gamma^{\\alpha}\\Gamma(\\alpha)}\\int_{0}^{\\infty}y^{\\alpha-1}e^{-y/\\gamma}dy\n",
    "=\\frac{\\gamma^{\\alpha}}{\\beta^{\\alpha}}=(1-\\beta t)^{-\\alpha}.\n",
    "$$"
   ]
  },
  {
   "cell_type": "markdown",
   "id": "01f3e398-4423-4dbc-8750-9a67dc2d8e93",
   "metadata": {},
   "source": [
    "## 24."
   ]
  },
  {
   "cell_type": "markdown",
   "id": "f75486d0-85b0-402b-b48f-8cf33c48a7f2",
   "metadata": {},
   "source": [
    "Let $X_{1},\\ldots,X_{n}\\sim\\operatorname{Exp}(\\beta)$.\n",
    "It follows that\n",
    "\n",
    "$$\n",
    "\\mathbb{E}e^{tX_{i}}=\\frac{1}{\\beta}\\int_{0}^{\\infty}e^{tx}e^{-x/\\beta}dx=\\frac{\\gamma}{\\beta}\\frac{1}{\\gamma}\\int_{0}^{\\infty}e^{-x/\\gamma}dx=\\frac{\\gamma}{\\beta}\n",
    "$$\n",
    "\n",
    "where $\\gamma$ is defined in the answer to the previous question.\n",
    "It follows that\n",
    "\n",
    "$$\n",
    "\\mathbb{E}e^{t\\sum_{i}X_{i}}=(\\mathbb{E}e^{t})^{n}=\\frac{\\gamma^{n}}{\\beta^{n}}\n",
    "$$\n",
    "\n",
    "and hence, by our findings in the previous question, $\\sum_{i}X_{i}\\sim\\operatorname{Gamma}(n,\\beta)$."
   ]
  }
 ],
 "metadata": {
  "kernelspec": {
   "display_name": "Python 3 (ipykernel)",
   "language": "python",
   "name": "python3"
  },
  "language_info": {
   "codemirror_mode": {
    "name": "ipython",
    "version": 3
   },
   "file_extension": ".py",
   "mimetype": "text/x-python",
   "name": "python",
   "nbconvert_exporter": "python",
   "pygments_lexer": "ipython3",
   "version": "3.11.3"
  }
 },
 "nbformat": 4,
 "nbformat_minor": 5
}
