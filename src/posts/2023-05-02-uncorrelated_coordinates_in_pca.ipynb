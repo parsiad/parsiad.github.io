{
 "cells": [
  {
   "cell_type": "raw",
   "id": "1232dbbd-51f0-44d4-9793-ecbdea8c4254",
   "metadata": {},
   "source": [
    "---\n",
    "date: 2023-05-02 12:00:00-0800\n",
    "layout: post\n",
    "title: Uncorrelated coordinates in PCA\n",
    "hidden: true\n",
    "---"
   ]
  },
  {
   "cell_type": "markdown",
   "id": "85fa715b",
   "metadata": {},
   "source": [
    "Let $X$ be an $N\\times p$ real matrix.\n",
    "Let $D$ be a real diagonal matrix, $w$ be a vector of nonnegative weights that sum to one, and\n",
    "\\begin{equation}\n",
    "Y=\\left(X-\\frac{1}{N}ee^{\\intercal}X\\right)D^{-1}.\n",
    "\\end{equation}\n",
    "$Y$ is a demeaned and rescaled version of $X$.\n",
    "\n",
    "Let $V_{k}$ be a real $p\\times k$ matrix consisting of the first $k$ principal components of $Y$.\n",
    "Just as we can interpret the rows of $Y$ as $p$-dimensional points $y_{1},\\ldots,y_{N}$, we can interpret the rows $a_{1},\\ldots,a_{N}$ of $YV_{k}$ as $k$-dimensional points in \"PCA space\".\n",
    "A property of PCA space is that the coordinates are uncorrelated:\n",
    "\\begin{equation}\n",
    "V_{k}^{\\intercal}Y^{\\intercal}YV_{k}-\\frac{1}{N}V_{k}^{\\intercal}Y^{\\intercal}ee^{\\intercal}YV_{k}=\\Lambda_{k}-0=\\Lambda_{k}\n",
    "\\end{equation}\n",
    "where $\\Lambda_{k}$ is the diagonal matrix consisting of the first $k$ eigenvalues of $Y^{\\intercal}Y$.\n",
    "\n",
    "Let $W_{k}=DV_{k}$. While $V_{k}$ is orthonormal, $W_{k}^{\\intercal}W_{k}$ is generally dense.\n",
    "However, similarly to the above, the rows $b_{1},\\ldots,b_{N}$ of the matrix $XW_{k}$ have uncorrelated coordinates: \n",
    "\\begin{equation}\n",
    "W_{k}^{\\intercal}X^{\\intercal}XW_{k}\n",
    "=W_{k}^{\\intercal}\\left(YD+\\frac{1}{N}ee^{\\intercal}X\\right)^{\\intercal}\\left(YD+\\frac{1}{N}ee^{\\intercal}X\\right)W_{k}\n",
    " =V_{k}^{\\intercal}Y^{\\intercal}YV_{k}+\\frac{1}{N}W_{k}^{\\intercal}X^{\\intercal}ee^{\\intercal}XW_{k}\n",
    " =\\Lambda_{k}+\\frac{1}{N}W_{k}^{\\intercal}X^{\\intercal}ee^{\\intercal}XW_{k}.\n",
    "\\end{equation}\n",
    "Note, in particular, that because $X$ is not demeaned, the second term on the last equation is not necessarily equal to zero."
   ]
  }
 ],
 "metadata": {
  "kernelspec": {
   "display_name": "Python 3 (ipykernel)",
   "language": "python",
   "name": "python3"
  },
  "language_info": {
   "codemirror_mode": {
    "name": "ipython",
    "version": 3
   },
   "file_extension": ".py",
   "mimetype": "text/x-python",
   "name": "python",
   "nbconvert_exporter": "python",
   "pygments_lexer": "ipython3",
   "version": "3.10.10"
  }
 },
 "nbformat": 4,
 "nbformat_minor": 5
}
