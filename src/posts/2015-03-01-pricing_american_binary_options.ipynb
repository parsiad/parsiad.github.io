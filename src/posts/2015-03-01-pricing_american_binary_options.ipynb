{
 "cells": [
  {
   "cell_type": "raw",
   "id": "c2b4de55-93e3-49c1-bc5e-68a5b1b767af",
   "metadata": {},
   "source": [
    "---\n",
    "date: 2015-03-01 12:00:00-0800\n",
    "layout: post\n",
    "redirect_from:\n",
    "  - /blog/2015/pricing-american-binary-options/\n",
    "title: Closed-form expressions for perpetual and finite-maturity American binary options\n",
    "---"
   ]
  },
  {
   "cell_type": "markdown",
   "id": "9883a4b7-b531-4311-8158-69e2000cf3ff",
   "metadata": {},
   "source": [
    "In this article, we derive the price of an American binary (a.k.a. digital) call and put options assuming that the underlying asset follows geometric Brownian motion. We handle the case in which a finite expiry time is specified for the option. We obtain results for the corresponding perpetual (i.e., no expiry) options by taking limits."
   ]
  },
  {
   "cell_type": "markdown",
   "id": "c078730d-61a7-4068-87ea-9463a76e4cbf",
   "metadata": {},
   "source": [
    "## American binary option"
   ]
  },
  {
   "cell_type": "markdown",
   "id": "66b5ab48-ff31-4839-8930-b3c54ef180c0",
   "metadata": {},
   "source": [
    "A binary option is a type of option in which pays off either some fixed amount (e.g., one dollar) or nothing at all."
   ]
  },
  {
   "cell_type": "markdown",
   "id": "755565d9-f0e8-4f6a-9e19-5cfef3630a24",
   "metadata": {
    "execution": {
     "iopub.execute_input": "2022-08-27T22:30:47.040129Z",
     "iopub.status.busy": "2022-08-27T22:30:47.038027Z",
     "iopub.status.idle": "2022-08-27T22:30:47.059616Z",
     "shell.execute_reply": "2022-08-27T22:30:47.057908Z",
     "shell.execute_reply.started": "2022-08-27T22:30:47.039956Z"
    }
   },
   "source": [
    "An American binary put pays the holder exactly one dollar if the asset on which it is written drops below a specific valuation, called the strike. For example, consider owning an American binary put with a strike price of 100 dollars, expiring in a year, and written on AAPL stock (which, for the purposes of this example, we assume trades at some value of greater than 100 dollars today). If at any point in time between now and a year from now AAPL stock drops below 100 dollars, we will receive one dollar by exercising the option."
   ]
  },
  {
   "cell_type": "markdown",
   "id": "63adf0b0-1faa-42d3-b0ff-f04d5a2c1503",
   "metadata": {},
   "source": [
    "An American binary call is similar, except that it pays the holder exactly one dollar if the asset on which it is written goes above a specific valuation."
   ]
  },
  {
   "cell_type": "markdown",
   "id": "0d5bc909-206c-425c-a73c-70508472ceb2",
   "metadata": {},
   "source": [
    "## Mathematical formulation"
   ]
  },
  {
   "cell_type": "markdown",
   "id": "0ab25cc8-f690-40ad-baa4-c517de4c023c",
   "metadata": {},
   "source": [
    "We assume that, under the [pricing measure](https://en.wikipedia.org/wiki/Risk-neutral_measure), the price of the stock (e.g., APPL) at time $t$ is given by \n",
    "\\begin{equation}\n",
    "    S_t = x \\exp\\biggl( \\left(r - \\delta - \\frac{1}{2} \\sigma^2 \\right) t + \\sigma W_t \\biggr)\n",
    "\\end{equation}\n",
    "where the initial price $x$ and volatility $\\sigma$ are positive, the interest rate $r$ is real, and the dividend rate $\\delta$ is nonnegative.\n",
    "$W$ is a standard [Wiener process](https://en.wikipedia.org/wiki/Wiener_process)."
   ]
  },
  {
   "cell_type": "markdown",
   "id": "a207eaa6-cad7-48bc-b21e-69c20b946d6d",
   "metadata": {},
   "source": [
    "Let $K$ denote the (nonnegative) strike price.\n",
    "If $x \\leq K$, the American binary put should be exercised immediately and is thus worth exactly one dollar.\n",
    "We call this the *trivial case*.\n",
    "Analogously, if $x \\geq K$, the American binary call is worth one dollar.\n",
    "Therefore, we proceed assuming the nontrivial case (i.e., $x > K$ for puts and $x < K$ for calls)."
   ]
  },
  {
   "cell_type": "markdown",
   "id": "942b76b5-52e8-40f7-a71b-562b716eaa92",
   "metadata": {},
   "source": [
    "Let $\\tau$ be the first time the asset hits level $K$.\n",
    "It follows that, for each realization, $\\tau$ is either infinite or satisfies\n",
    "\\begin{equation}\n",
    "    \\log s + \\left( r - \\delta - \\frac{1}{2} \\sigma^2 \\right) \\tau + \\sigma W_\\tau = \\log K.\n",
    "\\end{equation}\n",
    "We can rewrite the above equation as $\\mu \\tau + W_\\tau = a$ where\n",
    "\\begin{equation}\n",
    "    \\mu = \\frac{r - \\delta - \\frac{1}{2} \\sigma^2}{\\sigma}\n",
    "    \\quad \\text{and} \\quad\n",
    "    a = \\frac{\\log s - \\log K}{\\sigma}.\n",
    "\\end{equation}\n",
    "In other words, $\\tau$ is the first time a Wiener process with drift $\\mu$ hits the level $a$."
   ]
  },
  {
   "cell_type": "markdown",
   "id": "4fd7df30-95be-4a2f-8a13-e62e96d668cf",
   "metadata": {
    "execution": {
     "iopub.execute_input": "2022-08-27T22:47:54.849568Z",
     "iopub.status.busy": "2022-08-27T22:47:54.847842Z",
     "iopub.status.idle": "2022-08-27T22:47:54.859301Z",
     "shell.execute_reply": "2022-08-27T22:47:54.857384Z",
     "shell.execute_reply.started": "2022-08-27T22:47:54.849520Z"
    }
   },
   "source": [
    "The [density of the first time a Wiener process with drift $\\mu$ hits the level $a$](https://math.stackexchange.com/questions/1053294/density-of-first-hitting-time-of-brownian-motion-with-drift) is well-known:\n",
    "\\begin{equation}\n",
    "    f(t) = \\frac{\\left| a \\right|}{\\sqrt{2 \\pi t^3}} \\exp \\biggl( -\\frac{\\left( a - \\mu t \\right)^2}{2t} \\biggr).\n",
    "\\end{equation}\n",
    "Let $T \\leq \\infty$ be the expiry time of the option.\n",
    "The fair price of either instrument (in the nontrivial case) is\n",
    "\\begin{equation}\n",
    "    \\mathbb{E} e^{-r \\tau} \\chi_{[0, T]}(\\tau)\n",
    "    = \\int_0^T e^{-r t} f(t) dt.\n",
    "\\end{equation}\n",
    "where $\\chi_A$ is the [indicator function](https://en.wikipedia.org/wiki/Indicator_function) on a set $A$.\n",
    "The notation above reveals that this is none other than the [Laplace transform](https://en.wikipedia.org/wiki/Laplace_transform) of $f \\cdot \\chi_{[0, T]}$ evaluated at $r$."
   ]
  },
  {
   "cell_type": "markdown",
   "id": "d651d0fc-2cef-4edf-8a08-64b064ff7972",
   "metadata": {},
   "source": [
    "**Lemma.**\n",
    "$\\mu^2 + 2r$ is nonnegative."
   ]
  },
  {
   "cell_type": "markdown",
   "id": "e2a6f860-33ed-443d-9062-3681c7369b14",
   "metadata": {},
   "source": [
    "*Proof*.\n",
    "If $r$ is nonnegative, the result is trivial.\n",
    "If $r$ is negative, then since $\\delta \\geq 0$,\n",
    "\\begin{equation}\n",
    "    \\left( \\mu^2 + 2r \\right) \\sigma^2\n",
    "    \\geq \\left(r - \\frac{1}{2} \\sigma^2 \\right)^2 + 2r \\sigma^2\n",
    "    = r^2 + r \\sigma^2 + \\frac{1}{4} \\sigma^4\n",
    "    = \\left(r + \\frac{1}{2} \\sigma^2 \\right)^2\n",
    "    \\geq 0.\n",
    "\\end{equation}"
   ]
  },
  {
   "cell_type": "markdown",
   "id": "84c6b38a-e01a-4ffc-8387-020524124a59",
   "metadata": {},
   "source": [
    "## Laplace transform"
   ]
  },
  {
   "cell_type": "markdown",
   "id": "aa416b64-b043-44cd-9e0c-bae9070833df",
   "metadata": {},
   "source": [
    "In this section, we give an expression for the Laplace transform.\n",
    "We do not assume particular forms for $a$ and $\\mu$.\n",
    "Below, we use $\\operatorname{erf}(\\cdot)$ and $\\operatorname{sgn}(\\cdot)$ to denote the [error](https://en.wikipedia.org/wiki/Error_function) and [signum](https://en.wikipedia.org/wiki/Sign_function) functions, respectively."
   ]
  },
  {
   "cell_type": "markdown",
   "id": "38704077-81ab-4ad2-9cd7-a1bacfc9005e",
   "metadata": {},
   "source": [
    "**Theorem.**\n",
    "Let $b = \\sqrt{\\mu^2 + 2r}$ and $0 < T < \\infty$.\n",
    "If $b$ is real, then\n",
    "\\begin{equation}\n",
    "    \\mathbb{E} e^{-r \\tau} \\chi_{[0, T]}(\\tau)\n",
    "    = \\frac{1}{2} e^{a (\\mu - b)} \\left(\n",
    "        1\n",
    "        + \\operatorname{sgn}(a) \\operatorname{erf}\\biggl(\\frac{bT - a}{\\sqrt{2T}}\\biggr)\n",
    "        + e^{2ab} \\left(\n",
    "            1\n",
    "            - \\operatorname{sgn}(a) \\operatorname{erf}\\biggl(\\frac{bT + a}{\\sqrt{2T}}\\biggr)\n",
    "        \\right)\n",
    "    \\right)\n",
    "\\end{equation}"
   ]
  },
  {
   "cell_type": "markdown",
   "id": "de896881-88db-4c12-a32c-77cc7308670f",
   "metadata": {},
   "source": [
    "*Proof*.\n",
    "Denote by $F(T)$ the expression on the right-hand side of the above equation.\n",
    "Noting that\n",
    "\\begin{equation}\n",
    "    \\lim_{T \\downarrow 0} \\operatorname{erf} \\biggl( \\frac{bT \\pm a}{\\sqrt{2T}} \\biggr)\n",
    "    = \\pm \\operatorname{sgn}(a),\n",
    "\\end{equation}\n",
    "it follows that $\\lim_{T \\downarrow 0} F(T) = 0$.\n",
    "If we can establish $F^\\prime(t) = e^{-r t} f(t)$ for all $0 < t < \\infty$, then by the [fundamental theorem of calculus](https://en.wikipedia.org/wiki/Fundamental_theorem_of_calculus),\n",
    "\\begin{equation}\n",
    "    F(T) = F(T) - \\lim_{T \\downarrow 0} F(T) = \\int_0^T e^{-r t} f(t) dt,\n",
    "\\end{equation}\n",
    "as desired.\n",
    "This is accomplished with SageMath below:"
   ]
  },
  {
   "cell_type": "code",
   "execution_count": 6,
   "id": "1460f94e-c634-46f6-b9b9-8335b141bbcc",
   "metadata": {
    "execution": {
     "iopub.execute_input": "2022-08-29T17:29:48.209408Z",
     "iopub.status.busy": "2022-08-29T17:29:48.207688Z",
     "iopub.status.idle": "2022-08-29T17:29:48.504619Z",
     "shell.execute_reply": "2022-08-29T17:29:48.503355Z",
     "shell.execute_reply.started": "2022-08-29T17:29:48.209352Z"
    },
    "tags": []
   },
   "outputs": [],
   "source": [
    "var(\"t a r μ\")\n",
    "assume(t > 0)\n",
    "assume(a, \"real\")\n",
    "assume(r, \"real\")\n",
    "assume(μ, \"real\")\n",
    "b = sqrt(μ^2 + 2 * r)\n",
    "F = 1/2 * exp(a * (μ - b)) * (\n",
    "    1 + sign(a) * erf((b * t - a) / sqrt(2 * t)) + exp(2 * a * b) * (\n",
    "        1 - sign(a) * erf((b * t + a) / sqrt(2 * t))))\n",
    "f = sign(a) * a / sqrt(2 * pi * t^3) * exp(- (a - μ * t)^2 / (2 * t))\n",
    "delta = diff(F, t) - exp(-r * t) * f\n",
    "assert delta.canonicalize_radical() == 0"
   ]
  },
  {
   "cell_type": "markdown",
   "id": "267882d9-05ff-47d5-83f7-de703e1f1886",
   "metadata": {},
   "source": [
    "The infinite horizon case ($T = \\infty$) follows by taking the limit $T \\rightarrow \\infty$ and applying the [dominated convergence theorem](https://en.wikipedia.org/wiki/Dominated_convergence_theorem) to the above:"
   ]
  },
  {
   "cell_type": "markdown",
   "id": "9adb76c7-d284-476a-aeb9-f9337f6860c5",
   "metadata": {},
   "source": [
    "**Corollary.**\n",
    "Let $b = \\sqrt{\\mu^2 + 2r}$.\n",
    "If $b$ is real, then $\\mathbb{E} e^{-r \\tau} = e^{a \\mu - |a| b}$."
   ]
  },
  {
   "cell_type": "markdown",
   "id": "b378c538-b99a-4868-8c7e-37a3efd8d6a5",
   "metadata": {},
   "source": [
    "## Implementation"
   ]
  },
  {
   "cell_type": "code",
   "execution_count": 17,
   "id": "9ec8e40a-68d3-4e0f-8e98-e4268532f464",
   "metadata": {
    "execution": {
     "iopub.execute_input": "2022-08-28T00:46:28.941984Z",
     "iopub.status.busy": "2022-08-28T00:46:28.939835Z",
     "iopub.status.idle": "2022-08-28T00:46:28.956305Z",
     "shell.execute_reply": "2022-08-28T00:46:28.955138Z",
     "shell.execute_reply.started": "2022-08-28T00:46:28.941932Z"
    },
    "tags": []
   },
   "outputs": [],
   "source": [
    "from scipy.special import erf\n",
    "import numpy as np\n",
    "\n",
    "\n",
    "def american_binary(asset_price,\n",
    "                    dividend_rate,\n",
    "                    expiry_time,\n",
    "                    risk_free_rate,\n",
    "                    strike,\n",
    "                    volatility):\n",
    "    \"\"\"Computes the value of an American binary option.\n",
    "    \n",
    "    Parameters\n",
    "    ----------\n",
    "    asset_price: The price of the asset at the initial time (x).\n",
    "    dividend_rate: The dividend rate (δ).\n",
    "    expiry_time: The option's time-to-expiry (T).\n",
    "    risk_free_rate: The risk-free rate of return (r).\n",
    "    strike: The strike price (K).\n",
    "    volatility: The volatility (σ).\n",
    "    \n",
    "    Returns\n",
    "    -------\n",
    "    The value of an American binary put if the asset price is greater than the strike.\n",
    "    The value of an American binary call otherwise.\n",
    "    \"\"\"\n",
    "    r = risk_free_rate\n",
    "    T = expiry_time\n",
    "    a = np.log(asset_price / strike) / volatility\n",
    "    μ = (r - dividend_rate - 0.5 * volatility**2) / volatility\n",
    "    b = np.sqrt(μ**2 + 2. * r)\n",
    "    return 0.5 * np.exp(a * (μ - b)) * (\n",
    "        1 + np.sign(a) * erf((b * T - a) / np.sqrt(2. * T)) + np.exp(2. * a * b) * (\n",
    "            1 - np.sign(a) * erf((b * T + a) / np.sqrt(2. * T))))"
   ]
  },
  {
   "cell_type": "code",
   "execution_count": 3,
   "id": "ce3b8eab-03dc-4f9a-9caa-6191f51ca30e",
   "metadata": {
    "execution": {
     "iopub.execute_input": "2022-08-28T00:41:06.269917Z",
     "iopub.status.busy": "2022-08-28T00:41:06.268882Z",
     "iopub.status.idle": "2022-08-28T00:41:07.204149Z",
     "shell.execute_reply": "2022-08-28T00:41:07.202781Z",
     "shell.execute_reply.started": "2022-08-28T00:41:06.269888Z"
    },
    "tags": [
     "no_cell"
    ]
   },
   "outputs": [],
   "source": [
    "import matplotlib.pyplot as plt\n",
    "import matplotlib"
   ]
  },
  {
   "cell_type": "code",
   "execution_count": 4,
   "id": "bbb6e7f5-a7d5-4bd9-adb3-1625c7c421a4",
   "metadata": {
    "execution": {
     "iopub.execute_input": "2022-08-28T00:41:07.206341Z",
     "iopub.status.busy": "2022-08-28T00:41:07.205851Z",
     "iopub.status.idle": "2022-08-28T00:41:07.212984Z",
     "shell.execute_reply": "2022-08-28T00:41:07.211551Z",
     "shell.execute_reply.started": "2022-08-28T00:41:07.206317Z"
    },
    "tags": [
     "no_cell"
    ]
   },
   "outputs": [],
   "source": [
    "K = 100.\n",
    "r = 0.04\n",
    "δ = 0.01\n",
    "σ = 0.2\n",
    "T = 1."
   ]
  },
  {
   "cell_type": "code",
   "execution_count": 27,
   "id": "9dcf0a20-90aa-405f-bfc0-a0a547e49d84",
   "metadata": {
    "execution": {
     "iopub.execute_input": "2022-08-28T04:43:06.649759Z",
     "iopub.status.busy": "2022-08-28T04:43:06.647981Z",
     "iopub.status.idle": "2022-08-28T04:43:06.983901Z",
     "shell.execute_reply": "2022-08-28T04:43:06.982713Z",
     "shell.execute_reply.started": "2022-08-28T04:43:06.649681Z"
    },
    "tags": [
     "no_input"
    ]
   },
   "outputs": [
    {
     "data": {
      "image/png": "[encoded data removed]",
      "text/plain": [
       "<Figure size 582.48x720 with 2 Axes>"
      ]
     },
     "metadata": {},
     "output_type": "display_data"
    }
   ],
   "source": [
    "matplotlib.style.use('fivethirtyeight')\n",
    "\n",
    "x = np.linspace(K, 2. * K, 1001)\n",
    "y = american_binary(x, δ, T, r, K, σ)\n",
    "\n",
    "fig, (ax1, ax2) = plt.subplots(figsize=(1.618*5., 2.*5.), nrows=2, ncols=1, sharex=True, sharey=True)\n",
    "ax1.hlines(1., 0., K)\n",
    "ax1.plot(x, y)\n",
    "ax1.set_ylabel(\"Value\")\n",
    "ax1.set_title(\"Put\")\n",
    "\n",
    "x = np.linspace(0, K, 1001)[1:]\n",
    "y = american_binary(x, δ, T, r, K, σ)\n",
    "\n",
    "ax2.hlines(1., K, 2.* K)\n",
    "ax2.plot(x, y)\n",
    "ax2.set_title(\"Call\")\n",
    "ax2.set_ylabel(\"Value\")\n",
    "ax2.set_xlabel(\"Asset price\")\n",
    "\n",
    "fig.suptitle(f\"American binary options with K={K:.2f}, r={r:.2f}, δ={δ:.2f}, σ={σ:.2f}, T={T:.2f}\");"
   ]
  }
 ],
 "metadata": {
  "kernelspec": {
   "display_name": "SageMath 9.8",
   "language": "sage",
   "name": "sagemath"
  },
  "language_info": {
   "codemirror_mode": {
    "name": "ipython",
    "version": 3
   },
   "file_extension": ".py",
   "mimetype": "text/x-python",
   "name": "python",
   "nbconvert_exporter": "python",
   "pygments_lexer": "ipython3",
   "version": "3.10.6"
  }
 },
 "nbformat": 4,
 "nbformat_minor": 5
}
