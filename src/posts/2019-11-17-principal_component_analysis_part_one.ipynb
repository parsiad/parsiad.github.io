{
 "cells": [
  {
   "cell_type": "raw",
   "id": "6242f30b-ee19-4407-8201-ef6bd6e25e2c",
   "metadata": {},
   "source": [
    "---\n",
    "date: 2019-11-17 12:00:00-0800\n",
    "layout: post\n",
    "redirect_from:\n",
    "  - /blog/2019/principal-component-analysis-part-one/\n",
    "title: Principal component analysis - part one\n",
    "---"
   ]
  },
  {
   "cell_type": "markdown",
   "id": "eb4afc34-16cd-48b1-abc2-18496095ae8f",
   "metadata": {},
   "source": [
    "## Motivation"
   ]
  },
  {
   "cell_type": "markdown",
   "id": "9fcc27f4-8108-437d-a483-435eee759677",
   "metadata": {},
   "source": [
    "Consider, for example, that we want to perform [ordinary least squares](https://en.wikipedia.org/wiki/Ordinary_least_squares) (OLS) to find a line of best fit between the points $x_1, \\ldots, x_N$ in $p$ dimensional Euclidean space and labels $y_1, \\ldots, y_N$."
   ]
  },
  {
   "cell_type": "markdown",
   "id": "305353b1-9838-4318-a095-a5fe08b19a58",
   "metadata": {},
   "source": [
    "<img alt=\"\" src=\"data:image/png;base64,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\" />"
   ]
  },
  {
   "cell_type": "markdown",
   "id": "d036e6c9-bc40-4b36-9f0f-367dd527789a",
   "metadata": {},
   "source": [
    "When the number of predictors $p$ is large, it is possible to end up with a linear regression model with high variance (and hence higher than desirable prediction error).\n",
    "In addition, the resulting coefficients learned by the model may be harder to interpret than an alternative model with fewer predictors."
   ]
  },
  {
   "cell_type": "markdown",
   "id": "1df1072d-d999-403a-9c66-df30a3ff0492",
   "metadata": {},
   "source": [
    "*Principal component analysis* (PCA) is a method for transforming points (such as $x_1, \\ldots, x_N$ above) in a high dimensional space to points in a lower dimensional space by performing a sequence of scalar projections such that the resulting points account for as much of the original variance as possible."
   ]
  },
  {
   "cell_type": "markdown",
   "id": "ac9a422c-1007-42f7-8ed7-2bde1e8539c5",
   "metadata": {},
   "source": [
    "Don't worry if this sounds vague; we'll make it precise below."
   ]
  },
  {
   "cell_type": "markdown",
   "id": "463555c4-e183-4daf-b3dc-c76d66fad5d7",
   "metadata": {},
   "source": [
    "## Prerequisites"
   ]
  },
  {
   "cell_type": "markdown",
   "id": "2a35bded-ce50-4f4f-822d-d204abbf67f9",
   "metadata": {},
   "source": [
    "To understand this post, you will need to be familiar with the following concepts:\n",
    "\n",
    "* [linear algebra](https://en.wikipedia.org/wiki/Linear_algebra)\n",
    "* [variance](https://en.wikipedia.org/wiki/Variance)"
   ]
  },
  {
   "cell_type": "markdown",
   "id": "e1d11d1f-c5bd-446c-9c12-b72a120f28f0",
   "metadata": {},
   "source": [
    "## A review of scalar projections"
   ]
  },
  {
   "cell_type": "markdown",
   "id": "b03f689c-7b68-46a1-9c94-092e18c2a68a",
   "metadata": {},
   "source": [
    "We use $\\Vert \\cdot \\Vert$ to denote the [Euclidean distance](https://en.wikipedia.org/wiki/Euclidean_distance).\n",
    "Given vectors $x$ and $v$, the *scalar projection* of $x$ onto $v$ is $\\Vert x \\Vert \\cos \\theta$ where $\\theta$ is the angle between the two vectors."
   ]
  },
  {
   "cell_type": "markdown",
   "id": "8a989c37-707f-415b-b498-a94dcfc18061",
   "metadata": {},
   "source": [
    "<img alt=\"\" src=\"data:image/png;base64,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\" />"
   ]
  },
  {
   "cell_type": "markdown",
   "id": "c95d5dba-224f-41cd-bef7-c7c9f1280553",
   "metadata": {},
   "source": [
    "If $v$ is a unit vector (i.e., $\\Vert v \\Vert = 1$), the scalar projection can also be written $x \\cdot v$ using the [dot product](https://en.wikipedia.org/wiki/Dot_product)."
   ]
  },
  {
   "cell_type": "markdown",
   "id": "ccdc1830-d83b-4972-9b1f-07b212f36bc6",
   "metadata": {},
   "source": [
    "## Principal components"
   ]
  },
  {
   "cell_type": "markdown",
   "id": "f1f69c74-262c-4572-88d6-f4217d5fdf66",
   "metadata": {},
   "source": [
    "Before we define the principal components, let's introduce some equivalent representations of the data:\n",
    "* Let $\\mathbf{x}$ be random vector which takes on the values $x_1, \\ldots, x_N$ with uniform probability.\n",
    "* Let $X$ be a matrix with rows $x_1, \\ldots, x_N$."
   ]
  },
  {
   "cell_type": "markdown",
   "id": "ed403ea0-7b89-455c-852c-f6caf4a77703",
   "metadata": {
    "execution": {
     "iopub.execute_input": "2022-08-14T18:29:38.140291Z",
     "iopub.status.busy": "2022-08-14T18:29:38.139629Z",
     "iopub.status.idle": "2022-08-14T18:29:38.153422Z",
     "shell.execute_reply": "2022-08-14T18:29:38.151843Z",
     "shell.execute_reply.started": "2022-08-14T18:29:38.140219Z"
    }
   },
   "source": [
    "We assume that $\\mathbf{x}$ has zero expectation.\n",
    "If this is not true, we can always just center the data by subtracting $\\mathbb{E} \\mathbf{x}$ from each point."
   ]
  },
  {
   "cell_type": "markdown",
   "id": "d071de59-a015-4103-a983-d74fa3be5a9e",
   "metadata": {
    "execution": {
     "iopub.execute_input": "2022-08-14T18:30:18.871683Z",
     "iopub.status.busy": "2022-08-14T18:30:18.870944Z",
     "iopub.status.idle": "2022-08-14T18:30:18.880927Z",
     "shell.execute_reply": "2022-08-14T18:30:18.879524Z",
     "shell.execute_reply.started": "2022-08-14T18:30:18.871613Z"
    }
   },
   "source": [
    "We also assume $N > p$.\n",
    "In the context of our motivating example of OLS, this means that there are more samples than there are predictors."
   ]
  },
  {
   "cell_type": "markdown",
   "id": "970b5809-7503-4601-9667-339ef5ea89fd",
   "metadata": {},
   "source": [
    "### First principal component"
   ]
  },
  {
   "cell_type": "markdown",
   "id": "66bc647f-4f01-4ed8-86b1-7f9232895f80",
   "metadata": {},
   "source": [
    "The *first principal component* is a unit vector $v_1$ along which the variance of the scalar projection of $\\mathbf{x}$ onto $v_1$ is maximized.\n",
    "That is,\n",
    "\\begin{equation}\n",
    "    \\operatorname{Var}(\\mathbf{x} \\cdot v_1)\n",
    "    = \\max_{\\Vert v \\Vert = 1} \\operatorname{Var}(\\mathbf{x} \\cdot v).\n",
    "\\end{equation}\n",
    "In other words, we are looking for the direction along which the data varies the most."
   ]
  },
  {
   "cell_type": "markdown",
   "id": "8af422f1-5e88-4134-891d-194bd10a32b6",
   "metadata": {},
   "source": [
    "<img alt=\"\" src=\"data:image/png;base64,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\" />"
   ]
  },
  {
   "cell_type": "markdown",
   "id": "1a6c39b4-acc4-48ef-aa2f-368b7ef22574",
   "metadata": {},
   "source": [
    "*Remark*.\n",
    "The first principal component need not be unique: there may be two or more maximizers of the variance.\n",
    "In this case, it is understood that any one of these maximizers can be chosen to be \"the\" first principal component."
   ]
  },
  {
   "cell_type": "markdown",
   "id": "f0003ce2-d2fa-4946-b30f-eddc6b447ea9",
   "metadata": {},
   "source": [
    "But how do we compute the first principal component?\n",
    "First, let's obtain an equivalent expression for the variance:\n",
    "\\begin{equation}\n",
    "    N \\operatorname{Var}(\\mathbf{x} \\cdot v)\n",
    "    = \\sum_{i=1}^N \\left( x_i \\cdot v \\right)^2\n",
    "    = \\Vert Xv \\Vert^2\n",
    "    = \\left(Xv\\right)^\\intercal \\left(Xv\\right)\n",
    "    = v^\\intercal X^\\intercal X v.\n",
    "\\end{equation}"
   ]
  },
  {
   "cell_type": "markdown",
   "id": "2b922523-9168-4ecd-a7fc-15276642a4bb",
   "metadata": {},
   "source": [
    "**Lemma.**\n",
    "Let $A$ be a [positive semidefinite matrix](https://en.wikipedia.org/wiki/Definiteness_of_a_matrix).\n",
    "Let $w$ be the maximizer of $v \\mapsto v^\\intercal A v$ over all (real) unit vectors.\n",
    "Then, $w$ is an eigenvector of $A$ whose corresponding eigenvalue is maximal."
   ]
  },
  {
   "cell_type": "markdown",
   "id": "9a0d54bf-53ed-49b2-9d78-005bf9c6dbbc",
   "metadata": {},
   "source": [
    "*Proof*.\n",
    "Proceeding by the method of [Lagrange multipliers](https://en.wikipedia.org/wiki/Lagrange_multiplier), let $L(v) \\equiv v^\\intercal A v - \\lambda (v^\\intercal v - 1)$ where $\\lambda$ is an arbitrary constant.\n",
    "Then, $\\nabla L(v) \\propto A v - \\lambda v$.\n",
    "Since $w$ is a [critical point](https://en.wikipedia.org/wiki/Critical_point_(mathematics)) of $L$, it follows that $w$ is an eigenvector of $A$.\n",
    "Moreover, denoting by $r$ the eigenvalue corresponding to $w$, since $w^\\intercal A w = w^\\intercal r w = r$, it follows that $r$ is maximal.\n",
    "$\\blacksquare$"
   ]
  },
  {
   "cell_type": "markdown",
   "id": "8927ca69-2658-4450-bad6-6eda658f194a",
   "metadata": {
    "execution": {
     "iopub.execute_input": "2022-08-14T18:33:05.565638Z",
     "iopub.status.busy": "2022-08-14T18:33:05.564891Z",
     "iopub.status.idle": "2022-08-14T18:33:05.574144Z",
     "shell.execute_reply": "2022-08-14T18:33:05.572662Z",
     "shell.execute_reply.started": "2022-08-14T18:33:05.565598Z"
    }
   },
   "source": [
    "The above suggests a simple way to compute the first principal component: applying [power iteration](https://en.wikipedia.org/wiki/Power_iteration) to $A \\equiv X^\\intercal X$.\n",
    "Power iteration is an algorithm which returns, under reasonable conditions, an eigenvector corresponding to the largest eigenvalue of the input matrix.\n",
    "The details of power iteration are outside the scope of this article."
   ]
  },
  {
   "cell_type": "markdown",
   "id": "4b806329-ef20-4479-b16d-e725aa7a422f",
   "metadata": {
    "execution": {
     "iopub.execute_input": "2022-08-14T18:33:02.043301Z",
     "iopub.status.busy": "2022-08-14T18:33:02.042577Z",
     "iopub.status.idle": "2022-08-14T18:33:02.058929Z",
     "shell.execute_reply": "2022-08-14T18:33:02.057691Z",
     "shell.execute_reply.started": "2022-08-14T18:33:02.043232Z"
    }
   },
   "source": [
    "The proof above also reveals that the largest eigenvalue of $X^\\intercal X$, call it $\\lambda_1$, is related to the variance explained by the first principal component by\n",
    "\\begin{equation}\n",
    "    \\operatorname{Var}(\\mathbf{x} \\cdot v_1) = \\lambda_1 / N.\n",
    "\\end{equation}\n",
    "$\\sigma_1 = \\sqrt{\\lambda_1}$ is often referred to as the *first singular value* due to the connection between PCA on centered data and the [singular value decomposition](https://en.wikipedia.org/wiki/Singular_value_decomposition) (SVD) of the matrix $X$."
   ]
  },
  {
   "cell_type": "markdown",
   "id": "6670a560-0106-4a8d-b8ac-aea54412f61e",
   "metadata": {},
   "source": [
    "### Remaining principal components"
   ]
  },
  {
   "cell_type": "markdown",
   "id": "8270a72e-3052-40de-974f-18ee27284f33",
   "metadata": {},
   "source": [
    "Given the first principal component $v_1$, we can transform our data so that all contributions in the $v_1$ direction are removed.\n",
    "In particular, for each point $x_i$, we can create a new point\n",
    "\\begin{equation}\n",
    "    x_i^{(2)} \\equiv x_i - (x_i \\cdot v_1) v_1.\n",
    "\\end{equation}"
   ]
  },
  {
   "cell_type": "markdown",
   "id": "18a5db1f-016f-433d-b674-0a0db95f20ce",
   "metadata": {},
   "source": [
    "<img alt=\"\" src=\"data:image/png;base64,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\" />"
   ]
  },
  {
   "cell_type": "markdown",
   "id": "d557a4ac-ba6a-4792-b8f5-44fc92761b7f",
   "metadata": {},
   "source": [
    "Equivalently, we can represent this transformation in the matrix form\n",
    "\\begin{equation}\n",
    "  X^{(2)}\n",
    "  \\equiv X - X v_1 v_1^\\intercal = X \\left( I - v_1 v_1^\\intercal \\right)\n",
    "\\end{equation}\n",
    "from which it is clear that this transformation is a [projection](https://en.wikipedia.org/wiki/Projection_(linear_algebra)) with matrix $P \\equiv I - v_1 v_1^\\intercal$."
   ]
  },
  {
   "cell_type": "markdown",
   "id": "0ca9a71e-4072-4ab7-bbe6-472828f98b4c",
   "metadata": {},
   "source": [
    "<img alt=\"\" src=\"data:image/png;base64,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\" />"
   ]
  },
  {
   "cell_type": "markdown",
   "id": "4425ff15-bb01-4d6c-bf56-3516ed685aa6",
   "metadata": {},
   "source": [
    "The *second* principal component $v_2$ of $X$ is defined as the *first* principal component of $X^{(2)}$.\n",
    "Once computed, we can, as above, \"project out\" its contributions by taking $X^{(3)} \\equiv X^{(2)}(I - v_2 v_2^\\intercal)$.\n",
    "Continuing in this way, we can define the third, fourth, etc. principal components."
   ]
  },
  {
   "cell_type": "markdown",
   "id": "3791e7a1-0f4e-4823-970b-7582e5021556",
   "metadata": {},
   "source": [
    "We summarize the above procedure.\n",
    "Let $X^{(1)} \\equiv X$ and define\n",
    "\\begin{equation}\n",
    "  X^{(k+1)}\n",
    "  \\equiv X^{(k)} \\left( I - v_k v_k^\\intercal \\right) \\text{ for } k \\geq 1\n",
    "\\end{equation}\n",
    "where $v_k$ is the *first* principal component of $X^{(k)}$.\n",
    "We call $v_k$ the *$k$-th* principal component of $X$.\n",
    "Analogously, the *$k$-th* singular value of $X$ is defined as the *first* singular value of $X^{(k)}$."
   ]
  },
  {
   "cell_type": "markdown",
   "id": "480aa301-bb02-44cc-aba8-34955a0a48fb",
   "metadata": {},
   "source": [
    "Since each projection reduces the dimensionality of the space, it is guaranteed that $X^{(p+1)} = 0$.\n",
    "That is, it is only meaningful to talk about the first $p$ principal components."
   ]
  },
  {
   "cell_type": "markdown",
   "id": "f25bef8a-4e80-40e8-beda-1ff6c297b43c",
   "metadata": {
    "execution": {
     "iopub.execute_input": "2022-08-14T18:35:09.664021Z",
     "iopub.status.busy": "2022-08-14T18:35:09.663460Z",
     "iopub.status.idle": "2022-08-14T18:35:09.680274Z",
     "shell.execute_reply": "2022-08-14T18:35:09.678509Z",
     "shell.execute_reply.started": "2022-08-14T18:35:09.663952Z"
    }
   },
   "source": [
    "As usual, the higher order singular values can also be interpreted in terms of the variance captured by higher order principal components.\n",
    "In particular,\n",
    "\\begin{equation}\n",
    "    \\operatorname{Var}(\\mathbf{x}^{(k)} \\cdot v_k) = \\sigma_k^2 / N\n",
    "\\end{equation}\n",
    "where $\\mathbf{x}^{(k)}$ is a random vector which, with uniform probability, is equal to one of the rows of $X^{(k)}$ (recall that each row corresponds to one of the original points $x_i$ after contributions from the first $k-1$ principal components have been removed).\n",
    "By construction, $\\sigma_1 \\geq \\cdots \\geq \\sigma_p$."
   ]
  },
  {
   "cell_type": "markdown",
   "id": "4e7d2fd4-1be0-4781-aeb3-3ee18f33d67a",
   "metadata": {},
   "source": [
    "### Efficient computation"
   ]
  },
  {
   "cell_type": "markdown",
   "id": "77194b3f-b819-496f-991b-6854a1325a98",
   "metadata": {},
   "source": [
    "While the iterative definition of principal components given in the previous section is ideal for grasping the intuition behind PCA, it does not lend itself to an efficient numerical algorithm.\n",
    "Fortunately, due to the result below, it turns out that we need only ever consider the spectrum and eigenvectors of $X^\\intercal X$."
   ]
  },
  {
   "cell_type": "markdown",
   "id": "fd18f1ef-a9db-4dcd-9f2c-cb67a163a96e",
   "metadata": {},
   "source": [
    "**Lemma.**\n",
    "Let $\\lambda_1 \\geq \\ldots \\geq \\lambda_p$ denote the eigenvalues of $X^\\intercal X$.\n",
    "Let $v_1, \\ldots, v_p$ be corresponding eigenvectors, chosen to be orthonormal.\n",
    "Then, $\\sigma_k = \\sqrt{\\lambda_k}$ and $v_k$ are the $k$-th singular value and corresponding principal component of $X$."
   ]
  },
  {
   "cell_type": "markdown",
   "id": "fab0493d-1470-4a8b-a46f-692f0aa8af06",
   "metadata": {},
   "source": [
    "*Proof*.\n",
    "Fix $k$ and let $Y = X^{(k)}$ for brevity.\n",
    "Note that\n",
    "\\begin{equation}\n",
    "    Y v_j\n",
    "    = X \\left( I - v_1 v_1^\\intercal \\right) \\cdots \\left( I - v_{k-1} v_{k-1}^\\intercal \\right) v_j\n",
    "    = X v_j [j \\geq k]\n",
    "\\end{equation}\n",
    "where $[\\cdot]$ is the [Iverson bracket](https://en.wikipedia.org/wiki/Iverson_bracket).\n",
    "Therefore,\n",
    "\\begin{equation}\n",
    "    Y^\\intercal Y v_j\n",
    "    = v_j [j \\geq k].\n",
    "\\end{equation}\n",
    "In other words, $v_j$ is also an eigenvector of $Y^\\intercal Y$ with eigenvalue $\\lambda_j$ if $j \\geq k$ and eigenvalue $0$ otherwise.\n",
    "The desired result follows since the $k$-th principal component of $X$ is, by definition, the first principal component of $Y$.\n",
    "$\\blacksquare$"
   ]
  },
  {
   "cell_type": "markdown",
   "id": "fb3a0821-9203-485c-87cc-16dbaeaabec4",
   "metadata": {
    "execution": {
     "iopub.execute_input": "2022-08-14T18:37:34.350916Z",
     "iopub.status.busy": "2022-08-14T18:37:34.350255Z",
     "iopub.status.idle": "2022-08-14T18:37:34.364879Z",
     "shell.execute_reply": "2022-08-14T18:37:34.363366Z",
     "shell.execute_reply.started": "2022-08-14T18:37:34.350845Z"
    }
   },
   "source": [
    "*Remark*.\n",
    "NumPy/SciPy users can use the [`numpy.linalg.eigh`](https://numpy.org/doc/stable/reference/generated/numpy.linalg.eigh.html) or [`scipy.linalg.eigh`](https://docs.scipy.org/doc/scipy/reference/generated/scipy.linalg.eigh.html) to get the eigenvalues and eigenvectors of $X^\\intercal X$.\n",
    "These routines return the eigenvalues in ascending order (smallest first)."
   ]
  },
  {
   "cell_type": "markdown",
   "id": "c1e4b6f6-3b45-4c5e-8cf1-7cf73071db21",
   "metadata": {},
   "source": [
    "## Basis transformation"
   ]
  },
  {
   "cell_type": "markdown",
   "id": "a2e2d448-bbda-4d7b-92b4-47a0841ff64f",
   "metadata": {},
   "source": [
    "### Lossless"
   ]
  },
  {
   "cell_type": "markdown",
   "id": "040f50d0-d073-462c-8428-f2433d2d3b16",
   "metadata": {},
   "source": [
    "Let $V = (v_1 \\mid \\cdots \\mid v_p)$ denote the matrix whose columns consist of all $p$ principal components of $X$.\n",
    "We can transform our points into \"PCA space\" by right-multiplying by $V$:\n",
    "\\begin{equation}\n",
    "    Z \\equiv X V\n",
    "\\end{equation}\n",
    "This transformation is *lossless*: there is no reduction in dimensionality and we can transform from $Z$ back to $X$ by right-multiplying by $V^{-1} = V^\\intercal$."
   ]
  },
  {
   "cell_type": "markdown",
   "id": "575c450b-2e29-4bc2-ba0e-34362e6679a0",
   "metadata": {},
   "source": [
    "### Lossy"
   ]
  },
  {
   "cell_type": "markdown",
   "id": "6df480ba-d05c-4290-ab09-ff342ceb5582",
   "metadata": {},
   "source": [
    "Recalling our motivation for studying PCA, we are usually more interested in a *lossy* transformation that reduces the dimensionality of the space.\n",
    "First, we pick the target dimension $k < p$.\n",
    "We transform our points by right-multiplying by $V_k = (v_1 \\mid \\cdots \\mid v_k)$, the $p \\times k$ matrix whose columns are the first $k$ principal components of $X$:\n",
    "\\begin{equation}\n",
    "    Z_k \\equiv X V_k.\n",
    "\\end{equation}\n",
    "This allows us to, by construction, keep as much of the original variance as possible."
   ]
  },
  {
   "cell_type": "markdown",
   "id": "06808f55-3556-4cb8-9032-5676fae7833a",
   "metadata": {},
   "source": [
    "If you are interested in seeing an application of this dimensionality reduction, check out the [second post in this series](/blog/2019/principal_component_analysis_part_two/)."
   ]
  }
 ],
 "metadata": {
  "kernelspec": {
   "display_name": "Python 3 (ipykernel)",
   "language": "python",
   "name": "python3"
  },
  "language_info": {
   "codemirror_mode": {
    "name": "ipython",
    "version": 3
   },
   "file_extension": ".py",
   "mimetype": "text/x-python",
   "name": "python",
   "nbconvert_exporter": "python",
   "pygments_lexer": "ipython3",
   "version": "3.8.12"
  }
 },
 "nbformat": 4,
 "nbformat_minor": 5
}
