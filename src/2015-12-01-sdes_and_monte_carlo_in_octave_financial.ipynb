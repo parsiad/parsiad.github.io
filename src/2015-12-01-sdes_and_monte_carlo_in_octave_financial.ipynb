{
 "cells": [
  {
   "cell_type": "raw",
   "id": "d3f7fe1b-8169-45a0-b9f2-206bfd6a6a9c",
   "metadata": {},
   "source": [
    "---\n",
    "date: 2015-12-01 12:00:00-0800\n",
    "layout: post\n",
    "redirect_from:\n",
    "  - /blog/2015/sdes-and-monte-carlo-in-octave-financial/\n",
    "title: SDEs and Monte Carlo in Octave Financial\n",
    "---"
   ]
  },
  {
   "cell_type": "markdown",
   "id": "7115898c-80ce-4c88-9586-07fc3a33f1b8",
   "metadata": {},
   "source": [
    "This post is a tutorial on my fist major contribution as maintainer of [GNU Octave financial package](http://octave.sourceforge.net/financial/): a framework to simulate [stochastic differential equations (SDEs)](https://en.wikipedia.org/wiki/Stochastic_differential_equation) of the form\n",
    "\n",
    "$$\n",
    "    dX_t = F(t, X_t) dt + G(t, X_t) dW_t\n",
    "$$\n",
    "\n",
    "where *W* is a standard *n*-dimensional [Wiener process](https://en.wikipedia.org/wiki/Wiener_process)."
   ]
  },
  {
   "cell_type": "markdown",
   "id": "286ee1df-6bdd-4a69-9fb0-ba71e2572ab4",
   "metadata": {},
   "source": [
    "To follow along with the examples in this post you'll need a copy of GNU Octave and the Financial package. See the [release announcement post](/blog/2016/octave_financial_0.5.0_released) for installation instructions."
   ]
  },
  {
   "cell_type": "markdown",
   "id": "7461956d-471b-4b14-bfe6-03426791403f",
   "metadata": {},
   "source": [
    "## A one dimensional example: pricing a European call"
   ]
  },
  {
   "cell_type": "markdown",
   "id": "a0b8af1f-4539-4597-a023-67ee96eda615",
   "metadata": {},
   "source": [
    "A classic problem in finance is that of pricing a European [call option](https://en.wikipedia.org/wiki/Call_option). The price of a European call option with strike price *K* and expiry time *T* years from now is given by\n",
    "\n",
    "$$\n",
    "    \\mathbb{E}\\left[ e^{-rT} \\max\\{X_T - K, 0\\} \\right].\n",
    "$$\n",
    "\n",
    "In the celebrated Black-Scholes framework, the functions *F* and *G* which parameterize the SDE are taken to be *F*(*t*, *X<sub>t</sub>*) = (*r* - 𝛿) *X<sub>t</sub>* and *G*(*t*, *X<sub>t</sub>*) = 𝜎 *X<sub>t</sub>* where *r*, 𝛿, and 𝜎 are the per-annum interest, dividend, and volatility rates of the stock *X*.\n",
    "In other words,\n",
    "\n",
    "$$\n",
    "    dX_t = \\left(r - \\delta\\right) X_t dt + \\sigma X_t dW_t.\n",
    "$$\n",
    "\n",
    "When *F* and *G* are linear functions of the state variable (as they are in this case), the SDE is called a [Geometric Brownian Motion](https://en.wikipedia.org/wiki/Geometric_Brownian_motion)."
   ]
  },
  {
   "cell_type": "markdown",
   "id": "49ebab19-3330-4c70-a6b5-d4b0a936d210",
   "metadata": {},
   "source": [
    "Approximating the above expectation using a sample mean is referred to as *Monte Carlo integration* or *Monte Carlo simulation*.\n",
    "Though the Black-Scholes pricing problem happens to be one in which a closed-form solution is known, as an expository example, let's perform Monte Carlo integration to approximate it using an SDE simulation:"
   ]
  },
  {
   "cell_type": "markdown",
   "id": "3cc3ba1c-9241-4891-bf91-fa00ce7f71ce",
   "metadata": {},
   "source": [
    "```matlab\n",
    "% Test parameters\n",
    "X_0 = 100.; K = 100.; r = 0.04; delta = 0.01; sigma = 0.2; T = 1.;\n",
    "Simulations = 1e6; Timesteps = 10;\n",
    "\n",
    "SDE = gbm (r - delta, sigma, \"StartState\", X_0);\n",
    "[Paths, ~, ~] = simByEuler (SDE, 1, \"DeltaTime\", T, \"NTRIALS\", Simulations, \"NSTEPS\", Timesteps, \"Antithetic\", true);\n",
    "\n",
    "% Monte Carlo price\n",
    "CallPrice_MC = exp (-r * T) * mean (max (Paths(end, 1, :) - K, 0.));\n",
    "\n",
    "% Compare with the exact answer (Black-Scholes formula): 9.3197\n",
    "```"
   ]
  },
  {
   "cell_type": "markdown",
   "id": "a01b8c6a-f7bc-4083-a8b4-b9ca7983bff1",
   "metadata": {},
   "source": [
    "The `gbm` function is used to generate an object describing geometric Brownian motion (GBM). Under the hood, it invokes the `sde` constructor, which is capable of constructing more general SDEs."
   ]
  },
  {
   "cell_type": "markdown",
   "id": "2ea08e2f-bbc3-4eb5-bc64-847335de984f",
   "metadata": {},
   "source": [
    "## Timing"
   ]
  },
  {
   "cell_type": "markdown",
   "id": "6b663a9c-6174-48f3-8c27-d1ad393d4e7d",
   "metadata": {},
   "source": [
    "The GNU Octave financial implementation uses broadcasting to speed up computation. Here is a speed comparison of the above with the MATLAB Financial Toolbox, under a varying number of timesteps:"
   ]
  },
  {
   "cell_type": "markdown",
   "id": "1e7b7e17-186b-4919-bc36-8199937dfeef",
   "metadata": {},
   "source": [
    "| **Timesteps** | **MATLAB Financial Toolbox (secs.)** | **GNU Octave financial package (secs.)** |\n",
    "| ------------- | ------------------------------------ | ---------------------------------------- |\n",
    "| 16            | 0.543231                             | 0.048691                                 |\n",
    "| 32            | 1.053423                             | 0.064110                                 |\n",
    "| 64            | 2.167072                             | 0.097092                                 |\n",
    "| 128           | 4.191894                             | 0.162552                                 |\n",
    "| 256           | 8.361655                             | 0.294098                                 |\n",
    "| 512           | 16.609718                            | 0.568558                                 |\n",
    "| 1024          | 32.839757                            | 1.136864                                 |"
   ]
  },
  {
   "cell_type": "markdown",
   "id": "f601893e-bc05-4b78-ab3c-26b453ed373f",
   "metadata": {},
   "source": [
    "While both implementations scale more-or-less linearly, the GNU Octave financial package implementation greatly outperforms its MATLAB counterpart."
   ]
  },
  {
   "cell_type": "markdown",
   "id": "8ca3b307-ec3f-4952-90b4-7304c953baea",
   "metadata": {},
   "source": [
    "## A two dimensional example: pricing a European basket call"
   ]
  },
  {
   "cell_type": "markdown",
   "id": "812a5077-3835-4055-8502-71b6bb54e600",
   "metadata": {},
   "source": [
    "Consider now the basket call pricing problem\n",
    "\n",
    "$$\n",
    "    \\mathbb{E}\\left[ e^{-rT} \\max\\{\\max\\{X_T^1, X_T^2\\} - K, 0\\} \\right]\n",
    "$$\n",
    "\n",
    "involving two stocks *X<sup>1</sup>* and *X<sup>2</sup>* which follow the SDEs\n",
    "\n",
    "$$\n",
    "    dX_t^i = \\left(r^i - \\delta^i\\right) X_t^i dt + \\sigma^i X_t^i dW_t^i \\qquad \\text{for } i = 1,2.\n",
    "$$\n",
    "\n",
    "To make matters more interesting, we also assume a correlation between the coordinates of the Wiener process:\n",
    "\n",
    "$$\n",
    "    dW_t^1 dW_t^2 = \\rho dt.\n",
    "$$"
   ]
  },
  {
   "cell_type": "markdown",
   "id": "d1dcd4c8-a1ba-4af9-a3aa-83da3ec0a3b2",
   "metadata": {},
   "source": [
    "Sample code for this example is below:"
   ]
  },
  {
   "cell_type": "markdown",
   "id": "a0ac552d-9d3d-409b-b6a9-d883336b23b3",
   "metadata": {},
   "source": [
    "```matlab\n",
    "% Test parameters\n",
    "X1_0 = 40.; X2_0 = 40.; K = 40.; r = 0.05; delta1 = 0.; delta2 = 0.; sigma1 = 0.5; sigma2 = 0.5; T = 0.25; rho = 0.3;\n",
    "Simulations = 1e5; Timesteps = 10;\n",
    "\n",
    "SDE = gbm ([r-delta1 0.; 0. r-delta2], [sigma1 0.; 0. sigma2], \"StartState\", [X1_0; X2_0], \"Correlation\", [1 rho; rho 1]);\n",
    "[Paths, ~, ~] = simulate (SDE, 1, \"DeltaTime\", T, \"NTRIALS\", Simulations, \"NSTEPS\", Timesteps, \"Antithetic\", true);\n",
    "\n",
    "Max_Xi_T = max (Paths(end, :, :));\n",
    "BasketCallPrice_MC = exp (-r * T) * mean (max (Max_Xi_T - K, 0.));\n",
    "\n",
    "% Compare with the exact answer (Stulz 1982): 6.8477\n",
    "```"
   ]
  }
 ],
 "metadata": {
  "kernelspec": {
   "display_name": "Python 3 (ipykernel)",
   "language": "python",
   "name": "python3"
  },
  "language_info": {
   "codemirror_mode": {
    "name": "ipython",
    "version": 3
   },
   "file_extension": ".py",
   "mimetype": "text/x-python",
   "name": "python",
   "nbconvert_exporter": "python",
   "pygments_lexer": "ipython3",
   "version": "3.11.3"
  }
 },
 "nbformat": 4,
 "nbformat_minor": 5
}
