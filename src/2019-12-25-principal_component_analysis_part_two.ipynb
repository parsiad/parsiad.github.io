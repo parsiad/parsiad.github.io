{
 "cells": [
  {
   "cell_type": "raw",
   "id": "30455922-8b49-47d1-ac51-8bf71e7fc963",
   "metadata": {},
   "source": [
    "---\n",
    "date: 2019-12-25 12:00:00-0800\n",
    "layout: post\n",
    "redirect_from:\n",
    "  - /blog/2019/principal-component-analysis-part-two/\n",
    "title: Principal component analysis - part two\n",
    "---"
   ]
  },
  {
   "cell_type": "markdown",
   "id": "48d423ff-138e-4c38-8381-38f65514ff4c",
   "metadata": {},
   "source": [
    "## Introduction"
   ]
  },
  {
   "cell_type": "markdown",
   "id": "98c596aa-a4d0-4aa1-9b39-8f11efe09759",
   "metadata": {},
   "source": [
    "In [the first post in this series](/blog/2019/principal_component_analysis_part_one/), we outlined the motivation and theory behind principal component analysis (PCA), which takes points $x_1, \\ldots, x_N$ in a high dimensional space to points in a lower dimensional space while preserving as much of the original variance as possible."
   ]
  },
  {
   "cell_type": "markdown",
   "id": "c4d128e1-36c8-4e39-a02d-4481e81a89f6",
   "metadata": {},
   "source": [
    "In this follow-up post, we apply principal components regression (PCR), an algorithm which includes PCA as a subroutine, to a small dataset to demonstrate the ideas in practice."
   ]
  },
  {
   "cell_type": "markdown",
   "id": "eeecd4da-a024-4b57-938d-bb9ba33d86ef",
   "metadata": {},
   "source": [
    "## Prerequisites"
   ]
  },
  {
   "cell_type": "markdown",
   "id": "eae88413-98e9-44b1-814b-a3f7b979d060",
   "metadata": {},
   "source": [
    "To understand this post, you will need to be familiar with the following concepts:\n",
    "\n",
    "* PCA (see [the first post in this series](/blog/2019/principal_component_analysis_part_one/))\n",
    "* [ordinary least squares](https://en.wikipedia.org/wiki/Ordinary_least_squares)"
   ]
  },
  {
   "cell_type": "markdown",
   "id": "ce5329ab-68af-4feb-b406-843d3d400d88",
   "metadata": {
    "execution": {
     "iopub.execute_input": "2022-08-14T15:38:28.939133Z",
     "iopub.status.busy": "2022-08-14T15:38:28.938572Z",
     "iopub.status.idle": "2022-08-14T15:38:28.946538Z",
     "shell.execute_reply": "2022-08-14T15:38:28.945090Z",
     "shell.execute_reply.started": "2022-08-14T15:38:28.939061Z"
    }
   },
   "source": [
    "## Ordinary least squares"
   ]
  },
  {
   "cell_type": "markdown",
   "id": "8862a9e2-f76d-42b5-96cd-d3874ce33ba7",
   "metadata": {},
   "source": [
    "In ordinary least squares (OLS), we want to find a line of best fit between the points $x_1, \\ldots, x_N$ and the labels $y_1, \\ldots, y_N$."
   ]
  },
  {
   "cell_type": "markdown",
   "id": "eee518d6-bb03-4fb6-b13f-e974bfe251c6",
   "metadata": {},
   "source": [
    "Denoting by $X$ the matrix whose rows are the points and $y$ the vector whose entries are the labels, the intercept $\\alpha$ and slope (a.k.a. gradient) $\\beta$ are obtained by minimizing $\\Vert \\alpha + X \\beta - y \\Vert$.\n",
    "Some [matrix calculus](https://en.wikipedia.org/wiki/Matrix_calculus) reveals that the minimum is obtained at the values of $\\alpha$ and $\\beta$ for which\n",
    "\\begin{equation}\n",
    "    N \\alpha = y^\\intercal e - \\beta^\\intercal X^\\intercal e\n",
    "\\end{equation}\n",
    "and\n",
    "\\begin{equation}\n",
    "    X^\\intercal X \\beta = X^\\intercal y - \\alpha X^\\intercal e\n",
    "\\end{equation}\n",
    "where $e$ is the vector of all ones."
   ]
  },
  {
   "cell_type": "markdown",
   "id": "a438ef6b-1e17-4a24-aa1f-67f42330604b",
   "metadata": {},
   "source": [
    "## Principal components regression"
   ]
  },
  {
   "cell_type": "markdown",
   "id": "93e4ffd6-feb7-4c41-8f8f-8fa789fa72b1",
   "metadata": {},
   "source": [
    "The idea behind PCR is simple: instead of doing OLS on the high dimensional space, we first map the points to a lower dimensional space obtained by PCA and *then* do OLS.\n",
    "In more detail, we\n",
    "\n",
    "1. pick a positive integer $k < p$,\n",
    "2. construct the matrix $V_k$ whose columns are the first $k$ principal components of $X$,\n",
    "3. compute $Z_k = X V_k$, a matrix whose rows are the original points transformed to a lower dimensional \"PCA space\", and\n",
    "4. perform OLS to find a line of best fit between the transformed points and $y$."
   ]
  },
  {
   "cell_type": "markdown",
   "id": "fcd2fd3b-60ee-4a7e-92aa-591851ef0b0e",
   "metadata": {},
   "source": [
    "By the previous section, we know that the minimum is obtained at the values of the intercept $\\alpha_k$ and gradient $\\beta_k$ for which\n",
    "\\begin{equation}\n",
    "    N \\alpha_k = y^\\intercal e - \\beta_k^\\intercal Z_k^\\intercal e\n",
    "\\end{equation}\n",
    "and\n",
    "\\begin{equation}\n",
    "    Z_k^\\intercal Z_k \\beta_k = Z_k^\\intercal y - \\alpha_k Z_k^\\intercal e\n",
    "\\end{equation}"
   ]
  },
  {
   "cell_type": "markdown",
   "id": "7fe12843-8ba1-4a61-a7a1-50972b8230a7",
   "metadata": {},
   "source": [
    "Once we have solved these equations for $\\alpha_k$ and $\\beta_k$, we can predict the label $\\hat{y}$ corresponding to a new sample $x$ as $\\hat{y} = \\alpha_k + x^\\intercal V_k \\beta_k$."
   ]
  },
  {
   "cell_type": "markdown",
   "id": "ab27e051-fcc8-46f4-b3c3-5c9dc5292675",
   "metadata": {},
   "source": [
    "### Computational considerations"
   ]
  },
  {
   "cell_type": "markdown",
   "id": "fd8e8f5a-326f-471f-a991-b027ef2328a6",
   "metadata": {},
   "source": [
    "Due to the result below, the linear system involving $\\alpha_k$ and $\\beta_k$ is a (permuted) [arrowhead matrix](https://en.wikipedia.org/wiki/Arrowhead_matrix).\n",
    "As such, the system can be solved efficiently."
   ]
  },
  {
   "cell_type": "markdown",
   "id": "7d31d944-789e-4fde-9b7f-d1b3504f7271",
   "metadata": {},
   "source": [
    "**Lemma.** $Z_k^\\intercal Z_k = \\Sigma_k^2$ where $\\Sigma_k$ is the $k \\times k$ diagonal matrix whose entries are the first $k$ principal components of $X$ in descending order."
   ]
  },
  {
   "cell_type": "markdown",
   "id": "4788a6e0-bfa4-424b-8f30-a0b61c1d88e0",
   "metadata": {},
   "source": [
    "*Proof*.\n",
    "Let $v_j$ denote the $j$-th column of $V_k$.\n",
    "Since $v_j$ is a principal component of $X$, it is also an eigenvector of $X^\\intercal X$ with eigenvalue $\\sigma_j^2$, the square of the $j$-th singular value.\n",
    "Therefore, the $(i, j)$-th entry of $Z_k^\\intercal Z_k$ is\n",
    "\\begin{equation}\n",
    "    (X v_i)^\\intercal (X v_j)\n",
    "    = v_i^\\intercal X^\\intercal X v_j\n",
    "    = \\sigma_j^2 v_i^\\intercal v_j\n",
    "    = \\sigma_j^2 \\delta_{ij}.\n",
    "\\end{equation}\n",
    "where $\\delta_{ij}$ is the [Kronecker delta](https://en.wikipedia.org/wiki/Kronecker_delta)."
   ]
  },
  {
   "cell_type": "markdown",
   "id": "6c9c689b-6040-4af2-915e-45d9b4acdd4f",
   "metadata": {},
   "source": [
    "## The California housing dataset"
   ]
  },
  {
   "cell_type": "markdown",
   "id": "b7de389d-d3d5-495f-878b-6ff84d70a2b7",
   "metadata": {},
   "source": [
    "The [California housing dataset](https://www.dcc.fc.up.pt/~ltorgo/Regression/cal_housing.html) from \\[1\\] has 20,640 samples and 8 predictors.\n",
    "For each $k \\leq p = 8$, we fit using PCR on 80% of the samples (the training set) and report the [root mean squared error](https://en.wikipedia.org/wiki/Root-mean-square_deviation) (RMSE) on both the training set and the  remaining 20% samples (the test set)."
   ]
  },
  {
   "cell_type": "code",
   "execution_count": 24,
   "id": "d85812a3-108b-492f-8339-74dc046e7174",
   "metadata": {
    "execution": {
     "iopub.execute_input": "2022-08-14T15:54:07.196708Z",
     "iopub.status.busy": "2022-08-14T15:54:07.195550Z",
     "iopub.status.idle": "2022-08-14T15:54:07.207736Z",
     "shell.execute_reply": "2022-08-14T15:54:07.206030Z",
     "shell.execute_reply.started": "2022-08-14T15:54:07.196638Z"
    },
    "tags": [
     "no_cell"
    ]
   },
   "outputs": [
    {
     "name": "stdout",
     "output_type": "stream",
     "text": [
      "The lab_black extension is already loaded. To reload it, use:\n",
      "  %reload_ext lab_black\n"
     ]
    }
   ],
   "source": [
    "%load_ext lab_black"
   ]
  },
  {
   "cell_type": "code",
   "execution_count": 195,
   "id": "8eeec295-c2ec-458f-aa07-da5638a71689",
   "metadata": {
    "execution": {
     "iopub.execute_input": "2022-08-14T17:37:13.808291Z",
     "iopub.status.busy": "2022-08-14T17:37:13.807284Z",
     "iopub.status.idle": "2022-08-14T17:37:13.980971Z",
     "shell.execute_reply": "2022-08-14T17:37:13.980226Z",
     "shell.execute_reply.started": "2022-08-14T17:37:13.808225Z"
    },
    "tags": []
   },
   "outputs": [],
   "source": [
    "from sklearn.datasets import fetch_california_housing\n",
    "from sklearn.decomposition import PCA\n",
    "from sklearn.linear_model import LinearRegression\n",
    "from sklearn.metrics import mean_squared_error\n",
    "from sklearn.model_selection import train_test_split\n",
    "from sklearn.pipeline import make_pipeline\n",
    "from sklearn.preprocessing import PolynomialFeatures, StandardScaler\n",
    "import numpy as np\n",
    "\n",
    "\n",
    "np.random.seed(1)\n",
    "X_all, y_all = fetch_california_housing(return_X_y=True)\n",
    "X_train, X_test, y_train, y_test = train_test_split(X_all, y_all, test_size=0.2)\n",
    "\n",
    "\n",
    "def fit(degree: int = 1):\n",
    "    \"\"\"Fits a PCR model to the training data.\n",
    "\n",
    "    Parameters\n",
    "    ----------\n",
    "    degree: Generates all polynomial combinations of the features up to the specified degree.\n",
    "\n",
    "    Returns\n",
    "    -------\n",
    "    An `sklearn.pipeline.Pipeline` object corresponding to a learned model.\n",
    "    \"\"\"\n",
    "    pipeline = make_pipeline(\n",
    "        StandardScaler(),\n",
    "        PolynomialFeatures(degree, include_bias=False),\n",
    "        PCA(),\n",
    "        LinearRegression(),\n",
    "    )\n",
    "    pipeline.fit(X_train, y_train)\n",
    "    return pipeline\n",
    "\n",
    "\n",
    "def rmses(model, X, y):\n",
    "    \"\"\"Calculates the RMSE of the model using only the first k PCs for each possible value of k.\n",
    "\n",
    "    Parameters\n",
    "    ----------\n",
    "    model: The `sklearn.pipeline.Pipeline` object returned by the `fit` method.\n",
    "    X: An (N, p) matrix of features.\n",
    "    y: The corresponding (N) vector of targets.\n",
    "\n",
    "    Returns\n",
    "    -------\n",
    "    A list of RMSEs (the first entry corresponds to k=1 and the last to k=p).\n",
    "    \"\"\"\n",
    "    pca = model[:-1]\n",
    "    Z = pca.transform(X)\n",
    "    regression = model[-1]\n",
    "    results = []\n",
    "    for k in range(1, Z.shape[1] + 1):\n",
    "        pred = regression.intercept_ + Z[:, :k] @ regression.coef_[:k]\n",
    "        rmse = mean_squared_error(y, pred, squared=False)\n",
    "        results.append(rmse)\n",
    "    return results\n",
    "\n",
    "\n",
    "model = fit()\n",
    "rmses_train = rmses(model, X_train, y_train)\n",
    "rmses_test = rmses(model, X_test, y_test)"
   ]
  },
  {
   "cell_type": "code",
   "execution_count": 196,
   "id": "f6f01154-eec5-4cba-afcc-68992feb71bc",
   "metadata": {
    "execution": {
     "iopub.execute_input": "2022-08-14T17:37:17.522954Z",
     "iopub.status.busy": "2022-08-14T17:37:17.522384Z",
     "iopub.status.idle": "2022-08-14T17:37:17.548625Z",
     "shell.execute_reply": "2022-08-14T17:37:17.547365Z",
     "shell.execute_reply.started": "2022-08-14T17:37:17.522886Z"
    },
    "tags": [
     "no_input"
    ]
   },
   "outputs": [
    {
     "data": {
      "text/html": [
       "<table>\n",
       "<thead>\n",
       "<tr><th style=\"text-align: right;\">  Rank (k)</th><th style=\"text-align: right;\">  Training set RMSE (in $100,000s)</th><th style=\"text-align: right;\">  Test set RMSE (in $100,000s)</th></tr>\n",
       "</thead>\n",
       "<tbody>\n",
       "<tr><td style=\"text-align: right;\">         1</td><td style=\"text-align: right;\">                          1.15492 </td><td style=\"text-align: right;\">                      1.14608 </td></tr>\n",
       "<tr><td style=\"text-align: right;\">         2</td><td style=\"text-align: right;\">                          1.14128 </td><td style=\"text-align: right;\">                      1.12491 </td></tr>\n",
       "<tr><td style=\"text-align: right;\">         3</td><td style=\"text-align: right;\">                          1.13947 </td><td style=\"text-align: right;\">                      1.12457 </td></tr>\n",
       "<tr><td style=\"text-align: right;\">         4</td><td style=\"text-align: right;\">                          0.853976</td><td style=\"text-align: right;\">                      0.844071</td></tr>\n",
       "<tr><td style=\"text-align: right;\">         5</td><td style=\"text-align: right;\">                          0.853972</td><td style=\"text-align: right;\">                      0.844123</td></tr>\n",
       "<tr><td style=\"text-align: right;\">         6</td><td style=\"text-align: right;\">                          0.810381</td><td style=\"text-align: right;\">                      0.807466</td></tr>\n",
       "<tr><td style=\"text-align: right;\">         7</td><td style=\"text-align: right;\">                          0.729905</td><td style=\"text-align: right;\">                      0.731179</td></tr>\n",
       "<tr><td style=\"text-align: right;\">         8</td><td style=\"text-align: right;\">                          0.723369</td><td style=\"text-align: right;\">                      0.72742 </td></tr>\n",
       "</tbody>\n",
       "</table>"
      ],
      "text/plain": [
       "'<table>\\n<thead>\\n<tr><th style=\"text-align: right;\">  Rank (k)</th><th style=\"text-align: right;\">  Training set RMSE (in $100,000s)</th><th style=\"text-align: right;\">  Test set RMSE (in $100,000s)</th></tr>\\n</thead>\\n<tbody>\\n<tr><td style=\"text-align: right;\">         1</td><td style=\"text-align: right;\">                          1.15492 </td><td style=\"text-align: right;\">                      1.14608 </td></tr>\\n<tr><td style=\"text-align: right;\">         2</td><td style=\"text-align: right;\">                          1.14128 </td><td style=\"text-align: right;\">                      1.12491 </td></tr>\\n<tr><td style=\"text-align: right;\">         3</td><td style=\"text-align: right;\">                          1.13947 </td><td style=\"text-align: right;\">                      1.12457 </td></tr>\\n<tr><td style=\"text-align: right;\">         4</td><td style=\"text-align: right;\">                          0.853976</td><td style=\"text-align: right;\">                      0.844071</td></tr>\\n<tr><td style=\"text-align: right;\">         5</td><td style=\"text-align: right;\">                          0.853972</td><td style=\"text-align: right;\">                      0.844123</td></tr>\\n<tr><td style=\"text-align: right;\">         6</td><td style=\"text-align: right;\">                          0.810381</td><td style=\"text-align: right;\">                      0.807466</td></tr>\\n<tr><td style=\"text-align: right;\">         7</td><td style=\"text-align: right;\">                          0.729905</td><td style=\"text-align: right;\">                      0.731179</td></tr>\\n<tr><td style=\"text-align: right;\">         8</td><td style=\"text-align: right;\">                          0.723369</td><td style=\"text-align: right;\">                      0.72742 </td></tr>\\n</tbody>\\n</table>'"
      ]
     },
     "execution_count": 196,
     "metadata": {},
     "output_type": "execute_result"
    }
   ],
   "source": [
    "from tabulate import tabulate\n",
    "\n",
    "\n",
    "ranks = range(1, X.shape[1] + 1)\n",
    "rows = zip(ranks, rmses_train, rmses_test)\n",
    "tabulate(\n",
    "    rows,\n",
    "    headers=[\n",
    "        \"Rank (k)\",\n",
    "        \"Training set RMSE (in $100,000s)\",\n",
    "        \"Test set RMSE (in $100,000s)\",\n",
    "    ],\n",
    "    tablefmt=\"html\",\n",
    ")"
   ]
  },
  {
   "cell_type": "markdown",
   "id": "e2660a54-8b24-49fa-8565-e0e6d7395064",
   "metadata": {},
   "source": [
    "Both training and test set RMSEs are (roughly) decreasing functions of the rank.\n",
    "This suggests that using all 8 predictors does not cause overfitting."
   ]
  },
  {
   "cell_type": "markdown",
   "id": "c70fd8d3-a719-421d-bfa1-2ffd917c84fa",
   "metadata": {},
   "source": [
    "### Deriving predictors"
   ]
  },
  {
   "cell_type": "markdown",
   "id": "24cca7c6-2fbd-4c70-b3f7-f32157def2ea",
   "metadata": {},
   "source": [
    "One way to reduce the test set RMSE is to introduce more predictors into the model.\n",
    "Consider, as a toy example, a dataset where each sample $x_i$ has only three predictors: $x_i \\equiv (a_i, b_i, c_i)$.\n",
    "We can replace each sample $x_i$ by a new sample $x_i^\\prime \\equiv (a_i, b_i, c_i, a_i^2, a_i b_i, a_i c_i, b_i^2, b_i c_i, c_i^2)$.\n",
    "In particular, we have added all possible quadratic monomials in $a_i, b_i, c_i$.\n",
    "These new entries are referred to as \"derived\" predictors.\n",
    "Note that derived predictors need not be quadratic, or even monomials; any function of the original predictors is referred to as a derived predictor."
   ]
  },
  {
   "cell_type": "markdown",
   "id": "3c6ca389-f130-4c3f-b952-7925aafc75f5",
   "metadata": {},
   "source": [
    "Returning to the dataset, we add all cubic monomials.\n",
    "It is reasonable to expect that unlike OLS applied to $X$, OLS applied to the derived matrix $X^\\prime$ will almost certainly overfit.\n",
    "We plot the results (obtained by setting `degree=3` in the previous fitting code) of PCR below, observing the effects of overfitting at large values of the rank."
   ]
  },
  {
   "cell_type": "code",
   "execution_count": 185,
   "id": "ed61322e-f0c6-4a71-8545-a2d56ed58be4",
   "metadata": {
    "execution": {
     "iopub.execute_input": "2022-08-14T17:28:48.330146Z",
     "iopub.status.busy": "2022-08-14T17:28:48.329413Z",
     "iopub.status.idle": "2022-08-14T17:28:49.591658Z",
     "shell.execute_reply": "2022-08-14T17:28:49.590882Z",
     "shell.execute_reply.started": "2022-08-14T17:28:48.330078Z"
    }
   },
   "outputs": [],
   "source": [
    "model = fit(degree=3)\n",
    "rmses_train = rmses(model, X_train, y_train)\n",
    "rmses_test = rmses(model, X_test, y_test)"
   ]
  },
  {
   "cell_type": "code",
   "execution_count": 186,
   "id": "a49b9ceb-5fce-47cc-8bf0-d23a6ee3ce8b",
   "metadata": {
    "execution": {
     "iopub.execute_input": "2022-08-14T17:29:16.154476Z",
     "iopub.status.busy": "2022-08-14T17:29:16.154086Z",
     "iopub.status.idle": "2022-08-14T17:29:16.401561Z",
     "shell.execute_reply": "2022-08-14T17:29:16.400894Z",
     "shell.execute_reply.started": "2022-08-14T17:29:16.154430Z"
    },
    "tags": [
     "no_input"
    ]
   },
   "outputs": [
    {
     "data": {
      "image/png": "[encoded data removed]",
      "text/plain": [
       "<Figure size 582.48x360 with 1 Axes>"
      ]
     },
     "metadata": {},
     "output_type": "display_data"
    }
   ],
   "source": [
    "import matplotlib as mpl\n",
    "import matplotlib.pyplot as plt\n",
    "\n",
    "mpl.style.use(\"fivethirtyeight\")\n",
    "mpl.rcParams[\"lines.linewidth\"] = 2\n",
    "plt.figure(figsize=(1.618 * 5.0, 5.0))\n",
    "results = np.array(rows)\n",
    "plt.plot(range(1, len(rmses_train) + 1), rmses_train, label=\"Training set\")\n",
    "plt.plot(range(1, len(rmses_test) + 1), rmses_test, label=\"Test set\")\n",
    "plt.legend()\n",
    "plt.ylabel(\"RMSE in \\$100,000s\")\n",
    "plt.xlabel(\"Rank $k$\")\n",
    "_ = plt.title(\"Polynomial PCR on California Housing Dataset\")"
   ]
  },
  {
   "cell_type": "markdown",
   "id": "2c5acc26-4837-4416-be0a-99ce47075c96",
   "metadata": {},
   "source": [
    "## Bibliography"
   ]
  },
  {
   "cell_type": "markdown",
   "id": "86bd705e-4e3f-4c0b-90fd-a6ab5228c23e",
   "metadata": {},
   "source": [
    "\\[1\\] Pace, R. Kelley, and Ronald Barry. \"Sparse spatial autoregressions.\" Statistics & Probability Letters 33.3 (1997): 291-297."
   ]
  },
  {
   "cell_type": "code",
   "execution_count": null,
   "id": "3027e223-b521-419c-b1be-761835212a71",
   "metadata": {
    "tags": [
     "no_cell"
    ]
   },
   "outputs": [],
   "source": [
    "\"\"\"\n",
    "Old version\n",
    "\"\"\"\n",
    "\n",
    "np.random.seed(1)\n",
    "\n",
    "X, y = fetch_california_housing(return_X_y=True)\n",
    "p = X.shape[1]\n",
    "X_train, X_test, y_train, y_test = train_test_split(X, y, test_size=0.2)\n",
    "\n",
    "# Normalize data.\n",
    "X_mean = np.mean(X_train, axis=0)\n",
    "X_std = np.std(X_train, axis=0)\n",
    "X_test, X_train = [(X_sub - X_mean) / X_std for X_sub in [X_test, X_train]]\n",
    "\n",
    "_, _, V_T = np.linalg.svd(X_train)\n",
    "V = V_T.T\n",
    "\n",
    "rows = []\n",
    "for k in range(1, p + 1):\n",
    "    V_k = V[:, :k]\n",
    "    Z_k = X_train @ V_k\n",
    "\n",
    "    # Solve for alpha_k and beta_k by adding a bias column to Z_k.\n",
    "    # This is not efficient (see \"Computational considerations\" above).\n",
    "    Z_k_bias = np.concatenate([np.ones([y_train.size, 1]), Z_k], axis=1)\n",
    "    solution = np.linalg.solve(Z_k_bias.T @ Z_k_bias, Z_k_bias.T @ y_train)\n",
    "    alpha_k = solution[0]\n",
    "    beta_k = solution[1:]\n",
    "\n",
    "    V_k_beta_k = V_k @ beta_k\n",
    "\n",
    "    row = [k]\n",
    "    for X_sub, y_sub in [(X_train, y_train), (X_test, y_test)]:\n",
    "        y_hat = alpha_k + X_sub @ V_k_beta_k\n",
    "        error = y_hat - y_sub\n",
    "        rmse = np.sqrt(np.mean(error**2))\n",
    "        row.append(rmse)\n",
    "    rows.append(row)\n",
    "    \n",
    "tabulate(\n",
    "    rows[:8],\n",
    "    headers=[\n",
    "        \"Rank (k)\",\n",
    "        \"Training set RMSE (in $100,000s)\",\n",
    "        \"Test set RMSE (in $100,000s)\",\n",
    "    ],\n",
    "    tablefmt=\"html\",\n",
    ")"
   ]
  }
 ],
 "metadata": {
  "kernelspec": {
   "display_name": "Python 3 (ipykernel)",
   "language": "python",
   "name": "python3"
  },
  "language_info": {
   "codemirror_mode": {
    "name": "ipython",
    "version": 3
   },
   "file_extension": ".py",
   "mimetype": "text/x-python",
   "name": "python",
   "nbconvert_exporter": "python",
   "pygments_lexer": "ipython3",
   "version": "3.8.12"
  }
 },
 "nbformat": 4,
 "nbformat_minor": 5
}
