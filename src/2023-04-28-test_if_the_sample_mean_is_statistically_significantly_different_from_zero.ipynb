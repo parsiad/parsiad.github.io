{
 "cells": [
  {
   "cell_type": "raw",
   "id": "1232dbbd-51f0-44d4-9793-ecbdea8c4254",
   "metadata": {},
   "source": [
    "---\n",
    "date: 2023-04-28 12:00:00-0800\n",
    "layout: post\n",
    "title: Test if the sample mean is statistically significantly different from zero\n",
    "hidden: true\n",
    "---"
   ]
  },
  {
   "cell_type": "markdown",
   "id": "e5825fd3",
   "metadata": {},
   "source": [
    "Let $X_{1},\\ldots,X_{N}$ be IID. The plug-in estimator for the mean is the sample mean $\\bar{X}=(X_{1}+\\cdots+X_{N})/N$.\n",
    "The standard error of this estimator is $\\sqrt{\\operatorname{Var}(X_{1})/N}$.\n",
    "Therefore, a normal confidence interval for the mean is\n",
    "\\begin{equation}\n",
    "\\bar{X}\\pm c\\sqrt{\\frac{\\operatorname{Var}(X_{1})}{N}}.\n",
    "\\end{equation}\n",
    "In short, if we want to test if the mean is statistically significantly different from zero (assuming normality), the number of samples needs to satisfy\n",
    "\\begin{equation}\n",
    "N>\\frac{c^{2}\\operatorname{Var}(X_{1})}{\\left|\\bar{X}\\right|^{2}}.\n",
    "\\end{equation}"
   ]
  }
 ],
 "metadata": {
  "kernelspec": {
   "display_name": "Python 3 (ipykernel)",
   "language": "python",
   "name": "python3"
  },
  "language_info": {
   "codemirror_mode": {
    "name": "ipython",
    "version": 3
   },
   "file_extension": ".py",
   "mimetype": "text/x-python",
   "name": "python",
   "nbconvert_exporter": "python",
   "pygments_lexer": "ipython3",
   "version": "3.11.3"
  }
 },
 "nbformat": 4,
 "nbformat_minor": 5
}
