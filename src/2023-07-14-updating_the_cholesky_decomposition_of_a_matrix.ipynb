{
 "cells": [
  {
   "cell_type": "raw",
   "id": "1232dbbd-51f0-44d4-9793-ecbdea8c4254",
   "metadata": {},
   "source": [
    "---\n",
    "date: 2023-07-14 12:00:00-0800\n",
    "layout: post\n",
    "title: Updating the Cholesky Decomposition of a Matrix\n",
    "---"
   ]
  },
  {
   "cell_type": "markdown",
   "id": "299cc91c-b72a-4208-ae05-2f63dc6a6ff3",
   "metadata": {},
   "source": [
    "Sometimes, we already have the [Cholesky decomposition](https://en.wikipedia.org/wiki/Cholesky_decomposition) of a given matrix and wish to update it efficiently when that matrix \"grows\" in size (i.e., through the addition of new rows/columns).\n",
    "Instead of recomputing the entire Cholesky decomposition from scratch, we can compute it incrementally.\n",
    "Moreover, this incremental computation can also be strung together to retrieve an iterative algorithm to compute the *full* Cholesky decomposition."
   ]
  },
  {
   "cell_type": "markdown",
   "id": "85fa715b",
   "metadata": {},
   "source": [
    "## Algorithm\n",
    "\n",
    "Let $A_n \\equiv (a_{ij})$ be an $n \\times n$ positive definite matrix with Cholesky decomposition $L_nL_n^*$.\n",
    "Next, consider expanding the size of this matrix (while maintaining positive definiteness):\n",
    "\n",
    "$$\n",
    "A_{n+1}=\\begin{pmatrix}A_{n} & a_{n+1,1:n}^{*}\\\\\n",
    "a_{n+1,1:n} & a_{n+1,n+1}\n",
    "\\end{pmatrix}.\n",
    "$$\n",
    "\n",
    "The notation $a_{1:n, n+1}$ signifies a column vector with $n$ entries.\n",
    "Suppose the Cholesky decomposition of $A_{n + 1}$ has the following form:\n",
    "\n",
    "$$\n",
    "L_{n+1}=\\begin{pmatrix}L_{n} & 0\\\\\n",
    "\\ell_{n+1,1:n} & \\ell_{n+1,n+1}\n",
    "\\end{pmatrix}.\n",
    "$$\n",
    "\n",
    "Simple algebra reveals that\n",
    "\n",
    "$$\n",
    "L_{n+1}L_{n+1}^{*}=\\begin{pmatrix}A_{n} & L_{n}\\ell_{n+1,1:n}^{*}\\\\\n",
    "\\ell_{n+1,1:n}L_{n}^{*} & \\ell_{n+1,1:n}\\ell_{n+1,1:n}^{*}+\\left|\\ell_{n+1,n+1}\\right|^{2}\n",
    "\\end{pmatrix}.\n",
    "$$\n",
    "\n",
    "This reveals that we need to solve the equations\n",
    "\n",
    "$$\n",
    "L_n \\ell_{n+1,1:n}^* = a_{n+1,1:n}^*\n",
    "$$\n",
    "\n",
    "and\n",
    "\n",
    "$$\n",
    "\\ell_{n+1,n+1} = \\sqrt{a_{n+1,n+1} - \\Vert \\ell_{n+1, 1:n}\\Vert^2}\n",
    "$$\n",
    "\n",
    "to obtain the updated Cholesky decomposition.\n",
    "Since the former involves a triangular matrix, it can be solved by forward substitution in $O(n^2)$ floating point operations (FLOPs).\n",
    "The latter requires $O(n)$ FLOPs due to the norm."
   ]
  },
  {
   "cell_type": "markdown",
   "id": "57df4e6b-afd9-4232-90b1-7fb2edd77ddd",
   "metadata": {},
   "source": [
    "## Implementation"
   ]
  },
  {
   "cell_type": "code",
   "execution_count": 4,
   "id": "ef56d551-eef4-414c-aaf3-e1f3aa553318",
   "metadata": {},
   "outputs": [],
   "source": [
    "import numpy as np\n",
    "import scipy.linalg\n",
    "\n",
    "def update_chol(chol: np.ndarray, new_vec: np.ndarray) -> np.ndarray:\n",
    "    \"\"\"Update the Cholesky factorization of a matrix for real inputs.\"\"\"\n",
    "    u = new_vec[:-1]\n",
    "    α = new_vec[-1]\n",
    "    v = scipy.linalg.solve_triangular(chol, u, lower=True)\n",
    "    β = np.sqrt(α - v @ v)\n",
    "    n = chol.shape[0]\n",
    "    # WARNING: This is not efficient!\n",
    "    new_chol = chol.copy()\n",
    "    new_chol = np.pad(new_chol, [(0, 1), (0, 1)])\n",
    "    new_chol[:-1, :-1] = chol\n",
    "    new_chol[-1, :-1] = v\n",
    "    new_chol[n, n] = β\n",
    "    return new_chol"
   ]
  },
  {
   "cell_type": "code",
   "execution_count": 5,
   "id": "1133fd08-9ea5-4ac0-860f-7d1957448d65",
   "metadata": {},
   "outputs": [
    {
     "data": {
      "text/plain": [
       "array([[ 1.72643986,  0.        ,  0.        ,  0.        ,  0.        ],\n",
       "       [ 0.00926244,  1.9510639 ,  0.        ,  0.        ,  0.        ],\n",
       "       [-0.02770041,  0.34669923,  1.02437592,  0.        ,  0.        ],\n",
       "       [ 0.10163684,  0.60454141, -0.41500106,  2.91668584,  0.        ],\n",
       "       [ 0.31988585,  1.66212358, -1.17204427,  1.10508656,  0.39447333]])"
      ]
     },
     "execution_count": 5,
     "metadata": {},
     "output_type": "execute_result"
    }
   ],
   "source": [
    "np.random.seed(42)\n",
    "x = np.random.randn(5, 5)\n",
    "a = x.T @ x\n",
    "np.linalg.cholesky(a)"
   ]
  },
  {
   "cell_type": "code",
   "execution_count": 6,
   "id": "79fd2df9-ccd8-4d49-99b2-3c227930a3d1",
   "metadata": {},
   "outputs": [
    {
     "data": {
      "text/plain": [
       "array([[ 1.72643986,  0.        ,  0.        ,  0.        ,  0.        ],\n",
       "       [ 0.00926244,  1.9510639 ,  0.        ,  0.        ,  0.        ],\n",
       "       [-0.02770041,  0.34669923,  1.02437592,  0.        ,  0.        ],\n",
       "       [ 0.10163684,  0.60454141, -0.41500106,  2.91668584,  0.        ],\n",
       "       [ 0.31988585,  1.66212358, -1.17204427,  1.10508656,  0.39447333]])"
      ]
     },
     "execution_count": 6,
     "metadata": {},
     "output_type": "execute_result"
    }
   ],
   "source": [
    "chol = np.linalg.cholesky(a[:-1,:-1])\n",
    "update_chol(chol, a[-1])"
   ]
  },
  {
   "cell_type": "markdown",
   "id": "a8d97818-2fac-4e18-8d7d-d53aca2db9b5",
   "metadata": {},
   "source": [
    "## Iterative method\n",
    "\n",
    "Note that by applying the algorithm iteratively, it can be used to obtain the *full* Cholesky decomposition of a positive definite matrix $A_N \\equiv (a_{ij})$.\n",
    "The base case is $L_1 = (\\sqrt{a_{11}})$.\n",
    "Assuming each square root takes $c$ FLOPs, the total cost is\n",
    "\n",
    "$$\n",
    "c + \\sum_{n=1}^{N-1} n^2 + n + 1 + c = \\frac{1}{3} N^{3} + \\left( c + \\frac{2}{3} \\right) N - 1.\n",
    "$$\n",
    "\n",
    "In particular, the leading term shows that this algorithm is roughly half the complexity of Gaussian elimination applied to arbitrary (i.e., not necessarily positive definite) matrices."
   ]
  }
 ],
 "metadata": {
  "kernelspec": {
   "display_name": "Python 3 (ipykernel)",
   "language": "python",
   "name": "python3"
  },
  "language_info": {
   "codemirror_mode": {
    "name": "ipython",
    "version": 3
   },
   "file_extension": ".py",
   "mimetype": "text/x-python",
   "name": "python",
   "nbconvert_exporter": "python",
   "pygments_lexer": "ipython3",
   "version": "3.11.3"
  }
 },
 "nbformat": 4,
 "nbformat_minor": 5
}
