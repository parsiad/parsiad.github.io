{
 "cells": [
  {
   "cell_type": "raw",
   "id": "43183327-9996-4731-a361-78d852a52509",
   "metadata": {
    "editable": true,
    "raw_mimetype": "",
    "slideshow": {
     "slide_type": ""
    },
    "tags": []
   },
   "source": [
    "---\n",
    "date: 2023-08-13 12:00:00-0800\n",
    "layout: post\n",
    "redirect_from:\n",
    "  - /blog/2020/all-of-statistics-chapter-07/\n",
    "title: All of Statistics Chapter 7 Solutions\n",
    "---"
   ]
  },
  {
   "cell_type": "code",
   "execution_count": 2,
   "id": "71aec1bb-0b9f-4ac0-9084-b9b04b0c365e",
   "metadata": {
    "editable": true,
    "slideshow": {
     "slide_type": ""
    },
    "tags": [
     "no_cell"
    ]
   },
   "outputs": [],
   "source": [
    "import warnings\n",
    "\n",
    "import matplotlib as mpl\n",
    "import matplotlib.pyplot as plt\n",
    "import numpy as np\n",
    "import pandas as pd\n",
    "import scipy.stats\n",
    "from tabulate import tabulate\n",
    "\n",
    "warnings.filterwarnings('ignore')\n",
    "mpl.style.use(\"fivethirtyeight\")"
   ]
  },
  {
   "cell_type": "markdown",
   "id": "6982bb19-dccc-4c41-8302-82b12c56e541",
   "metadata": {},
   "source": [
    "## Helper functions"
   ]
  },
  {
   "cell_type": "code",
   "execution_count": 8,
   "id": "fba28bc2-b563-47ef-9eb7-08ef4be45932",
   "metadata": {
    "editable": true,
    "slideshow": {
     "slide_type": ""
    },
    "tags": []
   },
   "outputs": [],
   "source": [
    "def reset_seed(func):\n",
    "    def wrapper(*args, **kwargs):\n",
    "        np.random.seed(0)\n",
    "        return func(*args, **kwargs)\n",
    "    return wrapper\n",
    "\n",
    "def make_cdf_confidence_band(samples, confidence):\n",
    "    \"\"\"Construct a confidence band for a CDF given samples drawn from that CDF.\n",
    "\n",
    "    Parameters\n",
    "    ----------\n",
    "    samples\n",
    "        Samples drawn from a CDF\n",
    "    confidence\n",
    "        Confidence level (e.g., 0.95)\n",
    "\n",
    "    Returns\n",
    "    -------\n",
    "    x, F_hat, L, U\n",
    "        (x, F_hat) are the x and y coordinates of the empirical CDF\n",
    "        (x, L) are the x and y coordinates of the lower bound and\n",
    "        (x, U) are the x and y coordinates of the upper bound\n",
    "    \"\"\"\n",
    "    n = samples.shape[0]\n",
    "    α = 1. - confidence\n",
    "    ε_n = np.sqrt(1. / (2 * n) * np.log(2. / α))\n",
    "    x = np.sort(samples)\n",
    "    F_hat = np.arange(1, x.size + 1) / x.size\n",
    "    L = np.maximum(F_hat - ε_n, 0.)\n",
    "    U = np.minimum(F_hat + ε_n, 1.)\n",
    "    return x, F_hat, L, U"
   ]
  },
  {
   "cell_type": "code",
   "execution_count": 3,
   "id": "b5abf087-121a-4702-980c-6bcdfeb6ef93",
   "metadata": {
    "editable": true,
    "slideshow": {
     "slide_type": ""
    },
    "tags": []
   },
   "outputs": [],
   "source": [
    "import requests\n",
    "from io import StringIO\n",
    "\n",
    "def fetch_data(name, index_col=None, skiprows= 0):\n",
    "    \"\"\"Downloads and returns data as a Pandas DataFrame.\"\"\"\n",
    "    url = f\"https://www.stat.cmu.edu/~larry/all-of-statistics/=data/{name}.dat\"\n",
    "    response = requests.get(url, verify=False)\n",
    "    if response.status_code != 200:\n",
    "        raise RuntimeError\n",
    "    return pd.read_csv(StringIO(response.text), sep='\\s+', index_col=index_col, skiprows=skiprows)"
   ]
  },
  {
   "cell_type": "markdown",
   "id": "15953adb-560d-48de-8f4e-fab411490fca",
   "metadata": {},
   "source": [
    "## 1."
   ]
  },
  {
   "cell_type": "markdown",
   "id": "05a69d09-db13-4a5c-806d-ee0bb7545917",
   "metadata": {},
   "source": [
    "Note that\n",
    "\n",
    "$$\n",
    "\\mathbb{E}\\hat{F}_{n}(x)=\\mathbb{E}I(X_{1}\\leq x)=\\mathbb{P}(X_{1}\\leq x)=F(x).\n",
    "$$\n",
    "\n",
    "Moreover,\n",
    "\n",
    "$$\n",
    "\\mathbb{V}\\hat{F}_{n}(x)=\\frac{1}{n}\\mathbb{V}I(X_{1}\\leq x)=\\frac{1}{n}F(x)\\left(1-F(x)\\right).\n",
    "$$\n",
    "\n",
    "By the bias-variance decomposition, the MSE is equal to the variance\n",
    "and converges to zero. Equivalently, we can say that $\\hat{F}_{n}(x)$\n",
    "converges to $F(x)$ in quadratic mean. This implies convergence in\n",
    "probability (alternatively, we could have used the WLLN)."
   ]
  },
  {
   "cell_type": "markdown",
   "id": "1d615cad-34da-4ef9-96ae-1fa18940e1b8",
   "metadata": {},
   "source": [
    "## 2."
   ]
  },
  {
   "cell_type": "markdown",
   "id": "91dca17f-1697-4169-94dc-1f430c002b9f",
   "metadata": {},
   "source": [
    "*Assumption*.\n",
    "The Bernoulli random variables in the statement of the question are independent.\n",
    "\n",
    "Since $p=\\mathbb{E}X_{1}$, the plug-in estimator is $\\hat{p}=\\overline{X}$.\n",
    "Moreover, $\\operatorname{se}\\hat{p}=(\\mathbb{V}X_{1})/n=p(1-p)/n$.\n",
    "Since $\\hat{p}$ is a sample mean, the CLT implies (see Appendix) that an approximate $1 - \\alpha$ confidence interval for $p$ is \n",
    "\n",
    "$$\n",
    "\\hat{p}\\pm z_{\\alpha / 2} \\times \\sqrt{\\frac{\\hat{p}\\left(1-\\hat{p}\\right)}{n}}.\n",
    "$$\n",
    "\n",
    "Similarly, an approximate $1-\\alpha$ confidence interval for $\\hat{p}-\\hat{q}$ is \n",
    "\n",
    "$$\n",
    "\\hat{p}-\\hat{q}\\pm z_{\\alpha / 2} \\times \\sqrt{\\frac{\\hat{p}\\left(1-\\hat{p}\\right)}{n}+\\frac{\\hat{q}\\left(1-\\hat{q}\\right)}{n}}.\n",
    "$$\n",
    "\n",
    "In the case of a 90% confidece interval (i.e., $\\alpha = 0.1$), the z-score is approximately 1.64485."
   ]
  },
  {
   "cell_type": "code",
   "execution_count": 9,
   "id": "edd49038-1092-4f5f-93a2-f0852e068362",
   "metadata": {
    "editable": true,
    "slideshow": {
     "slide_type": ""
    },
    "tags": [
     "no_cell"
    ]
   },
   "outputs": [
    {
     "data": {
      "text/plain": [
       "0.9059"
      ]
     },
     "execution_count": 9,
     "metadata": {},
     "output_type": "execute_result"
    }
   ],
   "source": [
    "@reset_seed\n",
    "def f(confidence=0.9, n=1_000, p=0.3):\n",
    "    X = np.random.rand(10_000, n) < p\n",
    "    p_hat = X.mean(axis=1)\n",
    "    α = 1. - confidence\n",
    "    z = scipy.stats.norm.ppf(1 - α / 2)\n",
    "    eps = z * np.sqrt(p_hat * (1. - p_hat) / n)\n",
    "    return ((p_hat - eps <= p) & (p <= p_hat + eps)).mean()\n",
    "\n",
    "f()"
   ]
  },
  {
   "cell_type": "code",
   "execution_count": 10,
   "id": "7e9bc626-1497-4ed9-92b7-f691e9862943",
   "metadata": {
    "editable": true,
    "slideshow": {
     "slide_type": ""
    },
    "tags": [
     "no_cell"
    ]
   },
   "outputs": [
    {
     "data": {
      "text/plain": [
       "0.9003"
      ]
     },
     "execution_count": 10,
     "metadata": {},
     "output_type": "execute_result"
    }
   ],
   "source": [
    "@reset_seed\n",
    "def f(confidence=0.9, m=900, n=1_000, p=0.3, q=0.7):\n",
    "    X = np.random.rand(10_000, n) < p\n",
    "    Y = np.random.rand(10_000, m) < q\n",
    "    p_hat = X.mean(axis=1)\n",
    "    q_hat = Y.mean(axis=1)\n",
    "    α = 1. - confidence\n",
    "    z = scipy.stats.norm.ppf(1 - α / 2)\n",
    "    eps = z * np.sqrt(p_hat * (1. - p_hat) / n + q_hat * (1. - q_hat) / m)\n",
    "    return ((p_hat - q_hat - eps <= p - q) & (p - q <= p_hat - q_hat + eps)).mean()\n",
    "\n",
    "f()"
   ]
  },
  {
   "cell_type": "markdown",
   "id": "9dae6518-237d-4cc1-af16-536062aba5dd",
   "metadata": {},
   "source": [
    "## 3."
   ]
  },
  {
   "cell_type": "code",
   "execution_count": 11,
   "id": "a8742988-93f2-45e7-9910-cc07de9b1604",
   "metadata": {
    "editable": true,
    "slideshow": {
     "slide_type": ""
    },
    "tags": []
   },
   "outputs": [],
   "source": [
    "@reset_seed\n",
    "def plot_confidence_band(cdf_func, sample_func, confidence=0.95, n=100):\n",
    "    x, _, L, U = make_cdf_confidence_band(sample_func(n), confidence=confidence)\n",
    "    xx = np.linspace(x.min(), x.max(), 1001)\n",
    "    plt.step(xx, cdf_func(xx))\n",
    "    plt.fill_between(x, y1=L, y2=U, alpha=0.3, step=\"post\")\n",
    "    plt.title(f\"{confidence * 100}% confidence band from {n} samples\")"
   ]
  },
  {
   "cell_type": "code",
   "execution_count": 12,
   "id": "f7b5634d-a7e4-4d97-8c67-3a068e4b80a0",
   "metadata": {
    "editable": true,
    "slideshow": {
     "slide_type": ""
    },
    "tags": []
   },
   "outputs": [
    {
     "data": {
      "image/png": "[encoded data removed]",
      "text/plain": [
       "<Figure size 640x480 with 1 Axes>"
      ]
     },
     "metadata": {},
     "output_type": "display_data"
    }
   ],
   "source": [
    "plot_confidence_band(scipy.stats.norm.cdf, np.random.randn)"
   ]
  },
  {
   "cell_type": "code",
   "execution_count": 13,
   "id": "b8b31bde-ff60-4b91-a57d-de5c53712b38",
   "metadata": {
    "editable": true,
    "slideshow": {
     "slide_type": ""
    },
    "tags": []
   },
   "outputs": [
    {
     "data": {
      "image/png": "[encoded data removed]",
      "text/plain": [
       "<Figure size 640x480 with 1 Axes>"
      ]
     },
     "metadata": {},
     "output_type": "display_data"
    }
   ],
   "source": [
    "plot_confidence_band(scipy.stats.cauchy.cdf, np.random.standard_cauchy)"
   ]
  },
  {
   "cell_type": "code",
   "execution_count": 14,
   "id": "ab1821c2-14e7-46ee-8b2e-c86bbbd345ac",
   "metadata": {
    "editable": true,
    "slideshow": {
     "slide_type": ""
    },
    "tags": []
   },
   "outputs": [],
   "source": [
    "@reset_seed\n",
    "def count_number_of_cdf_capturing_confidence_bands(cdf_func, sample_func, confidence=0.95, m=1_000, n=100):\n",
    "    count = 0\n",
    "    for _ in range(m):\n",
    "        x, _, L, U = make_cdf_confidence_band(sample_func(n), confidence=confidence)\n",
    "        F = cdf_func(x)\n",
    "        count += np.all((L <= F) & (F <= U))\n",
    "    return count"
   ]
  },
  {
   "cell_type": "code",
   "execution_count": 54,
   "id": "8e986a43-1817-4aa6-ac12-1ad118b1e18e",
   "metadata": {
    "editable": true,
    "slideshow": {
     "slide_type": ""
    },
    "tags": []
   },
   "outputs": [
    {
     "name": "stdout",
     "output_type": "stream",
     "text": [
      "960 of 1000 normal CDFs were captured by the 95% confidence band\n"
     ]
    }
   ],
   "source": [
    "print(f\"{count_number_of_cdf_capturing_confidence_bands(scipy.stats.norm.cdf, np.random.randn)} of 1000 normal CDFs were captured by the 95% confidence band\")"
   ]
  },
  {
   "cell_type": "code",
   "execution_count": 55,
   "id": "fb0d09ce-2803-4011-9ec1-1c14dba04768",
   "metadata": {
    "editable": true,
    "slideshow": {
     "slide_type": ""
    },
    "tags": []
   },
   "outputs": [
    {
     "name": "stdout",
     "output_type": "stream",
     "text": [
      "978 of 1000 Cauchy CDFs were captured by the 95% confidence band\n"
     ]
    }
   ],
   "source": [
    "print(f\"{count_number_of_cdf_capturing_confidence_bands(scipy.stats.cauchy.cdf, np.random.standard_cauchy)} of 1000 Cauchy CDFs were captured by the 95% confidence band\")"
   ]
  },
  {
   "cell_type": "markdown",
   "id": "e57c66da-61ec-467d-99a7-9cf4f8fd3346",
   "metadata": {},
   "source": [
    "## 4."
   ]
  },
  {
   "cell_type": "markdown",
   "id": "3bbb321d-1f5d-48ad-9fa6-13ef0e450055",
   "metadata": {},
   "source": [
    "By our findings in Question 1 and the CLT,\n",
    "\n",
    "$$\n",
    "\\sqrt{n}\\left(\\hat{F}(x)-F(x)\\right)\\rightsquigarrow N(0,F(x)\\left(1-F(x)\\right)).\n",
    "$$\n",
    "\n",
    "*Remark*. The closer (respectively, further) $F(x)$ is to $1/2$, the more (respectively, less) uncertainty there is in the empirical distribution evaluated at $x$."
   ]
  },
  {
   "cell_type": "markdown",
   "id": "6f35d24c-7703-4b23-90f9-9ca885a235e7",
   "metadata": {},
   "source": [
    "## 5."
   ]
  },
  {
   "cell_type": "markdown",
   "id": "1f2ace0d-164d-47ae-a70f-2ac8aefa0495",
   "metadata": {},
   "source": [
    "Without loss of generality, assume $x<y$. Then,\n",
    "\n",
    "$$\n",
    "\\operatorname{Cov}(\\hat{F}(x),\\hat{F}(y))=\\mathbb{E}\\left[\\hat{F}(x)\\hat{F}(y)\\right]-F(x)F(y).\n",
    "$$\n",
    "\n",
    "Note that\n",
    "\n",
    "$$\n",
    "n^{2}\\hat{F}(x)\\hat{F}(y)=\\sum_{i}I_{\\{X_{i}\\leq x\\}}+\\sum_{i\\neq j}I_{\\{X_{i}\\leq x\\}}I_{\\{X_{j}\\leq y\\}}.\n",
    "$$\n",
    "\n",
    "and hence\n",
    "\n",
    "$$\n",
    "n^{2}\\mathbb{E}\\left[\\hat{F}(x)\\hat{F}(y)\\right]=nF(x)+n\\left(n-1\\right)F(x)F(y).\n",
    "$$\n",
    "\n",
    "Therefore,\n",
    "\n",
    "$$\n",
    "\\operatorname{Cov}(\\hat{F}(x),\\hat{F}(y))=\\frac{1}{n}F(x)\\left(1-F(y)\\right).\n",
    "$$"
   ]
  },
  {
   "cell_type": "markdown",
   "id": "06a015c8-5090-4054-9db4-ae8927fc3e1c",
   "metadata": {},
   "source": [
    "## 6."
   ]
  },
  {
   "cell_type": "markdown",
   "id": "1b871806-f7fa-4771-9444-6a31a1210766",
   "metadata": {},
   "source": [
    "First, note that\n",
    "\n",
    "$$\n",
    "T(\\hat{F})=\\frac{1}{n}\\sum_{i}\\left(I_{\\{X_{i}\\leq b\\}}-I_{\\{X_{i}\\leq a\\}}\\right)=\\frac{1}{n}\\sum_{i}I_{\\{a<X_{i}\\leq b\\}}\n",
    "$$\n",
    "\n",
    "and hence $T(\\hat{F})$ is a sample mean. Being a sample mean, the CLT implies (see Appendix) that an approximate $1-\\alpha$ confidence interval for $T(F)$ is \n",
    "\n",
    "$$\n",
    "T(\\hat{F})\\pm z_{\\alpha/2}\\times\\widehat{\\operatorname{se}}T(\\hat{F}).\n",
    "$$\n",
    "\n",
    "Note that\n",
    "\n",
    "$$\n",
    "\\begin{align*}\n",
    "n\\left(\\operatorname{se}T(\\hat{F})\\right)^{2} & =n\\mathbb{V}\\hat{F}(a)+n\\mathbb{V}\\hat{F}(b)-2n\\operatorname{Cov}(\\hat{F}(a),\\hat{F}(b))\\\\\n",
    " & =F(a)\\left(1-F(a)\\right)+F(b)\\left(1-F(b)\\right)-2F(a)\\left(1-F(b)\\right)\\\\\n",
    " & =T(F)\\left(1-T(F)\\right)\n",
    "\\end{align*}\n",
    "$$\n",
    "\n",
    "and hence\n",
    "\n",
    "$$\n",
    "\\widehat{\\operatorname{se}}T(\\hat{F})=\\sqrt{\\frac{1}{n}T(\\hat{F})\\left(1-T(\\hat{F})\\right)}.\n",
    "$$"
   ]
  },
  {
   "cell_type": "markdown",
   "id": "d0d55189-1cf5-4026-8c6e-d961e52b5ed1",
   "metadata": {},
   "source": [
    "## 7."
   ]
  },
  {
   "cell_type": "code",
   "execution_count": 51,
   "id": "202da89f-4f4b-469b-90dd-782d852d736d",
   "metadata": {
    "editable": true,
    "slideshow": {
     "slide_type": ""
    },
    "tags": []
   },
   "outputs": [
    {
     "name": "stdout",
     "output_type": "stream",
     "text": [
      "95.0% CI for the probability of an arbitrary earthquake near Fiji having magnitude 4.3 < m ≤ 4.9: (0.49505217489045894, 0.5569478251095411)\n"
     ]
    },
    {
     "data": {
      "image/png": "[encoded data removed]",
      "text/plain": [
       "<Figure size 640x480 with 1 Axes>"
      ]
     },
     "metadata": {},
     "output_type": "display_data"
    }
   ],
   "source": [
    "a = 4.3\n",
    "b = 4.9\n",
    "confidence = 0.95\n",
    "\n",
    "fijiquakes = fetch_data(\"fijiquakes\", index_col=\"Obs.\")\n",
    "\n",
    "x, F_hat, L, U = make_cdf_confidence_band(fijiquakes[\"mag\"], confidence=confidence)\n",
    "plt.step(x, F_hat)\n",
    "plt.fill_between(x, y1=L, y2=U, alpha=0.3, step=\"post\")\n",
    "plt.title(f\"{confidence * 100}% confidence band for CDF of earthquake magnitudes near Fiji\")\n",
    "\n",
    "n = fijiquakes.shape[0]\n",
    "F_b = (fijiquakes[\"mag\"] <= b).mean()\n",
    "F_a = (fijiquakes[\"mag\"] <= a).mean()\n",
    "T = F_b - F_a  # P(a < Magnitude <= b)\n",
    "se = np.sqrt(T * (1. - T) / n)\n",
    "ci = scipy.stats.norm.interval(confidence, loc=T, scale=se)\n",
    "print(f\"{confidence * 100}% CI for the probability of an arbitrary earthquake near Fiji having magnitude {a} < m ≤ {b}: {ci}\")"
   ]
  },
  {
   "cell_type": "markdown",
   "id": "89b92813-a759-43e8-9cd3-6626fb66954d",
   "metadata": {},
   "source": [
    "## 8."
   ]
  },
  {
   "cell_type": "code",
   "execution_count": 50,
   "id": "ed331970-1fda-4908-9fea-01f3aae77462",
   "metadata": {
    "editable": true,
    "slideshow": {
     "slide_type": ""
    },
    "tags": []
   },
   "outputs": [
    {
     "name": "stdout",
     "output_type": "stream",
     "text": [
      "90.0% CI for the mean waiting time at Old Faithful: (69.54117905853789, 72.25293858852092)\n",
      "Plug-in estimator for the median waiting time at Old Faithful: 76.0\n"
     ]
    }
   ],
   "source": [
    "confidence = 0.90\n",
    "\n",
    "faithful = fetch_data(\"faithful\", skiprows=25)\n",
    "ci = scipy.stats.norm.interval(confidence, loc=faithful[\"waiting\"].mean(), scale=faithful[\"waiting\"].sem())\n",
    "print(f\"{confidence * 100}% CI for the mean waiting time at Old Faithful: {ci}\")\n",
    "median = faithful[\"waiting\"].median()\n",
    "print(f\"Plug-in estimator for the median waiting time at Old Faithful: {median}\")"
   ]
  },
  {
   "cell_type": "markdown",
   "id": "b03d2d5e-dcc8-42c8-a394-6acc2e57ef25",
   "metadata": {},
   "source": [
    "## 9."
   ]
  },
  {
   "cell_type": "markdown",
   "id": "df6114c5-ce11-4e6f-84a5-4c4e742c1c5f",
   "metadata": {},
   "source": [
    "This is an application of our findings in Question 2.\n",
    "In particular,\n",
    "\n",
    "$$\n",
    "\\hat{p}-\\hat{q}\\pm z_{\\alpha/2}\\sqrt{\\frac{\\hat{p}\\left(1-\\hat{p}\\right)}{n}+\\frac{\\hat{q}\\left(1-\\hat{q}\\right)}{n}} \\approx0.05\\pm0.47\\times z_{\\alpha/2}.\n",
    "$$\n",
    "\n",
    "The z-scores for 80% and 90% confidence intervals are approximately 1.28155 and 1.64485, respectively."
   ]
  },
  {
   "cell_type": "markdown",
   "id": "cd8dd3e8-2492-42c0-a766-4d147fd6b684",
   "metadata": {},
   "source": [
    "## 10."
   ]
  },
  {
   "cell_type": "code",
   "execution_count": 49,
   "id": "de727987-c48b-4d7a-9498-9b60b33ad7b9",
   "metadata": {
    "editable": true,
    "scrolled": true,
    "slideshow": {
     "slide_type": ""
    },
    "tags": []
   },
   "outputs": [
    {
     "name": "stdout",
     "output_type": "stream",
     "text": [
      "95.0% CI for the mean difference between seeded and unseeded cloud percipitation: (5.314115765120334, 549.4781919271875)\n"
     ]
    }
   ],
   "source": [
    "confidence = 0.95\n",
    "\n",
    "clouds = fetch_data(\"clouds\", skiprows=29)\n",
    "seeded = clouds[\"Seeded_Clouds\"]\n",
    "unseeded = clouds[\"Unseeded_Clouds\"]\n",
    "n = clouds.shape[0]\n",
    "se = np.sqrt(seeded.var() / n + unseeded.var() / n)\n",
    "ci = scipy.stats.norm.interval(confidence, loc=(seeded - unseeded).mean(), scale=se)\n",
    "print(f\"{confidence * 100}% CI for the mean difference between seeded and unseeded cloud percipitation: {ci}\")"
   ]
  },
  {
   "cell_type": "markdown",
   "id": "c60ffbe7-1d16-4dd5-88af-47b88f8937cc",
   "metadata": {},
   "source": [
    "## Appendix"
   ]
  },
  {
   "cell_type": "markdown",
   "id": "45dee241-0707-4bd6-9a19-04d0ceb2aff7",
   "metadata": {},
   "source": [
    "### Normal-based confidence interval"
   ]
  },
  {
   "cell_type": "markdown",
   "id": "a1bc26c9-5ed2-4557-b4cd-783adbfd8bbd",
   "metadata": {},
   "source": [
    "Suppose \n",
    "\n",
    "$$\n",
    "\\frac{\\hat{\\theta}-\\theta}{\\operatorname{se}\\hat{\\theta}}\\approx N(0,1).\n",
    "$$\n",
    "\n",
    "Let $\\epsilon>0$, $Z$ denote a standard normal random variable, and $\\Phi$ be its CDF.\n",
    "Then,\n",
    "\n",
    "$$\n",
    "\\mathbb{P}(\\hat{\\theta}-\\epsilon\\leq\\theta\\leq\\hat{\\theta}+\\epsilon)=\\mathbb{P}\\biggl(-\\frac{\\epsilon}{\\operatorname{se}\\hat{\\theta}}\\leq Z\\leq\\frac{\\epsilon}{\\operatorname{se}\\hat{\\theta}}\\biggr)=1-2\\Phi\\biggl(-\\frac{\\epsilon}{\\operatorname{se}\\hat{\\theta}}\\biggr).\n",
    "$$\n",
    "\n",
    "It follows that $(\\hat{\\theta}-\\epsilon,\\hat{\\theta}+\\epsilon)$ is an approximate $1-\\alpha$ confidence interval for $\\theta$ if\n",
    "\n",
    "$$\n",
    "\\epsilon\\geq-\\Phi^{-1}\\biggl(\\frac{\\alpha}{2}\\biggr)\\operatorname{se}\\hat{\\theta}=\\Phi^{-1}\\biggl(1-\\frac{\\alpha}{2}\\biggr)\\operatorname{se}\\hat{\\theta}\n",
    "$$\n",
    "\n",
    "Some common values of $z_{\\alpha/2}\\equiv\\Phi^{-1}(1-\\alpha/2)$ are below."
   ]
  },
  {
   "cell_type": "code",
   "execution_count": 17,
   "id": "ed1c9f47-681b-41e2-bd78-3077de4fdd67",
   "metadata": {
    "editable": true,
    "slideshow": {
     "slide_type": ""
    },
    "tags": [
     "no_input"
    ]
   },
   "outputs": [
    {
     "data": {
      "text/html": [
       "<table>\n",
       "<thead>\n",
       "<tr><th style=\"text-align: right;\">  1 - α</th><th style=\"text-align: right;\">   α</th><th style=\"text-align: right;\">  z(α/2)</th></tr>\n",
       "</thead>\n",
       "<tbody>\n",
       "<tr><td style=\"text-align: right;\">   0.8 </td><td style=\"text-align: right;\">0.2 </td><td style=\"text-align: right;\"> 1.28155</td></tr>\n",
       "<tr><td style=\"text-align: right;\">   0.9 </td><td style=\"text-align: right;\">0.1 </td><td style=\"text-align: right;\"> 1.64485</td></tr>\n",
       "<tr><td style=\"text-align: right;\">   0.95</td><td style=\"text-align: right;\">0.05</td><td style=\"text-align: right;\"> 1.95996</td></tr>\n",
       "<tr><td style=\"text-align: right;\">   0.99</td><td style=\"text-align: right;\">0.01</td><td style=\"text-align: right;\"> 2.57583</td></tr>\n",
       "</tbody>\n",
       "</table>"
      ],
      "text/plain": [
       "'<table>\\n<thead>\\n<tr><th style=\"text-align: right;\">  1 - α</th><th style=\"text-align: right;\">   α</th><th style=\"text-align: right;\">  z(α/2)</th></tr>\\n</thead>\\n<tbody>\\n<tr><td style=\"text-align: right;\">   0.8 </td><td style=\"text-align: right;\">0.2 </td><td style=\"text-align: right;\"> 1.28155</td></tr>\\n<tr><td style=\"text-align: right;\">   0.9 </td><td style=\"text-align: right;\">0.1 </td><td style=\"text-align: right;\"> 1.64485</td></tr>\\n<tr><td style=\"text-align: right;\">   0.95</td><td style=\"text-align: right;\">0.05</td><td style=\"text-align: right;\"> 1.95996</td></tr>\\n<tr><td style=\"text-align: right;\">   0.99</td><td style=\"text-align: right;\">0.01</td><td style=\"text-align: right;\"> 2.57583</td></tr>\\n</tbody>\\n</table>'"
      ]
     },
     "execution_count": 17,
     "metadata": {},
     "output_type": "execute_result"
    }
   ],
   "source": [
    "tabulate(\n",
    "    [[\n",
    "        interval,\n",
    "        1. - interval,\n",
    "        scipy.stats.norm.ppf(1. - (1. - interval) / 2.)\n",
    "    ] for interval in (0.8, 0.9, 0.95, 0.99)],\n",
    "    headers=(\"1 - α\", r\"α\", r\"z(α/2)\"),\n",
    "    tablefmt=\"html\",\n",
    ")"
   ]
  }
 ],
 "metadata": {
  "kernelspec": {
   "display_name": "Python 3 (ipykernel)",
   "language": "python",
   "name": "python3"
  },
  "language_info": {
   "codemirror_mode": {
    "name": "ipython",
    "version": 3
   },
   "file_extension": ".py",
   "mimetype": "text/x-python",
   "name": "python",
   "nbconvert_exporter": "python",
   "pygments_lexer": "ipython3",
   "version": "3.11.5"
  }
 },
 "nbformat": 4,
 "nbformat_minor": 5
}
