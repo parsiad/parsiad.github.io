{
 "cells": [
  {
   "cell_type": "raw",
   "id": "4598e5bb-f36d-49f3-ade0-ebd6ddc5e906",
   "metadata": {},
   "source": [
    "---\n",
    "date: 2021-02-08 12:00:00-0800\n",
    "layout: post\n",
    "redirect_from:\n",
    "  - /blog/2021/rtx3090-glmark2-score/\n",
    "title: Gigabyte RTX 3090 glmark2 score\n",
    "---"
   ]
  },
  {
   "cell_type": "markdown",
   "id": "19668958-2b71-429c-8677-0fb75e7bc8db",
   "metadata": {},
   "source": [
    "```\n",
    "=======================================================\n",
    "    OpenGL Information\n",
    "    GL_VENDOR:     NVIDIA Corporation\n",
    "    GL_RENDERER:   GeForce RTX 3090/PCIe/SSE2\n",
    "    GL_VERSION:    4.6.0 NVIDIA 460.39\n",
    "=======================================================\n",
    "[build] use-vbo=false:\n",
    " FPS: 4254 FrameTime: 0.235 ms\n",
    "[build] use-vbo=true: FPS: 34143 FrameTime: 0.029 ms\n",
    "[texture] texture-filter=nearest: FPS: 36263 FrameTime: 0.028 ms\n",
    "[texture] texture-filter=linear: FPS: 36188 FrameTime: 0.028 ms\n",
    "[texture] texture-filter=mipmap: FPS: 36095 FrameTime: 0.028 ms\n",
    "[shading] shading=gouraud: FPS: 34701 FrameTime: 0.029 ms\n",
    "[shading] shading=blinn-phong-inf: FPS: 34514 FrameTime: 0.029 ms\n",
    "[shading] shading=phong: FPS: 34378 FrameTime: 0.029 ms\n",
    "[shading] shading=cel: FPS: 34343 FrameTime: 0.029 ms\n",
    "[bump] bump-render=high-poly: FPS: 26226 FrameTime: 0.038 ms\n",
    "[bump] bump-render=normals: FPS: 36662 FrameTime: 0.027 ms\n",
    "[bump] bump-render=height: FPS: 36032 FrameTime: 0.028 ms\n",
    "[effect2d] kernel=0,1,0;1,-4,1;0,1,0;: FPS: 34233 FrameTime: 0.029 ms\n",
    "[effect2d] kernel=1,1,1,1,1;1,1,1,1,1;1,1,1,1,1;: FPS: 30708 FrameTime: 0.033 ms\n",
    "[pulsar] light=false:quads=5:texture=false: FPS: 34857 FrameTime: 0.029 ms\n",
    "[desktop] blur-radius=5:effect=blur:passes=1:separable=true:windows=4: FPS: 5131 FrameTime: 0.195 ms\n",
    "[desktop] effect=shadow:windows=4: FPS: 6281 FrameTime: 0.159 ms\n",
    "[buffer] columns=200:interleave=false:update-dispersion=0.9:update-fraction=0.5:update-method=map: FPS: 856 FrameTime: 1.168 ms\n",
    "[buffer] columns=200:interleave=false:update-dispersion=0.9:update-fraction=0.5:update-method=subdata: FPS: 1118 FrameTime: 0.894 ms\n",
    "[buffer] columns=200:interleave=true:update-dispersion=0.9:update-fraction=0.5:update-method=map: FPS: 1147 FrameTime: 0.872 ms\n",
    "[ideas] speed=duration: FPS: 9870 FrameTime: 0.101 ms\n",
    "[jellyfish] <default>: FPS: 28603 FrameTime: 0.035 ms\n",
    "[terrain] <default>: FPS: 2025 FrameTime: 0.494 ms\n",
    "[shadow] <default>: FPS: 17967 FrameTime: 0.056 ms\n",
    "[refract] <default>: FPS: 12466 FrameTime: 0.080 ms\n",
    "[conditionals] fragment-steps=0:vertex-steps=0: FPS: 34216 FrameTime: 0.029 ms\n",
    "[conditionals] fragment-steps=5:vertex-steps=0: FPS: 34106 FrameTime: 0.029 ms\n",
    "[conditionals] fragment-steps=0:vertex-steps=5: FPS: 34152 FrameTime: 0.029 ms\n",
    "[function] fragment-complexity=low:fragment-steps=5: FPS: 34183 FrameTime: 0.029 ms\n",
    "[function] fragment-complexity=medium:fragment-steps=5: FPS: 34032 FrameTime: 0.029 ms\n",
    "[loop] fragment-loop=false:fragment-steps=5:vertex-steps=5: FPS: 34090 FrameTime: 0.029 ms\n",
    "[loop] fragment-steps=5:fragment-uniform=false:vertex-steps=5: FPS: 34116 FrameTime: 0.029 ms\n",
    "[loop] fragment-steps=5:fragment-uniform=true:vertex-steps=5: FPS: 33864 FrameTime: 0.030 ms\n",
    "=======================================================\n",
    "                                  glmark2 Score: 25509\n",
    "=======================================================\n",
    "```"
   ]
  }
 ],
 "metadata": {
  "kernelspec": {
   "display_name": "Python 3 (ipykernel)",
   "language": "python",
   "name": "python3"
  },
  "language_info": {
   "codemirror_mode": {
    "name": "ipython",
    "version": 3
   },
   "file_extension": ".py",
   "mimetype": "text/x-python",
   "name": "python",
   "nbconvert_exporter": "python",
   "pygments_lexer": "ipython3",
   "version": "3.8.12"
  }
 },
 "nbformat": 4,
 "nbformat_minor": 5
}
