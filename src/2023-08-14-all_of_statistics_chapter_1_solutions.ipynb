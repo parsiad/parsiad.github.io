{
 "cells": [
  {
   "cell_type": "raw",
   "id": "43183327-9996-4731-a361-78d852a52509",
   "metadata": {},
   "source": [
    "---\n",
    "date: 2023-08-13 12:00:00-0800\n",
    "layout: post\n",
    "redirect_from:\n",
    "  - /blog/2020/all-of-statistics-chapter-01/\n",
    "title: All of Statistics Chapter 1 Solutions\n",
    "---"
   ]
  },
  {
   "cell_type": "code",
   "execution_count": 2,
   "id": "71aec1bb-0b9f-4ac0-9084-b9b04b0c365e",
   "metadata": {
    "editable": true,
    "slideshow": {
     "slide_type": ""
    },
    "tags": [
     "no_cell"
    ]
   },
   "outputs": [],
   "source": [
    "import matplotlib as mpl\n",
    "import matplotlib.pyplot as plt\n",
    "import numpy as np\n",
    "import scipy.stats\n",
    "from tabulate import tabulate\n",
    "\n",
    "mpl.style.use(\"fivethirtyeight\")"
   ]
  },
  {
   "cell_type": "markdown",
   "id": "f5dc904d-cbb1-43d3-ac1b-47dbdae290f3",
   "metadata": {
    "editable": true,
    "slideshow": {
     "slide_type": ""
    },
    "tags": []
   },
   "source": [
    "## 1."
   ]
  },
  {
   "cell_type": "markdown",
   "id": "7cc7aa0a-e780-46c6-bb38-02822bd6bf7e",
   "metadata": {
    "editable": true,
    "slideshow": {
     "slide_type": ""
    },
    "tags": []
   },
   "source": [
    "> Fill in the details of the proof of Theorem 1.8. Also, prove the monotone decreasing case."
   ]
  },
  {
   "cell_type": "markdown",
   "id": "1a5923e3-136f-4ec4-8125-d66579aae674",
   "metadata": {
    "editable": true,
    "slideshow": {
     "slide_type": ""
    },
    "tags": []
   },
   "source": [
    "Fix $i < j$.\n",
    "Since $B_i \\subset A_i$ and $B_j \\cap A_i = \\emptyset$, it follows that $B_i$ and $B_j$ are disjoint.\n",
    "\n",
    "Since the $A_n$ are increasing, $A_n = \\cup_{i = 1}^n A_i$.\n",
    "\n",
    "Suppose $\\cup_{i = 1}^n B_i = \\cup_{i = 1}^n A_i$ for some $n$.\n",
    "It follows that\n",
    "\n",
    "$$\n",
    "\\cup_{i = 1}^{n + 1} B_i\n",
    "= \\cup_{i = 1}^n A_i \\cup (A_{n + 1} \\setminus \\cup_{i = 1}^n A_i)\n",
    "= \\cup_{i = 1}^{n + 1} A_i,\n",
    "$$\n",
    "\n",
    "and hence the claim is established for all $n$ by induction.\n",
    "\n",
    "We can use the above facts to establish that\n",
    "\n",
    "$$\n",
    "x \\in \\cup_{i = 1}^\\infty A_i\n",
    "\\iff \\exists n \\colon x \\in A_n\n",
    "\\iff \\exists n \\colon x \\in \\cup_{i = 1}^n A_i = \\cup_{i = 1}^n B_i\n",
    "\\iff \\exists n \\colon x \\in B_n\n",
    "\\iff x \\in \\cup_{i = 1}^\\infty B_i.\n",
    "$$\n",
    "\n",
    "Lastly, suppose $(A_n)_n$ is monotone decreasing and let $A = \\cap_n A_n$.\n",
    "Then, $(A_n^c)_n$ is monotone increasing and\n",
    "\n",
    "$$\n",
    "\\mathbb{P}(A_n)\n",
    "= 1 - \\mathbb{P}(A_n^c)\n",
    "\\rightarrow 1 - \\mathbb{P}(A^c)\n",
    "= \\mathbb{P}(A).\n",
    "$$"
   ]
  },
  {
   "cell_type": "markdown",
   "id": "013057ee-8279-4431-8959-d1fe27599c65",
   "metadata": {
    "editable": true,
    "slideshow": {
     "slide_type": ""
    },
    "tags": []
   },
   "source": [
    "## 2."
   ]
  },
  {
   "cell_type": "markdown",
   "id": "027fcd00-b761-4145-a13a-fd444f46aac2",
   "metadata": {
    "editable": true,
    "slideshow": {
     "slide_type": ""
    },
    "tags": []
   },
   "source": [
    "> Prove the statements in equation (1.1)."
   ]
  },
  {
   "cell_type": "markdown",
   "id": "3c0cac53-a6bd-4b59-8409-c65232f92e74",
   "metadata": {
    "editable": true,
    "slideshow": {
     "slide_type": ""
    },
    "tags": []
   },
   "source": [
    "By disjoint additivity,\n",
    "\n",
    "$$\n",
    "\\sum_{i=1}^\\infty \\mathbb{P}(\\emptyset)\n",
    "= \\mathbb{P}(\\cup_{i=1}^\\infty \\emptyset)\n",
    "= \\mathbb{P}(\\emptyset).\n",
    "$$\n",
    "\n",
    "Therefore, the probability of the empty set is zero (any other choice leads to a contradiction).\n",
    "\n",
    "---\n",
    "\n",
    "If $A \\subset B$, the nonnegativity of the measure along with disjoint additivity yield\n",
    "\n",
    "$$\n",
    "\\mathbb{P}(A)\n",
    "\\leq \\mathbb{P}(A) + \\mathbb{P}(B \\setminus A)\n",
    "= \\mathbb{P}(A \\cup (B \\setminus A))\n",
    "= \\mathbb{P}(B).\n",
    "$$\n",
    "\n",
    "---\n",
    "\n",
    "The above two claims along with the fact that the probability of the entire space is one yield bounds for any event:\n",
    "\n",
    "$$\n",
    "0 = \\mathbb{P}(\\emptyset) \\leq \\mathbb{P}(A) \\leq \\mathbb{P}(\\Omega) = 1.\n",
    "$$\n",
    "\n",
    "---\n",
    "\n",
    "Since any event and its complement can be used to partition the entire space, the probability of an event and that of its complement are related by\n",
    "\n",
    "$$\n",
    "\\mathbb{P}(A) + \\mathbb{P}(A^c) = \\mathbb{P}(\\Omega) = 1.\n",
    "$$\n",
    "\n",
    "---\n",
    "\n",
    "If sets $A$ and $B$ are disjoint (i.e., $A \\cap B = \\emptyset$), by disjoint additivity\n",
    "\n",
    "$$\n",
    "\\mathbb{P}(A \\cup B)\n",
    "= \\mathbb{P}(A \\setminus B) + \\mathbb{P}(AB) + \\mathbb{P}(B \\setminus A)\n",
    "= \\mathbb{P}(A) + \\mathbb{P}(B).\n",
    "$$"
   ]
  },
  {
   "cell_type": "markdown",
   "id": "350a98f6-3794-43c6-b0bb-e3a2b4ac69e3",
   "metadata": {
    "editable": true,
    "slideshow": {
     "slide_type": ""
    },
    "tags": []
   },
   "source": [
    "## 3."
   ]
  },
  {
   "cell_type": "markdown",
   "id": "c3c4007a-7a2b-4b06-84bd-6689d37e7954",
   "metadata": {
    "editable": true,
    "slideshow": {
     "slide_type": ""
    },
    "tags": []
   },
   "source": [
    "> Let $\\Omega$ be a sample space and let $A_1, A_2, \\ldots$, be events.\n",
    "Define $B_n=$ $\\bigcup_{i=n}^{\\infty} A_i$ and $C_n=\\bigcap_{i=n}^{\\infty} A_i$.\n",
    "> \n",
    "> (a) Show that $B_1 \\supset B_2 \\supset \\cdots$ and that $C_1 \\subset C_2 \\subset \\cdots$.\n",
    "> \n",
    "> (b) Show that $\\omega \\in \\bigcap_{n=1}^{\\infty} B_n$ if and only if $\\omega$ belongs to an infinite number of the events $A_1, A_2, \\ldots$\n",
    "> \n",
    "> (c) Show that $\\omega \\in \\bigcup_{n=1}^{\\infty} C_n$ if and only if $\\omega$ belongs to all the events $A_1, A_2, \\ldots$ except possibly a finite number of those events."
   ]
  },
  {
   "cell_type": "markdown",
   "id": "267a6f47-1d44-41b1-9330-0d8826e3886a",
   "metadata": {
    "editable": true,
    "slideshow": {
     "slide_type": ""
    },
    "tags": []
   },
   "source": [
    "(a) Since $B_n = A_n \\cup B_{n + 1}$ and $C_n = A_n \\cap C_{n + 1}$, the sequences are decreasing and increasing, respectively.\n",
    "\n",
    "(b) The desired result follows from\n",
    "\n",
    "$$\n",
    "\\omega \\in \\cap_{n = 1}^\\infty B_n \\iff \\forall n \\colon \\exists i \\geq n \\colon \\omega \\in A_i.\n",
    "$$\n",
    "\n",
    "(c) Similarly,\n",
    "\n",
    "$$\n",
    "\\omega \\in \\cup_{n = 1}^\\infty C_n \\iff \\exists n \\colon \\forall i \\geq n \\colon \\omega \\in A_i.\n",
    "$$"
   ]
  },
  {
   "cell_type": "markdown",
   "id": "27e77e38-616c-4e23-ae41-2f382d9221c7",
   "metadata": {
    "editable": true,
    "slideshow": {
     "slide_type": ""
    },
    "tags": []
   },
   "source": [
    "## 4."
   ]
  },
  {
   "cell_type": "markdown",
   "id": "bd2aaf83-050e-4097-b904-f2192c10d201",
   "metadata": {
    "editable": true,
    "slideshow": {
     "slide_type": ""
    },
    "tags": []
   },
   "source": [
    ">  Let $\\{A_i: i \\in I\\}$ be a collection of events where $I$ is an arbitrary index set. Show that\n",
    "\\begin{equation}\n",
    "\\left(\\bigcup_{i \\in I} A_i\\right)^c=\\bigcap_{i \\in I} A_i^c \\text { and }\\left(\\bigcap_{i \\in I} A_i\\right)^c=\\bigcup_{i \\in I} A_i^c\n",
    "\\end{equation}\n",
    "Hint: First prove this for $I=\\{1, \\ldots, n\\}$."
   ]
  },
  {
   "cell_type": "markdown",
   "id": "bd6f2a99-ead4-42e8-aee4-b14d7483200f",
   "metadata": {
    "editable": true,
    "slideshow": {
     "slide_type": ""
    },
    "tags": []
   },
   "source": [
    "The first claim follows from\n",
    "\n",
    "$$\n",
    "x \\in (\\cup_i A_i)^c\n",
    "\\iff x \\notin (\\cup_i A_i)\n",
    "\\iff \\forall i \\colon x \\notin A_i\n",
    "\\iff \\forall i \\colon x \\in A_i^c\n",
    "\\iff x \\in \\cap_i A_i^c.\n",
    "$$\n",
    "\n",
    "Similarly,\n",
    "\n",
    "$$\n",
    "x \\in (\\cap_i A_i)^c\n",
    "\\iff x \\notin (\\cap_i A_i)\n",
    "\\iff \\exists i \\colon x \\notin A_i\n",
    "\\iff \\exists i \\colon x \\in A_i^c\n",
    "\\iff x \\in \\cup_i A_i^c\n",
    "$$"
   ]
  },
  {
   "cell_type": "markdown",
   "id": "8d8f8666-a921-4a3b-bef3-8da30194ddef",
   "metadata": {
    "editable": true,
    "slideshow": {
     "slide_type": ""
    },
    "tags": []
   },
   "source": [
    "## 5."
   ]
  },
  {
   "cell_type": "markdown",
   "id": "192309cc-4e09-40c8-8dde-67420ab55103",
   "metadata": {
    "editable": true,
    "slideshow": {
     "slide_type": ""
    },
    "tags": []
   },
   "source": [
    "> Suppose we toss a fair coin until we get exactly two heads. Describe the sample space $S$. What is the probability that exactly $k$ tosses are required?"
   ]
  },
  {
   "cell_type": "markdown",
   "id": "1f8a8a3f-63ca-43ca-8cfd-ca2a0d83df70",
   "metadata": {
    "editable": true,
    "slideshow": {
     "slide_type": ""
    },
    "tags": []
   },
   "source": [
    "WLOG, we can take $S = \\{H, T\\}^\\mathbb{N}$ be the set of all infinite strings consisting of $H$ and $T$ characters.\n",
    "\n",
    "Let $X_n$ be one if the $n$-th toss is heads and zero otherwise.\n",
    "Then,\n",
    "\n",
    "$$\n",
    "\\mathbb{P}(X_1 + \\cdots + X_k = 2)\n",
    "= \\mathbb{P}(X_1 + \\cdots + X_{k - 1} = 1) \\cdot \\mathbb{P}(X_k = 1)\n",
    "= \\binom{k - 1}{1} p \\left(1 - p\\right)^{k - 2} p\n",
    "= \\left(k - 1\\right) p^2 \\left(1 - p\\right)^{k - 2}.\n",
    "$$\n",
    "\n",
    "In the case of a fair coin, this simplifies to $(k - 1) 2^{-k}$."
   ]
  },
  {
   "cell_type": "code",
   "execution_count": 33,
   "id": "258eb17a-f4df-4090-8180-26ce7ecd913f",
   "metadata": {
    "editable": true,
    "slideshow": {
     "slide_type": ""
    },
    "tags": []
   },
   "outputs": [],
   "source": [
    "k = 10\n",
    "p = 1. / 3.\n",
    "\n",
    "X = np.random.rand(1_000_000, k) < p\n",
    "approx = ((X.sum(axis=1) == 2) & (X[:, -1])).mean()\n",
    "exact = (k - 1.) * p**2 * (1. - p)**(k - 2)\n",
    "\n",
    "np.testing.assert_almost_equal(approx, exact, decimal=3)"
   ]
  },
  {
   "cell_type": "markdown",
   "id": "8807ed9d-ad78-42c1-9899-87a5903e7805",
   "metadata": {
    "editable": true,
    "slideshow": {
     "slide_type": ""
    },
    "tags": []
   },
   "source": [
    "## 6."
   ]
  },
  {
   "cell_type": "markdown",
   "id": "b0799bf9-6ce8-41ca-846e-71a2a8639828",
   "metadata": {
    "editable": true,
    "slideshow": {
     "slide_type": ""
    },
    "tags": []
   },
   "source": [
    "> Let $\\Omega=\\{0,1, \\ldots\\}$.\n",
    "Prove that there does not exist a uniform distribution on $\\Omega$ (i.e., if $\\mathbb{P}(A)=\\mathbb{P}(B)$ whenever $|A|=|B|$, then $\\mathbb{P}$ cannot satisfy the axioms of probability)."
   ]
  },
  {
   "cell_type": "markdown",
   "id": "7884f3ac-ad23-4e79-8126-32008b734949",
   "metadata": {
    "editable": true,
    "slideshow": {
     "slide_type": ""
    },
    "tags": []
   },
   "source": [
    "Suppose a uniform distribution $\\mathbb{P}$ exists on $\\mathbb{N}$.\n",
    "Then, by disjoint additivity,\n",
    "\n",
    "$$\n",
    "\\mathbb{P}(\\Omega)\n",
    "= \\sum_{n = 0}^\\infty \\mathbb{P}(\\{ n \\})\n",
    "= \\mathbb{P}(\\{ 0 \\}) \\sum_{n = 0}^\\infty 1.\n",
    "$$\n",
    "\n",
    "By the axiom of total probability, the left hand side is equal to one.\n",
    "On the other hand, the right hand side can is either zero or infinite, a contradiction."
   ]
  },
  {
   "cell_type": "markdown",
   "id": "a32bfceb-dd09-4ee5-a69c-f70c18760911",
   "metadata": {
    "editable": true,
    "slideshow": {
     "slide_type": ""
    },
    "tags": []
   },
   "source": [
    "## 7."
   ]
  },
  {
   "cell_type": "markdown",
   "id": "1173fe59-023b-4676-81ab-bb4deaa561e1",
   "metadata": {
    "editable": true,
    "slideshow": {
     "slide_type": ""
    },
    "tags": []
   },
   "source": [
    "> Let $A_1, A_2, \\ldots$ be events. Show that\n",
    "\\begin{equation}\n",
    "\\mathbb{P}\\left(\\bigcup_{n=1}^{\\infty} A_n\\right) \\leq \\sum_{n=1}^{\\infty} \\mathbb{P}\\left(A_n\\right) .\n",
    "\\end{equation}\n",
    "Hint: Define $B_n=A_n-\\bigcup_{i=1}^{n-1} A_i$. Then show that the $B_n$ are disjoint and that $\\bigcup_{n=1}^{\\infty} A_n=\\bigcup_{n=1}^{\\infty} B_n$."
   ]
  },
  {
   "cell_type": "markdown",
   "id": "6a42170c-b7c1-422f-a630-76009267f780",
   "metadata": {
    "editable": true,
    "slideshow": {
     "slide_type": ""
    },
    "tags": []
   },
   "source": [
    "The proof of Theorem 1.8 (Exercise 1) establishes the claims regarding the $B_n$.\n",
    "Then,\n",
    "\n",
    "$$\n",
    "\\mathbb{P}(\\cup_n A_n)\n",
    "= \\mathbb{P}(\\cup_n B_n)\n",
    "= \\sum_n \\mathbb{P}(B_n)\n",
    "\\leq \\sum_n \\mathbb{P}(A_n).\n",
    "$$"
   ]
  },
  {
   "cell_type": "markdown",
   "id": "89364826-a167-41ec-88d9-65a55f38b15c",
   "metadata": {
    "editable": true,
    "slideshow": {
     "slide_type": ""
    },
    "tags": []
   },
   "source": [
    "## 8."
   ]
  },
  {
   "cell_type": "markdown",
   "id": "7c615890-dab0-478d-bbb3-aa5a903361b1",
   "metadata": {
    "editable": true,
    "slideshow": {
     "slide_type": ""
    },
    "tags": []
   },
   "source": [
    "> Suppose that $\\mathbb{P}\\left(A_i\\right)=1$ for each $i$. Prove that\n",
    "\\begin{equation}\n",
    "\\mathbb{P}\\left(\\bigcap_{i=1}^{\\infty} A_i\\right)=1 .\n",
    "\\end{equation}"
   ]
  },
  {
   "cell_type": "markdown",
   "id": "bfac906a-f751-4801-b3f7-feb8a440626c",
   "metadata": {
    "editable": true,
    "slideshow": {
     "slide_type": ""
    },
    "tags": []
   },
   "source": [
    "First, note that $\\mathbb{P}(A_i^c) = 0$ and hence\n",
    "\n",
    "$$\n",
    "\\mathbb{P}(\\cup_i A_i^c) \\leq \\sum_i \\mathbb{P}(A_i^c) = 0.\n",
    "$$\n",
    "\n",
    "Therefore,\n",
    "\n",
    "$$\n",
    "\\mathbb{P}(\\cap_i A_i) = 1 - \\mathbb{P}(\\cup_i A_i^c) \\geq 1.\n",
    "$$\n",
    "\n",
    "Since probabilities are bounded above by one, the result follows."
   ]
  },
  {
   "cell_type": "markdown",
   "id": "a9b0ee9d-44d6-4ee0-9709-7139b71bb3e2",
   "metadata": {
    "editable": true,
    "slideshow": {
     "slide_type": ""
    },
    "tags": []
   },
   "source": [
    "## 9."
   ]
  },
  {
   "cell_type": "markdown",
   "id": "6f07a104-0824-483a-a1cb-244ccb76f609",
   "metadata": {
    "editable": true,
    "slideshow": {
     "slide_type": ""
    },
    "tags": []
   },
   "source": [
    "> For fixed $B$ such that $\\mathbb{P}(B)>0$, show that $\\mathbb{P}(\\cdot \\mid B)$ satisfies the axioms of probability."
   ]
  },
  {
   "cell_type": "markdown",
   "id": "f797c299-93aa-4df1-b35d-513e75c1eb47",
   "metadata": {
    "editable": true,
    "slideshow": {
     "slide_type": ""
    },
    "tags": []
   },
   "source": [
    "By definition,\n",
    "\n",
    "$$\n",
    "\\mathbb{P}(A \\mid B)\n",
    "= \\frac{\\mathbb{P}(AB)}{\\mathbb{P}(B)}.\n",
    "$$\n",
    "\n",
    "Being a quotient of nonnegative and positive terms, this quantity is nonnegative.\n",
    "Moreover,\n",
    "\n",
    "$$\n",
    "\\mathbb{P}(\\Omega \\mid B)\n",
    "= \\frac{\\mathbb{P}(\\Omega B)}{\\mathbb{P}(B)}\n",
    "= \\frac{\\mathbb{P}(B)}{\\mathbb{P}(B)}\n",
    "= 1.\n",
    "$$\n",
    "\n",
    "Lastly, for disjoint $A_1, A_2, \\ldots$,\n",
    "\n",
    "$$\n",
    "\\mathbb{P}(\\cup A_i \\mid B)\n",
    "= \\frac{\\mathbb{P}(\\cup_i (A_i B))}{\\mathbb{P}(B)}\n",
    "= \\sum_i \\frac{\\mathbb{P}(A_i B)}{\\mathbb{P}(B)}\n",
    "= \\sum_i \\mathbb{P}(A_i \\mid B).\n",
    "$$"
   ]
  },
  {
   "cell_type": "markdown",
   "id": "a9c2a951-49a7-4b6b-8cc1-eb118356d5f6",
   "metadata": {
    "editable": true,
    "slideshow": {
     "slide_type": ""
    },
    "tags": []
   },
   "source": [
    "## 10. "
   ]
  },
  {
   "cell_type": "markdown",
   "id": "a1583314-2fcb-4822-aeda-33c9e2effae5",
   "metadata": {
    "editable": true,
    "slideshow": {
     "slide_type": ""
    },
    "tags": []
   },
   "source": [
    "> You have probably heard it before.\n",
    "Now you can solve it rigorously.\n",
    "It is called the \"Monty Hall Problem.\"\n",
    "A prize is placed at random behind one of three doors.\n",
    "You pick a door.\n",
    "To be concrete, let's suppose you always pick door 1.\n",
    "Now Monty Hall chooses one of the other two doors, opens it and shows you that it is empty.\n",
    "He then gives you the opportunity to keep your door or switch to the other unopened door.\n",
    "Should you stay or switch?\n",
    "Intuition suggests it doesn't matter.\n",
    "The correct answer is that you should switch.\n",
    "Prove it.\n",
    "It will help to specify the sample space and the relevant events carefully.\n",
    "Thus write $\\Omega=$ $\\{(\\omega_1, \\omega_2): \\omega_i \\in\\{1,2,3\\}\\}$ where $\\omega_1$ is where the prize is and $\\omega_2$ is the door Monty opens."
   ]
  },
  {
   "cell_type": "markdown",
   "id": "72638995-14fa-4eb9-bfcd-3500c43243d3",
   "metadata": {
    "editable": true,
    "slideshow": {
     "slide_type": ""
    },
    "tags": []
   },
   "source": [
    "By symmetry, it is sufficient to consider the case of $\\omega_2 = 2$.\n",
    "It follows that\n",
    "\n",
    "$$\n",
    "\\mathbb{P}(\\omega_1 = 1 \\mid \\omega_2 = 2)\n",
    "= \\frac{\\mathbb{P}(\\omega_1 = 1, \\omega_2 = 2)}{\\mathbb{P}(\\omega_2 = 2)}\n",
    "= \\frac{\\mathbb{P}(\\omega_2 = 2 \\mid \\omega_1 = 1) \\mathbb{P}(\\omega_1 = 1)}{\\sum_i \\mathbb{P}(\\omega_2 = 2 \\mid \\omega_1 = i) \\mathbb{P}(\\omega_1 = i)}\n",
    "= \\frac{\\mathbb{P}(\\omega_2 = 2 \\mid \\omega_1 = 1)}{\\sum_i \\mathbb{P}(\\omega_2 = 2 \\mid \\omega_1 = i)}.\n",
    "$$\n",
    "\n",
    "Similarly,\n",
    "\n",
    "$$\n",
    "\\mathbb{P}(\\omega_1 = 3 \\mid \\omega_2 = 2)\n",
    "= \\frac{\\mathbb{P}(\\omega_1 = 3, \\omega_2 = 2)}{\\mathbb{P}(\\omega_2 = 2)}\n",
    "= \\frac{\\mathbb{P}(\\omega_2 = 2 \\mid \\omega_1 = 3) \\mathbb{P}(\\omega_1 = 3)}{\\sum_i \\mathbb{P}(\\omega_2 = 2 \\mid \\omega_1 = i) \\mathbb{P}(\\omega_1 = i)}\n",
    "= \\frac{\\mathbb{P}(\\omega_2 = 2 \\mid \\omega_1 = 3)}{\\sum_i \\mathbb{P}(\\omega_2 = 2 \\mid \\omega_1 = i)}.\n",
    "$$\n",
    "\n",
    "The denominators in both expressions are the same, so it is sufficient to compare the numerators.\n",
    "In particular,\n",
    "\n",
    "$$\n",
    "\\mathbb{P}(\\omega_2 = 2 \\mid \\omega_1 = 1)\n",
    "= 1 / 2\n",
    "< 1\n",
    "= \\mathbb{P}(\\omega_2 = 2 \\mid \\omega_1 = 3),\n",
    "$$\n",
    "\n",
    "and hence we should switch to door 3."
   ]
  },
  {
   "cell_type": "markdown",
   "id": "138c0201-008d-4c1a-bb4c-c3514a2a6aa9",
   "metadata": {
    "editable": true,
    "slideshow": {
     "slide_type": ""
    },
    "tags": []
   },
   "source": [
    "## 11."
   ]
  },
  {
   "cell_type": "markdown",
   "id": "42dc0e0d-93ff-4bf4-83ca-bd80831d1d56",
   "metadata": {
    "editable": true,
    "slideshow": {
     "slide_type": ""
    },
    "tags": []
   },
   "source": [
    "> Suppose that $A$ and $B$ are independent events.\n",
    "Show that $A^c$ and $B^c$ are independent events."
   ]
  },
  {
   "cell_type": "markdown",
   "id": "ef386cad-8265-41a6-bfe2-edee232e7ec2",
   "metadata": {
    "editable": true,
    "slideshow": {
     "slide_type": ""
    },
    "tags": []
   },
   "source": [
    "First, note that\n",
    "\n",
    "$$\n",
    "\\mathbb{P}(A^c B^c)\n",
    "= \\mathbb{P}((A \\cup B)^c).\n",
    "$$\n",
    "\n",
    "Moreover,\n",
    "\n",
    "$$\n",
    "\\mathbb{P}(A^c)\\mathbb{P}(B^c)\n",
    "= (1 - \\mathbb{P}(A))(1 - \\mathbb{P}(B))\n",
    "= 1 - \\mathbb{P}(A) - \\mathbb{P}(B) + \\mathbb{P}(A)\\mathbb{P}(B)\n",
    "= \\mathbb{P}(A^c) - \\mathbb{P}(B) + \\mathbb{P}(AB)\n",
    "= \\mathbb{P}(A^c \\cup AB) - \\mathbb{P}(B)\n",
    "= \\mathbb{P}((A \\cup B)^c).\n",
    "$$"
   ]
  },
  {
   "cell_type": "markdown",
   "id": "e595e72a-c18e-46a0-b5bc-2f8895444702",
   "metadata": {
    "editable": true,
    "slideshow": {
     "slide_type": ""
    },
    "tags": []
   },
   "source": [
    "## 12."
   ]
  },
  {
   "cell_type": "markdown",
   "id": "8ce623b5-18ed-49be-abc8-cb202f00bd4e",
   "metadata": {
    "editable": true,
    "slideshow": {
     "slide_type": ""
    },
    "tags": []
   },
   "source": [
    "> There are three cards.\n",
    "The first is green on both sides, the second is red on both sides and the third is green on one side and red on the other.\n",
    "We choose a card at random and we see one side (also chosen at random).\n",
    "If the side we see is green, what is the probability that the other side is also green?\n",
    "Many people intuitively answer 1/2.\n",
    "Show that the correct answer is 2/3."
   ]
  },
  {
   "cell_type": "markdown",
   "id": "2e007ed4-66f0-446d-99a9-61e9752f2a0c",
   "metadata": {
    "editable": true,
    "slideshow": {
     "slide_type": ""
    },
    "tags": []
   },
   "source": [
    "Let $A_i$ be the event corresponding to drawing $i$-th card.\n",
    "Let $G$ be the event that the observed side is green.\n",
    "Then,\n",
    "\n",
    "$$\n",
    "\\mathbb{P}(A_1 \\mid G)\n",
    "= \\frac{\\mathbb{P}(A_1)}{\\mathbb{P}(G)}\n",
    "= \\frac{\\mathbb{P}(A_1)}{\\sum_i \\mathbb{P}(G \\mid A_i) \\mathbb{P}(A_i)}\n",
    "= \\frac{1}{\\sum_i \\mathbb{P}(G \\mid A_i)}\n",
    "= \\frac{1}{1 + 0 + 1/2}\n",
    "= \\frac{2}{3}.\n",
    "$$"
   ]
  },
  {
   "cell_type": "markdown",
   "id": "9f92b221-230a-41cf-817e-d96c227420cc",
   "metadata": {
    "editable": true,
    "slideshow": {
     "slide_type": ""
    },
    "tags": []
   },
   "source": [
    "## 13."
   ]
  },
  {
   "cell_type": "markdown",
   "id": "87ebb703-8382-477a-89ac-9ccb12d95d41",
   "metadata": {
    "editable": true,
    "slideshow": {
     "slide_type": ""
    },
    "tags": []
   },
   "source": [
    "> Suppose that a fair coin is tossed repeatedly until both a head and tail have appeared at least once.\n",
    ">\n",
    "> (a) Describe the sample space $\\Omega$.\n",
    "> \n",
    "> (b) What is the probability that three tosses will be required?"
   ]
  },
  {
   "cell_type": "markdown",
   "id": "09e60e0b-401f-4dc5-9b2c-ce1eae8fc147",
   "metadata": {
    "editable": true,
    "slideshow": {
     "slide_type": ""
    },
    "tags": []
   },
   "source": [
    "(a) WLOG, we can take $S = \\{H, T\\}^\\mathbb{N}$ be the set of all infinite strings consisting of $H$ and $T$ characters.\n",
    "\n",
    "(b) The probability that three tosses are required is that of observing a sample whose first three characters are $HTH$ or $THT$.\n",
    "If the probability of tossing heads is $p$, this is $p^2 (1 - p) + p (1 - p)^2 = p (1 - p)$.\n",
    "In the case of a fair coin, this simplifies to $1/4$."
   ]
  },
  {
   "cell_type": "code",
   "execution_count": 115,
   "id": "f2f08048-ffcb-4331-b97d-66bd2cd369c5",
   "metadata": {
    "editable": true,
    "slideshow": {
     "slide_type": ""
    },
    "tags": []
   },
   "outputs": [],
   "source": [
    "p = 1. / 3.\n",
    "\n",
    "def is_hth(X):\n",
    "    return X[:, 0] & ~X[:, 1] & X[:, 2]\n",
    "\n",
    "X = np.random.rand(1_000_000, k) < p\n",
    "approx = (is_hth(X) | is_hth(~X)).mean()\n",
    "exact = p * (1. - p)\n",
    "\n",
    "np.testing.assert_almost_equal(approx, exact, decimal=3)"
   ]
  },
  {
   "cell_type": "markdown",
   "id": "4911ca4f-9b6b-4483-bb4a-1a73eedc2ed9",
   "metadata": {
    "editable": true,
    "slideshow": {
     "slide_type": ""
    },
    "tags": []
   },
   "source": [
    "## 14."
   ]
  },
  {
   "cell_type": "markdown",
   "id": "7fa5f788-3c89-4035-aa73-97f7e8477a07",
   "metadata": {
    "editable": true,
    "slideshow": {
     "slide_type": ""
    },
    "tags": []
   },
   "source": [
    "Show that if $\\mathbb{P}(A) = 0$ or $\\mathbb{P}(A) = 1$ then $A$ is independent of every other event. \n",
    "Show that if $A$ is independent of itself then $\\mathbb{P}(A)$ is either 0 or 1."
   ]
  },
  {
   "cell_type": "markdown",
   "id": "fb0ca07b-db4d-42bd-b253-dcccb2e569cc",
   "metadata": {
    "editable": true,
    "slideshow": {
     "slide_type": ""
    },
    "tags": []
   },
   "source": [
    "If $A$ is independent of itself, then\n",
    "\n",
    "$$\n",
    "\\mathbb{P}(A) = \\mathbb{P}(AA) = \\mathbb{P}(A) \\mathbb{P}(A)\n",
    "$$\n",
    "\n",
    "and hence $\\mathbb{P}(A)$ must be zero or one."
   ]
  },
  {
   "cell_type": "markdown",
   "id": "25db26b2-ae17-4da0-9a5a-91099605772c",
   "metadata": {
    "editable": true,
    "slideshow": {
     "slide_type": ""
    },
    "tags": []
   },
   "source": [
    "## 15."
   ]
  },
  {
   "cell_type": "markdown",
   "id": "2302878a-8f68-4183-bd4c-f84bdd5df0ca",
   "metadata": {
    "editable": true,
    "slideshow": {
     "slide_type": ""
    },
    "tags": []
   },
   "source": [
    ">The probability that a child has blue eyes is 1/4.\n",
    "Assume independence between children.\n",
    "Consider a family with 3 children.\n",
    ">\n",
    ">(a) If it is known that at least one child has blue eyes, what is the probability that at least two children have blue eyes?\n",
    ">\n",
    ">(b) If it is known that the youngest child has blue eyes, what is the probability that at least two children have blue eyes?"
   ]
  },
  {
   "cell_type": "markdown",
   "id": "143fcd92-32f3-4782-94aa-bf91f6736783",
   "metadata": {
    "editable": true,
    "slideshow": {
     "slide_type": ""
    },
    "tags": []
   },
   "source": [
    "Let $B_i$ be one if the $i$-th child has blue eyes and zero otherwise.\n",
    "Let $B = B_1 + B_2 + B_3$.\n",
    "\n",
    "(a)\n",
    "Note that\n",
    "\n",
    "$$\n",
    "\\mathbb{P}(B \\geq 2 \\mid B \\geq 1)\n",
    "= \\frac{\\mathbb{P}(B \\geq 2)}{\\mathbb{P}(B \\geq 1)}\n",
    "= \\frac{1 - \\mathbb{P}(B \\leq 1)}{1 - \\mathbb{P}(B = 0)}.\n",
    "$$\n",
    "\n",
    "Moreover,\n",
    "\n",
    "$$\n",
    "\\mathbb{P}(B = 0)\n",
    "= \\left( \\frac{3}{4} \\right)^3\n",
    "= \\frac{27}{64}\n",
    "$$\n",
    "\n",
    "and\n",
    "\n",
    "$$\n",
    "\\mathbb{P}(B = 1)\n",
    "= \\binom{3}{1} \\frac{1}{4} \\left( \\frac{3}{4} \\right)^2\n",
    "= \\frac{27}{64}.\n",
    "$$\n",
    "\n",
    "Therefore,\n",
    "\n",
    "$$\n",
    "\\mathbb{P}(B \\geq 2 \\mid B \\geq 1)\n",
    "= \\frac{10}{37}.\n",
    "$$\n",
    "\n",
    "(b)\n",
    "Note that\n",
    "\n",
    "$$\n",
    "\\mathbb{P}(B \\geq 2 \\mid B_1 = 1)\n",
    "= \\mathbb{P}(B_2 + B_3 \\geq 1)\n",
    "= 1 - \\mathbb{P}(B_2 + B_3 = 0)\n",
    "= 1 - \\left(\\frac{3}{4}\\right)^2\n",
    "= \\frac{7}{16}.\n",
    "$$"
   ]
  },
  {
   "cell_type": "markdown",
   "id": "d01c7f8c-26c1-469c-9a01-3eea1080d98b",
   "metadata": {
    "editable": true,
    "slideshow": {
     "slide_type": ""
    },
    "tags": []
   },
   "source": [
    "## 16."
   ]
  },
  {
   "cell_type": "markdown",
   "id": "95674ef2-49fb-449d-ac00-8fc0972b2f0d",
   "metadata": {
    "editable": true,
    "slideshow": {
     "slide_type": ""
    },
    "tags": []
   },
   "source": [
    "> Prove Lemma 1.14."
   ]
  },
  {
   "cell_type": "markdown",
   "id": "bdc15398-46da-46d6-be5b-b954dd13114e",
   "metadata": {
    "editable": true,
    "slideshow": {
     "slide_type": ""
    },
    "tags": []
   },
   "source": [
    "Suppose $\\mathbb{P}(B) > 0$.\n",
    "Then, by definition,\n",
    "\n",
    "$$\n",
    "\\mathbb{P}(A \\mid B) = \\frac{\\mathbb{P}(AB)}{\\mathbb{P}(B)}\n",
    "$$\n",
    "\n",
    "and hence\n",
    "\n",
    "$$\n",
    "\\mathbb{P}(A \\mid B) \\mathbb{P}(B) = \\mathbb{P}(AB).\n",
    "$$\n",
    "\n",
    "The above also holds if $\\mathbb{P}(B) = 0$ since in this case, $\\mathbb{P}(AB) \\leq \\mathbb{P}(B) = 0$.\n",
    "\n",
    "If $\\mathbb{P}(B) > 0$ and $A$ and $B$ are independent,\n",
    "\n",
    "$$\n",
    "\\mathbb{P}(A \\mid B) \\mathbb{P}(B) = \\mathbb{P}(A) \\mathbb{P}(B).\n",
    "$$\n",
    "\n",
    "Dividing both sides by $\\mathbb{P}(B)$ yields $\\mathbb{P}(A \\mid B) = \\mathbb{P}(A)$."
   ]
  },
  {
   "cell_type": "markdown",
   "id": "b50e6284-8033-4269-96b2-ca497333fbc4",
   "metadata": {
    "editable": true,
    "slideshow": {
     "slide_type": ""
    },
    "tags": []
   },
   "source": [
    "## 17."
   ]
  },
  {
   "cell_type": "markdown",
   "id": "cdf83cbe-75fb-4653-ae34-41ae007b309f",
   "metadata": {
    "editable": true,
    "slideshow": {
     "slide_type": ""
    },
    "tags": []
   },
   "source": [
    "> Show that\n",
    "\\begin{equation}\n",
    "\\mathbb{P}(ABC) = \\mathbb{P}(A|BC)\\mathbb{P}(B|C)\\mathbb{P}(C).\n",
    "\\end{equation}"
   ]
  },
  {
   "cell_type": "markdown",
   "id": "d38edbe6-c929-4093-b50f-809ed17630a7",
   "metadata": {
    "editable": true,
    "slideshow": {
     "slide_type": ""
    },
    "tags": []
   },
   "source": [
    "Applying our findings from the previous question twice,\n",
    "\n",
    "$$\n",
    "\\mathbb{P}(ABC)\n",
    "= \\mathbb{P}(A \\mid BC) \\mathbb{P}(BC)\n",
    "= \\mathbb{P}(A \\mid BC) \\mathbb{P}(B \\mid C) \\mathbb{P}(C).\n",
    "$$"
   ]
  },
  {
   "cell_type": "markdown",
   "id": "9979bd4e-4882-4c87-9c2f-b3c3810b29ec",
   "metadata": {
    "editable": true,
    "slideshow": {
     "slide_type": ""
    },
    "tags": []
   },
   "source": [
    "## 18."
   ]
  },
  {
   "cell_type": "markdown",
   "id": "66982faf-2e20-4f3f-a26d-e51a49883148",
   "metadata": {
    "editable": true,
    "slideshow": {
     "slide_type": ""
    },
    "tags": []
   },
   "source": [
    "> Suppose $k$ events form a partition of the sample space $\\Omega$, i.e., they are disjoint and $\\bigcup_{i=1}^k A_i = \\Omega$.\n",
    "Assume that $\\mathbb{P}(B) > 0$.\n",
    "Prove that if $\\mathbb{P}(A_1 \\mid B) < \\mathbb{P}(A_1)$ then $\\mathbb{P}(A_i \\mid B) > \\mathbb{P}(A_i)$ for some $i = 2, \\ldots, k$."
   ]
  },
  {
   "cell_type": "markdown",
   "id": "0bfb8b6c-660e-494d-9c32-8563af8d95bd",
   "metadata": {
    "editable": true,
    "slideshow": {
     "slide_type": ""
    },
    "tags": []
   },
   "source": [
    "Since the $A_i$ partition the space\n",
    "\n",
    "$$\n",
    "\\sum_i \\mathbb{P}(A_i) = 1 = \\sum_i \\mathbb{P}(A_i \\mid B).\n",
    "$$\n",
    "\n",
    "To arrive at a contradiction, suppose $\\mathbb{P}(A_i \\mid B) \\leq \\mathbb{P}(A_i)$ for all $i \\geq 2$.\n",
    "It follows that\n",
    "\n",
    "$$\n",
    "\\sum_i \\mathbb{P}(A_i)\n",
    "= \\sum_i \\mathbb{P}(A_i \\mid B)\n",
    "< \\mathbb{P}(A_1) + \\sum_{i \\neq 1} \\mathbb{P}(A_i \\mid B)\n",
    "\\leq \\sum_i \\mathbb{P}(A_i),\n",
    "$$\n",
    "\n",
    "a contradiction."
   ]
  },
  {
   "cell_type": "markdown",
   "id": "058741ec-5ff4-427c-a4ee-f5548a8fe1ca",
   "metadata": {
    "editable": true,
    "slideshow": {
     "slide_type": ""
    },
    "tags": []
   },
   "source": [
    "## 19."
   ]
  },
  {
   "cell_type": "markdown",
   "id": "19046ac1-6985-441f-ab1e-b74bcfde4bda",
   "metadata": {
    "editable": true,
    "slideshow": {
     "slide_type": ""
    },
    "tags": []
   },
   "source": [
    "> Suppose that 30 percent of computer owners use a Macintosh, 50 percent use Windows, and 20 percent use Linux.\n",
    "Suppose that 65 percent of the Mac users have succumbed to a computer virus, 82 percent of the Windows users get the virus, and 50 percent of the Linux users get the virus.\n",
    "We select a person at random and learn that her system was infected with the virus.\n",
    "What is the probability that she is a Windows user?"
   ]
  },
  {
   "cell_type": "markdown",
   "id": "a2501a9e-9834-4846-bbb3-40c19c04cf00",
   "metadata": {
    "editable": true,
    "slideshow": {
     "slide_type": ""
    },
    "tags": []
   },
   "source": [
    "Let $M, W, L$ denote the event that the user uses Macintosh, Windows, and Linux, respectively.\n",
    "Let $V$ denote the event that the user has been infected with the virus.\n",
    "Then\n",
    "\n",
    "$$\n",
    "\\mathbb{P}(W \\mid V)\n",
    "= \\frac{\\mathbb{P}(WV)}{\\mathbb{P}(V)}\n",
    "= \\frac{\\mathbb{P}(V \\mid W) \\mathbb{P}(W)}{\\mathbb{P}(V)}\n",
    "= \\frac{0.82 \\cdot 0.5}{0.65 \\cdot 0.3 + 0.82 \\cdot 0.5 + 0.5 \\cdot 0.2}\n",
    "\\approx 0.58.\n",
    "$$"
   ]
  },
  {
   "cell_type": "markdown",
   "id": "45ccb085-82f4-4aa4-b15b-d07725f38685",
   "metadata": {
    "editable": true,
    "slideshow": {
     "slide_type": ""
    },
    "tags": []
   },
   "source": [
    "## 20."
   ]
  },
  {
   "cell_type": "markdown",
   "id": "02ceb3c1-8c08-4abd-a03b-7e9674b74b40",
   "metadata": {
    "editable": true,
    "slideshow": {
     "slide_type": ""
    },
    "tags": []
   },
   "source": [
    "> A box contains 5 coins and each has a different probability of showing heads.\n",
    "Let $p_1, \\ldots, p_5$ denote the probability of heads on each coin.\n",
    "Suppose that\n",
    "\\begin{equation}\n",
    "p_1 = 0, p_2 = 1/4, p_3 = 1/2, p_4 = 3/4\\text{ and }p_5 = 1.\n",
    "\\end{equation}\n",
    "Let $H$ denote $\\text{``heads is obtained''}$ and let $C_i$ denote the event that coin $i$ is selected.\n",
    ">\n",
    "> (a) Select a coin at random and toss it.\n",
    "Suppose a head is obtained.\n",
    "What is the posterior probability that coin i was selected ($i=1, \\ldots, 5$)?\n",
    "In other words, find $\\mathbb{P}(C_i \\mid H)$ for $i=1, \\ldots, 5$.\n",
    ">\n",
    "> (b) Toss the coin again.\n",
    "What is the probability of another head?\n",
    "In other words find $\\mathbb{P}(H_2 \\mid H_1)$ where $H_j =\\text{ ``heads on toss }$j$\\text{.''}$\n",
    "Now suppose that the experiment was carried out as follows: We select a coin at random and toss it until a head is obtained.\n",
    ">\n",
    "> (c) Find $\\mathbb{P}(C_i \\mid B_4)$ where $B_4 = \\text{``first head is obtained on toss 4.''}$"
   ]
  },
  {
   "cell_type": "markdown",
   "id": "3d5b57bc-76a7-40c1-b88a-0dfcdd4e35c8",
   "metadata": {
    "editable": true,
    "slideshow": {
     "slide_type": ""
    },
    "tags": []
   },
   "source": [
    "(a)\n",
    "\n",
    "$$\n",
    "\\mathbb{P}(C_i \\mid H)\n",
    "= \\frac{\\mathbb{P}(C_i, H)}{\\mathbb{P}(H)}\n",
    "= \\frac{\\mathbb{P}(H \\mid C_i) \\mathbb{P}(C_i)}{\\sum_j \\mathbb{P}(H \\mid C_j) \\mathbb{P}(C_j)}\n",
    "= \\frac{\\mathbb{P}(H \\mid C_i)}{\\sum_j \\mathbb{P}(H \\mid C_j)}\n",
    "= \\frac{p_i}{\\sum_j p_j}\n",
    "$$"
   ]
  },
  {
   "cell_type": "code",
   "execution_count": 117,
   "id": "bde68ec1-2efb-4678-ae2b-79247887a55f",
   "metadata": {
    "editable": true,
    "slideshow": {
     "slide_type": ""
    },
    "tags": []
   },
   "outputs": [
    {
     "data": {
      "text/plain": [
       "array([0. , 0.1, 0.2, 0.3, 0.4])"
      ]
     },
     "execution_count": 117,
     "metadata": {},
     "output_type": "execute_result"
    }
   ],
   "source": [
    "p = np.array([0., 0.25, 0.5, 0.75, 1.])\n",
    "p / p.sum()"
   ]
  },
  {
   "cell_type": "markdown",
   "id": "a4680a76-72ea-4d2b-9f4d-03581eb6767a",
   "metadata": {
    "editable": true,
    "slideshow": {
     "slide_type": ""
    },
    "tags": []
   },
   "source": [
    "(b)\n",
    "\n",
    "$$\n",
    "\\mathbb{P}(H_2 \\mid H_1)\n",
    "= \\frac{\\mathbb{P}(H_1, H_2)}{\\mathbb{P}(H_1)}\n",
    "= \\frac{\\sum_i \\mathbb{P}(H_1, H_2 \\mid C_i) \\mathbb{P}(C_i)}{\\sum_i \\mathbb{P}(H_1 \\mid C_i) \\mathbb{P}(C_i)}\n",
    "= \\frac{\\sum_i \\mathbb{P}(H_1, H_2 \\mid C_i)}{\\sum_i \\mathbb{P}(H_1 \\mid C_i)}\n",
    "= \\frac{\\sum_i p_i^2}{\\sum_i p_i}\n",
    "$$"
   ]
  },
  {
   "cell_type": "code",
   "execution_count": 118,
   "id": "6b8ff9ab-1fc6-44aa-8394-10e080e61d1d",
   "metadata": {
    "editable": true,
    "slideshow": {
     "slide_type": ""
    },
    "tags": []
   },
   "outputs": [
    {
     "data": {
      "text/plain": [
       "0.75"
      ]
     },
     "execution_count": 118,
     "metadata": {},
     "output_type": "execute_result"
    }
   ],
   "source": [
    "p = np.array([0., 0.25, 0.5, 0.75, 1.])\n",
    "(p**2).sum() / p.sum()"
   ]
  },
  {
   "cell_type": "markdown",
   "id": "2ff4a163-dfcd-4e21-a99a-3d28bae42a4f",
   "metadata": {
    "editable": true,
    "slideshow": {
     "slide_type": ""
    },
    "tags": []
   },
   "source": [
    "(c)\n",
    "\n",
    "$$\n",
    "\\mathbb{P}(C_i \\mid B_4)\n",
    "= \\frac{\\mathbb{P}(B_4, C_i)}{\\mathbb{P}(B_4)}\n",
    "= \\frac{\\mathbb{P}(B_4 \\mid C_i) \\mathbb{P}(C_i)}{\\mathbb{P}(B_4)}\n",
    "= \\frac{\\mathbb{P}(B_4 \\mid C_i) \\mathbb{P}(C_i)}{\\sum_j \\mathbb{P}(B_4 \\mid C_j) \\mathbb{P}(C_j)}\n",
    "= \\frac{\\mathbb{P}(B_4 \\mid C_i)}{\\sum_j \\mathbb{P}(B_4 \\mid C_j)}\n",
    "= \\frac{(1 - p_i)^3 p_i}{\\sum_j (1 - p_j)^3 p_j}\n",
    "$$"
   ]
  },
  {
   "cell_type": "code",
   "execution_count": 120,
   "id": "cc002e91-2e16-487d-a341-3f66ba23f275",
   "metadata": {
    "editable": true,
    "slideshow": {
     "slide_type": ""
    },
    "tags": []
   },
   "outputs": [
    {
     "data": {
      "text/plain": [
       "array([0.        , 0.58695652, 0.34782609, 0.06521739, 0.        ])"
      ]
     },
     "execution_count": 120,
     "metadata": {},
     "output_type": "execute_result"
    }
   ],
   "source": [
    "p = np.array([0., 0.25, 0.5, 0.75, 1.])\n",
    "numer = (1 - p)**3 * p\n",
    "numer / numer.sum()"
   ]
  },
  {
   "cell_type": "markdown",
   "id": "af6f3d1f-9268-456a-bc33-6b4ef41fac06",
   "metadata": {
    "editable": true,
    "slideshow": {
     "slide_type": ""
    },
    "tags": []
   },
   "source": [
    "## 21."
   ]
  },
  {
   "cell_type": "markdown",
   "id": "20f6145e-02b7-44bf-abec-7d1fd1da0bec",
   "metadata": {
    "editable": true,
    "slideshow": {
     "slide_type": ""
    },
    "tags": []
   },
   "source": [
    "> (Computer Experiment.) Suppose a coin has probability $p$ of falling heads up.\n",
    "If we flip the coin many times, we would expect the proportion of heads to be near $p$.\n",
    "We will make this formal later.\n",
    "Take $p = .3$ and $n = 1, 000$ and simulate $n$ coin flips.\n",
    "Plot the proportion of heads as a function of $n$. Repeat for $p = .03$."
   ]
  },
  {
   "cell_type": "code",
   "execution_count": 98,
   "id": "674cb23f-3263-4a6a-8b29-c9fa5c705eb3",
   "metadata": {
    "editable": true,
    "slideshow": {
     "slide_type": ""
    },
    "tags": []
   },
   "outputs": [
    {
     "data": {
      "image/png": "[encoded data removed]",
      "text/plain": [
       "<Figure size 640x480 with 1 Axes>"
      ]
     },
     "metadata": {},
     "output_type": "display_data"
    }
   ],
   "source": [
    "n = 1_000\n",
    "p = 0.3\n",
    "\n",
    "X = np.random.rand(n) < p\n",
    "plt.plot(np.arange(1, n + 1), X.cumsum() / np.arange(1, n + 1))\n",
    "plt.title(\"Proportion of heads\")\n",
    "plt.xlabel(\"Coin flips\");"
   ]
  },
  {
   "cell_type": "markdown",
   "id": "a94dd6f0-7c66-4dc6-bf29-24b7dbaa650e",
   "metadata": {
    "editable": true,
    "slideshow": {
     "slide_type": ""
    },
    "tags": []
   },
   "source": [
    "## 22."
   ]
  },
  {
   "cell_type": "markdown",
   "id": "3b84938a-d88a-4a8d-895d-8d7650da2adf",
   "metadata": {
    "editable": true,
    "slideshow": {
     "slide_type": ""
    },
    "tags": []
   },
   "source": [
    "> (Computer Experiment.) Suppose we flip a coin n times and let p denote the probability of heads.\n",
    "Let $X$ be the number of heads.\n",
    "We call $X$ a binomial random variable, which is discussed in the next chapter.\n",
    "Intuition suggests that $X$ will be close to $n p$.\n",
    "To see if this is true, we can repeat this experiment many times and average the $X$ values.\n",
    "Carry out a simulation and compare the average of the $X$'s to $n p$.\n",
    "Try this for $p = .3$ and $n = 10$, $n = 100$, and $n = 1, 000$."
   ]
  },
  {
   "cell_type": "code",
   "execution_count": 125,
   "id": "dc18fb1c-c2bc-415b-b088-ca1833e6e144",
   "metadata": {
    "editable": true,
    "slideshow": {
     "slide_type": ""
    },
    "tags": []
   },
   "outputs": [
    {
     "data": {
      "text/html": [
       "<table>\n",
       "<thead>\n",
       "<tr><th style=\"text-align: right;\">   n</th><th style=\"text-align: right;\">  E[X_1 + ... + X_n]</th><th style=\"text-align: right;\">  n p</th></tr>\n",
       "</thead>\n",
       "<tbody>\n",
       "<tr><td style=\"text-align: right;\">  10</td><td style=\"text-align: right;\">              3.0087</td><td style=\"text-align: right;\">    3</td></tr>\n",
       "<tr><td style=\"text-align: right;\"> 100</td><td style=\"text-align: right;\">             30.0356</td><td style=\"text-align: right;\">   30</td></tr>\n",
       "<tr><td style=\"text-align: right;\">1000</td><td style=\"text-align: right;\">            299.955 </td><td style=\"text-align: right;\">  300</td></tr>\n",
       "</tbody>\n",
       "</table>"
      ],
      "text/plain": [
       "'<table>\\n<thead>\\n<tr><th style=\"text-align: right;\">   n</th><th style=\"text-align: right;\">  E[X_1 + ... + X_n]</th><th style=\"text-align: right;\">  n p</th></tr>\\n</thead>\\n<tbody>\\n<tr><td style=\"text-align: right;\">  10</td><td style=\"text-align: right;\">              3.0087</td><td style=\"text-align: right;\">    3</td></tr>\\n<tr><td style=\"text-align: right;\"> 100</td><td style=\"text-align: right;\">             30.0356</td><td style=\"text-align: right;\">   30</td></tr>\\n<tr><td style=\"text-align: right;\">1000</td><td style=\"text-align: right;\">            299.955 </td><td style=\"text-align: right;\">  300</td></tr>\\n</tbody>\\n</table>'"
      ]
     },
     "execution_count": 125,
     "metadata": {},
     "output_type": "execute_result"
    }
   ],
   "source": [
    "n_simulations = 10_000\n",
    "\n",
    "n = 1_000\n",
    "p = 0.3\n",
    "\n",
    "def experiment(n):\n",
    "    X = np.random.rand(n_simulations, n) < p\n",
    "    return X.sum(axis=1).mean(axis=0)\n",
    "\n",
    "rows = [(n, experiment(n), n * p) for n in (10, 100, 1_000)]\n",
    "tabulate(rows, headers=(\"n\", \"E[X_1 + ... + X_n]\", \"n p\"), tablefmt=\"html\")"
   ]
  },
  {
   "cell_type": "markdown",
   "id": "81711a39-b19d-40b9-abb2-97c8b010bde6",
   "metadata": {
    "editable": true,
    "slideshow": {
     "slide_type": ""
    },
    "tags": []
   },
   "source": [
    "## 23."
   ]
  },
  {
   "cell_type": "markdown",
   "id": "73e689d6-0395-4c3b-a725-54142591dcf0",
   "metadata": {
    "editable": true,
    "slideshow": {
     "slide_type": ""
    },
    "tags": []
   },
   "source": [
    "> (Computer Experiment.) Here we will get some experience simulating conditional probabilities.\n",
    "Consider tossing a fair die.\n",
    "Let $A = \\{2, 4, 6\\}$ and $B = \\{1, 2, 3, 4\\}$.\n",
    "Then, $\\mathbb{P}(A) = 1/2$, $\\mathbb{P}(B) = 2/3$ and $\\mathbb{P}(AB) = 1/3$.\n",
    "Since $\\mathbb{P}(AB) = \\mathbb{P}(A)\\mathbb{P}(B)$, the events $A$ and $B$ are independent.\n",
    "Simulate draws from the sample space and verify that $\\hat{\\mathbb{P}}(AB) = \\hat{\\mathbb{P}}(A)\\hat{\\mathbb{P}}(B)$ where $\\hat{\\mathbb{P}}(A)$ is the proportion of times A occurred in the simulation and similarly for $\\hat{\\mathbb{P}}(AB)$ and $\\hat{\\mathbb{P}}(A)$.\n",
    "Now find two events $A$ and $B$ that are not independent.\n",
    "Compute $\\hat{\\mathbb{P}}(A)$, $\\hat{\\mathbb{P}}(B)$ and $\\hat{\\mathbb{P}}(AB)$.\n",
    "Compare the calculated values to their theoretical values.\n",
    "Report your results and interpret."
   ]
  },
  {
   "cell_type": "code",
   "execution_count": 121,
   "id": "4c9249bd-e0d1-4722-859e-7afc150f2ace",
   "metadata": {
    "editable": true,
    "slideshow": {
     "slide_type": ""
    },
    "tags": []
   },
   "outputs": [],
   "source": [
    "n = 1_000_000\n",
    "\n",
    "X = np.random.randint(low=1, high=6 + 1, size=n)\n",
    "\n",
    "A = X % 2 == 0\n",
    "B = X <= 4\n",
    "C = ~A\n",
    "AB = A & B\n",
    "AC = A & C\n",
    "\n",
    "P_hat_A = A.mean()\n",
    "P_hat_B = B.mean()\n",
    "P_hat_C = C.mean()\n",
    "P_hat_AB = AB.mean()\n",
    "P_hat_AC = AC.mean()\n",
    "\n",
    "np.testing.assert_almost_equal(P_hat_A * P_hat_B, P_hat_AB, decimal=3)\n",
    "\n",
    "# Check that P_hat_A * P_hat_C is not equal to P_hat_AC\n",
    "np.testing.assert_raises(AssertionError, np.testing.assert_almost_equal, P_hat_A * P_hat_C, P_hat_AC, decimal=3)"
   ]
  },
  {
   "cell_type": "code",
   "execution_count": 122,
   "id": "68a618a6-3f77-4dcf-8a89-6308823c0fd7",
   "metadata": {},
   "outputs": [
    {
     "data": {
      "text/plain": [
       "0.334125613287"
      ]
     },
     "execution_count": 122,
     "metadata": {},
     "output_type": "execute_result"
    }
   ],
   "source": [
    "P_hat_A * P_hat_B"
   ]
  },
  {
   "cell_type": "code",
   "execution_count": 123,
   "id": "e04a8476-6e74-4cae-9819-8faa67ace9f3",
   "metadata": {},
   "outputs": [
    {
     "data": {
      "text/plain": [
       "0.333466"
      ]
     },
     "execution_count": 123,
     "metadata": {},
     "output_type": "execute_result"
    }
   ],
   "source": [
    "P_hat_AB"
   ]
  }
 ],
 "metadata": {
  "kernelspec": {
   "display_name": "Python 3 (ipykernel)",
   "language": "python",
   "name": "python3"
  },
  "language_info": {
   "codemirror_mode": {
    "name": "ipython",
    "version": 3
   },
   "file_extension": ".py",
   "mimetype": "text/x-python",
   "name": "python",
   "nbconvert_exporter": "python",
   "pygments_lexer": "ipython3",
   "version": "3.11.5"
  }
 },
 "nbformat": 4,
 "nbformat_minor": 5
}
