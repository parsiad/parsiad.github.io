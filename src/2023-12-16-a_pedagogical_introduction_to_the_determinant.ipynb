{
 "cells": [
  {
   "cell_type": "raw",
   "id": "1abf5983-26ce-4817-b585-7a26504721c8",
   "metadata": {
    "editable": true,
    "slideshow": {
     "slide_type": ""
    },
    "tags": []
   },
   "source": [
    "---\n",
    "date: 2023-12-16 12:00:00-0800\n",
    "layout: post\n",
    "title: A pedagogical introduction to the determinant\n",
    "---"
   ]
  },
  {
   "cell_type": "code",
   "execution_count": null,
   "id": "417f2918-5dca-4b2d-b79c-8f17e942e4f9",
   "metadata": {
    "editable": true,
    "slideshow": {
     "slide_type": ""
    },
    "tags": [
     "no_cell"
    ]
   },
   "outputs": [],
   "source": [
    "import numpy as np"
   ]
  },
  {
   "cell_type": "markdown",
   "id": "1488f230-d7a4-4a71-8b2e-c67cf7a1da1c",
   "metadata": {},
   "source": [
    "## Motivation"
   ]
  },
  {
   "cell_type": "markdown",
   "id": "da9353bf-5bc1-4b8e-b742-1ee55653adf1",
   "metadata": {
    "editable": true,
    "slideshow": {
     "slide_type": ""
    },
    "tags": []
   },
   "source": [
    "The determinant of a matrix is typically introduced in an undergraduate linear algebra course via either the Leibniz Formula or a recurrence relation arising from the Leibniz Formula.\n",
    "Pedagogically, it is better to introduce the determinant as a mapping which satisfies some desirable properties and only *then* show that it is equivalent to the Leibniz Formula.\n",
    "This short expository post attempts to do just that."
   ]
  },
  {
   "cell_type": "markdown",
   "id": "14487ba4-59ce-436b-95f2-7a078d4f55cd",
   "metadata": {},
   "source": [
    "## Determinant"
   ]
  },
  {
   "cell_type": "markdown",
   "id": "aa6f96e0-981e-42e1-abe5-bd48a2dae2fb",
   "metadata": {},
   "source": [
    "A *determinant function* is a mapping $\\det$ from the square complex matrices to complex numbers satisfying the following properties:\n",
    "\n",
    "1. If the matrix $A^\\prime$ is obtained by swapping two rows of $A$, then $\\det A^\\prime = - \\det A$.\n",
    "2. If the matrix $A^\\prime$ is obtained by multiplying a single row of $A$ by a constant $c$, then $\\det A^\\prime = c \\det A$.\n",
    "3. If the matrix $A^\\prime$ is obtained by adding a multiple of a row of $A$ to another (not the same) row, then $\\det A^\\prime = \\det A$.\n",
    "4. $\\det I = 1$."
   ]
  },
  {
   "cell_type": "markdown",
   "id": "aa0ffeb5-d156-4a46-b282-22c77300ad4e",
   "metadata": {},
   "source": [
    "The first three points above correspond to the three [elementary row operations](https://en.wikipedia.org/wiki/Elementary_matrix)."
   ]
  },
  {
   "cell_type": "markdown",
   "id": "4964b1df-6efc-49b9-81b3-767a2aa38150",
   "metadata": {},
   "source": [
    "**Proposition.**\n",
    "Let $\\det$ be a determinant function and $A$ be a square complex matrix whose rows are linearly dependent.\n",
    "Then, $\\det A = 0$.\n",
    "\n",
    "*Proof*.\n",
    "In this case, we can perform a sequence of elementary row operations (excluding multiplying a row by $c = 0$) that result in a row consisting of only zeros.\n",
    "The result then follows by property (2)."
   ]
  },
  {
   "cell_type": "markdown",
   "id": "065cb4ce-538e-43ac-9707-c9c28e99a637",
   "metadata": {},
   "source": [
    "Indeed, by performing elimination to reduce the matrix into either the identity or a matrix with at least one row of zeros, we can unambiguously define a determinant function (note that we have not yet proven that such a function is unique).\n",
    "The code below does just that, proving the existence of a determinant function.\n",
    "For now, we refer to this as the *canonical determinant*."
   ]
  },
  {
   "cell_type": "markdown",
   "id": "78fa46e8-2ad3-4cb3-962a-d46228d95e89",
   "metadata": {},
   "source": [
    "*Remark*.\n",
    "The code below operates on floating point numbers.\n",
    "The definition of the *canonical determinant* should be understood to be the \"algebraic\" version of this code that runs without deference to floating point error."
   ]
  },
  {
   "cell_type": "code",
   "execution_count": 58,
   "id": "324487df-afd5-43ab-add5-cc98fd5dd637",
   "metadata": {},
   "outputs": [],
   "source": [
    "def det(mat: np.ndarray) -> float:\n",
    "    \"\"\"Computes a determinant.\n",
    "\n",
    "    This algorithm works by eliminating the strict lower triangular part of the\n",
    "    matrix and then eliminating the strict upper triangular part of the matrix.\n",
    "    This elimination is done using row operations, while keeping track of any\n",
    "    swaps that may change the sign parity of the determinant.\n",
    "\n",
    "    If you are already familiar with the determinant, you will note that\n",
    "    eliminating the strict upper triangular part is not necessary. Even if this\n",
    "    algorithm was optimized to remove that step, this is still not a performant\n",
    "    way to compute determinants!\n",
    "\n",
    "    Parameters\n",
    "    ----------\n",
    "    mat\n",
    "        A matrix\n",
    "\n",
    "    Returns\n",
    "    -------\n",
    "    Determinant\n",
    "    \"\"\"\n",
    "    m, n = mat.shape\n",
    "    assert m == n\n",
    "\n",
    "    mat = mat.copy()\n",
    "\n",
    "    sign = 1\n",
    "    for _ in range(2):\n",
    "        for j in range(n):\n",
    "            # Find pivot element\n",
    "            p = -1\n",
    "            for i in range(j, n):\n",
    "                if not np.isclose(mat[i, j], 0.0):\n",
    "                    p = i\n",
    "                    break \n",
    "            if p < 0:\n",
    "                continue\n",
    "            \n",
    "            # Swap\n",
    "            if j != p:\n",
    "                r = mat[p].copy()\n",
    "                mat[p] = mat[j]\n",
    "                mat[j] = r\n",
    "                sign *= -1\n",
    "\n",
    "            # Eliminate\n",
    "            for i in range(j + 1, n):\n",
    "                if not np.isclose(mat[i, j], 0.0):\n",
    "                    mat[i] -= mat[p] * mat[i, j] / mat[p, j]\n",
    "\n",
    "        mat = mat.T\n",
    "\n",
    "    return float(sign) * np.diag(mat).prod().item()"
   ]
  },
  {
   "cell_type": "code",
   "execution_count": 60,
   "id": "0c104429-0aa6-4bd1-aabc-24ef31ad433d",
   "metadata": {
    "editable": true,
    "slideshow": {
     "slide_type": ""
    },
    "tags": [
     "no_cell"
    ]
   },
   "outputs": [],
   "source": [
    "np.random.seed(0)\n",
    "mat = np.random.randn(64, 64)\n",
    "np.testing.assert_allclose(det(mat), np.linalg.det(mat))"
   ]
  },
  {
   "cell_type": "markdown",
   "id": "ec3516da-e81a-4249-8040-9ec4af4ab7d5",
   "metadata": {},
   "source": [
    "## Alternating multilinear maps"
   ]
  },
  {
   "cell_type": "markdown",
   "id": "19443b50-b4e9-4213-8c6b-56bfb3340db1",
   "metadata": {},
   "source": [
    "*Notation*.\n",
    "For a set $\\mathcal{A}$, we write $A \\equiv (a_1, \\ldots, a_n)$ to denote an element of $\\mathcal{A}^n$."
   ]
  },
  {
   "cell_type": "markdown",
   "id": "9da4709d-7c39-47f2-b51d-e4e5ae50b909",
   "metadata": {},
   "source": [
    "**Definition (Alternating multilinear map).**\n",
    "Let $\\mathcal{A}$ and $\\mathcal{B}$ be vector spaces.\n",
    "An *alternating multilinear map* is a [multilinear map](https://en.wikipedia.org/wiki/Multilinear_map) $f: \\mathcal{A}^n \\rightarrow \\mathcal{B}$ that satisfies $f(A) = 0$ whenever $a_i = a_{i + 1}$ for some $i < n$."
   ]
  },
  {
   "cell_type": "markdown",
   "id": "a9e98d0e-6cfc-41ad-ac02-cbbbf617408e",
   "metadata": {},
   "source": [
    "*Notation*.\n",
    "Let $\\sigma$ be a [permutation](https://en.wikipedia.org/wiki/Permutation) of {1, ..., n}.\n",
    "Since $A$ in $\\mathcal{A}^n$ can be thought of as a function from {1, ..., n} to $\\mathcal{A}$, we write $A \\circ \\sigma \\equiv (a_{\\sigma(1)}, \\ldots, a_{\\sigma(n)})$ to denote a permutation of the elements of $A$."
   ]
  },
  {
   "cell_type": "markdown",
   "id": "cef4b6ee-3caa-48ac-aee7-fd1190300477",
   "metadata": {},
   "source": [
    "**Proposition (Transposition parity).**\n",
    "Let $f$ be an alternating multilinear map.\n",
    "Let $\\sigma$ be a [transposition](https://en.wikipedia.org/wiki/Cyclic_permutation#Transpositions) (a permutation which swaps two elements).\n",
    "Then, $f(A) = -f(A \\circ \\sigma)$.\n",
    "\n",
    "*Proof*.\n",
    "Let $i < j$ denote the swapped indices in the transposition.\n",
    "Fix $A$ and let\n",
    "\n",
    "$$g(x, y) \\equiv f(a_1, \\ldots, a_{i - 1}, x, a_{i + 1}, \\ldots, a_{j - 1}, y, a_{j + 1}, \\ldots, a_n).$$\n",
    "\n",
    "It follows that\n",
    "\n",
    "$$\n",
    "g(x, y) + g(y, x)\n",
    "= g(x, y) + g(y, y) + g(y, x) + g(x, x)\n",
    "= g(x + y, y) + g(x + y, x)\n",
    "= g(x + y, x + y)\n",
    "= 0\n",
    "$$\n",
    "\n",
    "and hence $g(x, y) = -g(y, x)$, as desired. $\\blacksquare$"
   ]
  },
  {
   "cell_type": "markdown",
   "id": "78c615db-4e3c-4595-93e1-c18a5059494e",
   "metadata": {},
   "source": [
    "**Corollary.**\n",
    "Let $f$ be an alternating multilinear map.\n",
    "Then $f(A) = 0$ whenever $a_i = a_j$ for some $(i, j)$ with $i < j$.\n",
    "\n",
    "*Proof*.\n",
    "Let $\\sigma$ be the transposition which swaps indices $i + 1$ and $j$.\n",
    "Then, $f(A) = -f(A \\circ \\sigma) = 0$. $\\blacksquare$"
   ]
  },
  {
   "cell_type": "markdown",
   "id": "2fa3f519-1234-4130-8932-e2a149a96db0",
   "metadata": {},
   "source": [
    "**Corollary.**\n",
    "Let $f$ be an alternating multilinear map and $\\sigma$ be a permutation.\n",
    "Then, $f(A) = \\operatorname{sgn}(\\sigma) f(A \\circ \\sigma)$ where $\\operatorname{sgn}(\\sigma)$ is the [parity of the permutation](https://en.wikipedia.org/wiki/Parity_of_a_permutation).\n",
    "\n",
    "*Proof*.\n",
    "The result follows from the fact that a permutation can be written as a composition of transpositions. $\\blacksquare$"
   ]
  },
  {
   "cell_type": "markdown",
   "id": "82509c97-86b0-4f0e-8885-7020f831ee8e",
   "metadata": {},
   "source": [
    "**Proposition.**\n",
    "A multilinear map $f:\\mathcal{A}^{n}\\rightarrow\\mathcal{B}$ is alternating multilinear if and only if $f(A)=0$ whenever $a_{1},\\ldots,a_{n}$ are linearly dependent.\n",
    "\n",
    "*Proof*.\n",
    "Suppose the map is alternating multilinear. Let $a_{1},\\ldots,a_{n}$ be linearly dependent so that, without loss of generality, $a_{1}=\\sum_{i>1}\\alpha_{i}a_{i}$.\n",
    "By linearity,\n",
    "\n",
    "$$\n",
    "f(A)=\\sum_{i>1}\\alpha_{i}f(a_{i},a_{2},\\ldots,a_{n})=0.\n",
    "$$\n",
    "\n",
    "The converse is trivial. $\\blacksquare$"
   ]
  },
  {
   "cell_type": "markdown",
   "id": "746d003e-6fcf-4c7c-a74d-6acef1a04a79",
   "metadata": {},
   "source": [
    "## The Leibniz formula"
   ]
  },
  {
   "cell_type": "markdown",
   "id": "5ecb10c2-b795-4e71-a29a-46db9f91851b",
   "metadata": {},
   "source": [
    "*Notation*.\n",
    "If $\\mathcal{A} = \\mathbb{C}^n$, then $\\mathcal{A}^n$ is isomorphic to the set of $n \\times n$ complex matrices.\n",
    "In light of this, an element in $\\mathcal{A}^n$ can be considered as a matrix $A \\equiv (a_{ij})$ or as a tuple $A \\equiv (a_1, \\ldots, a_n)$ consisting of the rows of said matrix."
   ]
  },
  {
   "cell_type": "markdown",
   "id": "434c16c8-35fd-43c8-a6c0-6fa1e4cbe3be",
   "metadata": {},
   "source": [
    "**Proposition (Uniqueness).**\n",
    "Let $f: (\\mathbb{C}^n)^n \\rightarrow \\mathbb{C}$ be an alternating multilinear map such that $f(I) = 1$.\n",
    "Then,\n",
    "\n",
    "$$\n",
    "\\begin{equation}\\label{eq:leibniz_formula}\n",
    "f(A) = \\sum_{\\sigma \\in S_n} \\operatorname{sgn}(\\sigma) a_{1 \\sigma(1)} \\cdots a_{n \\sigma(n)}.\\tag{Leibniz Formula}\n",
    "\\end{equation}\n",
    "$$\n",
    "\n",
    "where $S_n$ is the set of all permutations on {1, ..., n}.\n",
    "\n",
    "*Proof*.\n",
    "First, note that\n",
    "\n",
    "$$\n",
    "f(A) = f\\biggl(\\sum_j a_{1j} e_j, \\ldots, \\sum_j a_{nj} e_j\\biggr) \\\\\n",
    "     = \\sum_{1 \\leq j_1,\\ldots,j_n \\leq n} a_{1 j_1} \\cdots a_{n j_n} f(e_{j_1}, \\ldots, e_{j_n}).\n",
    "$$\n",
    "\n",
    "Since $f$ is alternating multilinear and hence equal to zero whenever any of its two inputs are equal, we can restrict our attention to the permutations:\n",
    "\n",
    "$$\n",
    "f(A) = \\sum_{\\sigma \\in S_n} a_{1 \\sigma(1)} \\cdots a_{n \\sigma(n)} f(e_{\\sigma(1)}, \\ldots, e_{\\sigma(n)}).\n",
    "$$\n",
    "\n",
    "Since $f$ is alternating multilinear, we can change the order of its inputs so long as we count the number of transpositions and use that to account for a possible sign-change:\n",
    "\n",
    "$$\n",
    "f(A) = \\sum_{\\sigma \\in S_n} \\operatorname{sgn}(\\sigma) a_{1 \\sigma(1)} \\cdots a_{n \\sigma(n)} f(I).\n",
    "$$\n",
    "\n",
    "Using the assumption $f(I) = 1$, the desired result follows. $\\blacksquare$"
   ]
  },
  {
   "cell_type": "markdown",
   "id": "cef96200-4060-41a8-919a-ccdbfcf6bc52",
   "metadata": {},
   "source": [
    "*Remark*.\n",
    "$\\operatorname{sgn}(\\sigma)$ is sometimes represented as $\\epsilon_{i_1 \\ldots i_n}$ where $i_j = \\sigma(j)$.\n",
    "This is called the [Levi-Civita symbol](https://en.wikipedia.org/wiki/Levi-Civita_symbol).\n",
    "Using this symbol and [Einstein notation](https://en.wikipedia.org/wiki/Einstein_notation), the \\ref{eq:leibniz_formula} becomes\n",
    "\n",
    "$$\n",
    "\\epsilon_{i_1 \\ldots i_n} a_{1 i_1} \\cdots a_{n i_n}.\n",
    "$$"
   ]
  },
  {
   "cell_type": "markdown",
   "id": "abad691c-3a73-4253-95e1-e27f88497333",
   "metadata": {},
   "source": [
    "**Proposition.**\n",
    "A determinant function is multilinear.\n",
    "\n",
    "*Proof.*\n",
    "Let $A$ be a square complex matrix and $h$ be a vector.\n",
    "It is sufficient to show that\n",
    "\n",
    "$$\n",
    "\\det A+\\det(h,a_{2},\\ldots,a_{n})=\\det(a_{1}+h,a_{2},\\ldots,a_{n}).\n",
    "$$\n",
    "\n",
    "Suppose the rows of $A$ are linearly dependent.\n",
    "Without loss of generality,\n",
    "write $a_{1}=\\sum_{i>1}\\alpha_{i}a_{i}$ and $h=b+\\sum_{i>1}\\beta_{i}a_{i}$\n",
    "where $b$ is orthogonal to the $a_{i}$.\n",
    "Then, $\\det A=0$.\n",
    "Moreover,\n",
    "\n",
    "$$\n",
    "\\det(h,a_{2},\\ldots,a_{n})=\\det\\biggl(b+\\sum_{i>1}\\beta_{i}a_{i},a_{2},\\ldots,a_{n}\\biggr)=\\det(b,a_{2},\\ldots,a_{n})\n",
    "$$\n",
    "\n",
    "and\n",
    "\n",
    "$$\n",
    "\\det(a_{1}+h,a_{2},\\ldots,a_{n})=\\det\\biggl(b+\\sum_{i>1}\\left(\\alpha_{i}+\\beta_{i}\\right)a_{i},a_{2},\\ldots,a_{n}\\biggr)=\\det(b,a_{2},\\ldots,a_{n}),\n",
    "$$\n",
    "\n",
    "as desired.\n",
    "\n",
    "Suppose the rows of $A$ are linearly independent.\n",
    "It follows that we can write $h=\\sum_{i}\\beta_{i}a_{i}$.\n",
    "Then,\n",
    "\n",
    "$$\n",
    "\\begin{align*}\n",
    "\\det A+\\det(h,a_{2},\\ldots,a_{n}) & =\\det A+\\det\\biggl(\\sum_{i}\\beta_{i}a_{i},a_{2},\\ldots,a_{n}\\biggr)\\\\\n",
    " & =\\det A+\\det\\biggl(\\beta_{1}a_{1},a_{2},\\ldots,a_{n}\\biggr)\\\\\n",
    " & =\\det\\biggl(\\left(1+\\beta_{1}\\right)a_{1},a_{2},\\ldots,a_{n}\\biggr)\\\\\n",
    " & =\\det\\biggl(a_{1}+\\sum_{i}\\beta_{i}a_{i},a_{2},\\ldots,a_{n}\\biggr)\\\\\n",
    " & =\\det\\biggl(a_{1}+h,a_{2},\\ldots,a_{n}\\biggr).\n",
    "\\end{align*}\n",
    "$$\n",
    "\n",
    "$\\blacksquare$"
   ]
  },
  {
   "cell_type": "markdown",
   "id": "1ac82a65-3d64-4f67-b742-01b0029bb0e6",
   "metadata": {},
   "source": [
    "**Corollary.**\n",
    "A determinant function is an alternating multilinear map."
   ]
  },
  {
   "cell_type": "markdown",
   "id": "532bb37f-d380-486a-bcae-bc04e8f3df0c",
   "metadata": {},
   "source": [
    "**Corollary.**\n",
    "There is only one determinant function and it is given by the \\ref{eq:leibniz_formula}."
   ]
  },
  {
   "cell_type": "markdown",
   "id": "018f890e-5514-4a60-99ce-42dd5ac2626b",
   "metadata": {},
   "source": [
    "## Determinant properties"
   ]
  },
  {
   "cell_type": "markdown",
   "id": "1bbf0cd7-e918-42d5-a40c-63aa12b3be93",
   "metadata": {},
   "source": [
    "We can now use the \\ref{eq:leibniz_formula} to derive various properties of the determinant.\n",
    "The following results are concerned with complex matrices $A \\equiv (a_{ij})$ and $B \\equiv (b_{ij})$."
   ]
  },
  {
   "cell_type": "markdown",
   "id": "3ba34a1e-57d6-4d8e-9b85-3802febc5ae4",
   "metadata": {},
   "source": [
    "**Proposition.**\n",
    "$\\det A = \\det A^\\intercal$.\n",
    "\n",
    "*Proof*.\n",
    "\n",
    "$$\n",
    "\\det A\n",
    "=\\sum_{\\sigma}\\operatorname{sgn}(\\sigma)\\prod_{i}a_{i\\sigma(i)}\n",
    "=\\sum_{\\sigma}\\operatorname{sgn}(\\sigma)\\prod_{i}a_{\\sigma^{-1}(i)\\sigma(\\sigma^{-1}(i))}\n",
    "=\\sum_{\\sigma}\\operatorname{sgn}(\\sigma^{-1})\\prod_{i}a_{\\sigma^{-1}(i)i}\n",
    "=\\det A^{\\intercal}.\n",
    "$$\n",
    "\n",
    "$\\blacksquare$"
   ]
  },
  {
   "cell_type": "markdown",
   "id": "b0bae26c-a824-4635-9ae4-052845aedf66",
   "metadata": {},
   "source": [
    "*Notation*.\n",
    "For a matrix $A$, let $A^{(i, j)}$ be the same matrix after the simultaneous removal of its $i$-th row and $j$-th column."
   ]
  },
  {
   "cell_type": "markdown",
   "id": "01b19f24-b35b-4673-9f3f-617c2e4e6635",
   "metadata": {},
   "source": [
    "**Lemma.**\n",
    "\n",
    "$$\n",
    "\\det A = \\sum_j \\left( -1 \\right)^{j - 1} a_{1j} \\det A^{(1, j)}\n",
    "$$\n",
    "\n",
    "*Proof*.\n",
    "We demonstrate the idea for a $3\\times3$ matrix; the generalization is straight-forward.\n",
    "\n",
    "Using multilinearity,\n",
    "\n",
    "$$\n",
    "\\begin{align*}\n",
    "\\det\\begin{pmatrix}a_{11} & a_{12} & a_{13}\\\\\n",
    "a_{21} & a_{22} & a_{23}\\\\\n",
    "a_{31} & a_{32} & a_{33}\n",
    "\\end{pmatrix} & =a_{11}\\det\\begin{pmatrix}1 & 0 & 0\\\\\n",
    "a_{21} & a_{22} & a_{23}\\\\\n",
    "a_{31} & a_{32} & a_{33}\n",
    "\\end{pmatrix}+a_{12}\\det\\begin{pmatrix}0 & 1 & 0\\\\\n",
    "a_{21} & a_{22} & a_{23}\\\\\n",
    "a_{31} & a_{32} & a_{33}\n",
    "\\end{pmatrix}+a_{13}\\det\\begin{pmatrix}0 & 0 & 1\\\\\n",
    "a_{21} & a_{22} & a_{23}\\\\\n",
    "a_{31} & a_{32} & a_{33}\n",
    "\\end{pmatrix}\\\\\n",
    " & =a_{11}\\det\\begin{pmatrix}1 & 0 & 0\\\\\n",
    "a_{21} & a_{22} & a_{23}\\\\\n",
    "a_{31} & a_{32} & a_{33}\n",
    "\\end{pmatrix}-a_{12}\\det\\begin{pmatrix}1 & 0 & 0\\\\\n",
    "a_{22} & a_{21} & a_{23}\\\\\n",
    "a_{32} & a_{31} & a_{33}\n",
    "\\end{pmatrix}+a_{13}\\det\\begin{pmatrix}1 & 0 & 0\\\\\n",
    "a_{23} & a_{21} & a_{22}\\\\\n",
    "a_{33} & a_{31} & a_{32}\n",
    "\\end{pmatrix}\n",
    "\\end{align*}\n",
    "$$\n",
    "\n",
    "Moreover, by the Leibniz Formula,\n",
    "\n",
    "$$\n",
    "\\det\\begin{pmatrix}1 & 0 & 0\\\\\n",
    "a_{21} & a_{22} & a_{23}\\\\\n",
    "a_{31} & a_{32} & a_{33}\n",
    "\\end{pmatrix}\n",
    "=\\sum_{\\sigma}\\operatorname{sgn}(\\sigma)a_{1\\sigma(1)}a_{2\\sigma(2)}a_{3\\sigma(3)}\n",
    "=\\sum_{\\sigma\\colon\\sigma(1)=1}\\operatorname{sgn}(\\sigma)a_{2\\sigma(2)}a_{3\\sigma(3)}\n",
    "=\\det\\begin{pmatrix}a_{22} & a_{23}\\\\\n",
    "a_{32} & a_{33}\n",
    "\\end{pmatrix}.\n",
    "$$\n",
    "\n",
    "The remaining terms are handled similarly. $\\blacksquare$"
   ]
  },
  {
   "cell_type": "markdown",
   "id": "e9d90820-25d6-4d87-a13d-ed969146d474",
   "metadata": {},
   "source": [
    "**Proposition (Cofactor expansion).**\n",
    "For any $i$ between $1$ and $n$ (inclusive),\n",
    "\n",
    "$$\n",
    "\\det A = \\sum_j \\left( -1 \\right)^{i + j} a_{ij} \\det A^{(i, j)}\n",
    "$$\n",
    "\n",
    "*Proof*.\n",
    "Recalling that the determinant flips signs when any two rows are swapped, we can perform a sequence of $i - 1$ transpositions to move $a_i$, the $i$-th row of the matrix, to the \"top\" and apply the previous lemma:\n",
    "\n",
    "$$\n",
    "\\left(-1\\right)^{i-1}\\det A=\\det\\begin{pmatrix}a_{i}^{\\intercal}\\\\\n",
    "a_{1}^{\\intercal}\\\\\n",
    "a_{2}^{\\intercal}\\\\\n",
    "\\vdots\\\\\n",
    "a_{i-1}^{\\intercal}\\\\\n",
    "a_{i+1}^{\\intercal}\\\\\n",
    "\\vdots\\\\\n",
    "a_{n}^{\\intercal}\n",
    "\\end{pmatrix}.\n",
    "$$\n",
    "\n",
    "$\\blacksquare$"
   ]
  },
  {
   "cell_type": "markdown",
   "id": "1a743482-f60a-4682-9c5e-6dc4a3094d69",
   "metadata": {},
   "source": [
    "**Corollary.**\n",
    "If $A$ is either lower or upper triangular, $\\det A = \\prod_i a_{ii}$.\n",
    "\n",
    "*Proof*.\n",
    "First, note that it is sufficient to consider the lower triangular case since the transpose of an upper triangular matrix is lower triangular.\n",
    "The result then follows from performing a cofactor expansion along the first row inductively. $\\blacksquare$"
   ]
  },
  {
   "cell_type": "markdown",
   "id": "f255158e-a419-4f56-9fdd-3f6fca3b4a16",
   "metadata": {},
   "source": [
    "**Proposition.**\n",
    "\n",
    "$$\\det(AB) = \\det A \\det B$$\n",
    "\n",
    "*Proof*.\n",
    "If either $A$ or $B$ are singular, the claim is trivial since both sides are zero.\n",
    "Therefore, proceed assuming $A$ and $B$ are nonsingular.\n",
    "\n",
    "As with the construction of the canonical determinant, we can write\n",
    "\n",
    "$$\n",
    "I=E_{k}\\cdots E_{1}A\n",
    "$$\n",
    "\n",
    "where $E_{1},\\ldots,E_{k}$ are a sequence of elementary row operations.\n",
    "It is easy to see that elementary row operations are nonsingular and their inverses are themselves elementary row operations.\n",
    "Therefore, $A$ can be written as a product of elementary row operations.\n",
    "To arrive at the desired result, it is sufficient to show that for any sequence of row operations $E_{1}^{\\prime},\\ldots,E_{k}^{\\prime}$\n",
    "there exists a constant $\\alpha$ such that for any matrix $M$\n",
    "\n",
    "$$\n",
    "\\det(E_{1}^{\\prime}\\cdots E_{k}^{\\prime}M)=\\alpha\\det M.\n",
    "$$\n",
    "\n",
    "$\\blacksquare$"
   ]
  },
  {
   "cell_type": "markdown",
   "id": "569303a9-b7fd-47a0-ab7a-bcc513088af7",
   "metadata": {},
   "source": [
    "**Corollary.**\n",
    "The determinant of an $n \\times n$ complex matrix is the product of its $n$ (possibly non-unique) eigenvalues.\n",
    "\n",
    "*Proof*.\n",
    "Let $A$ be an $n \\times n$ complex matrix and denote by $A = P^{-1} J P$ its [Jordan normal form](https://en.wikipedia.org/wiki/Jordan_normal_form).\n",
    "Since the matrix $J$ has the eigenvalues $\\lambda_1, \\ldots, \\lambda_n$ of $A$ on its diagonal and is upper triangular,\n",
    "\n",
    "$$\\det A = \\det P^{-1} \\det J \\det P = \\det J = \\prod_{i = 1}^n \\lambda_i.$$\n",
    "\n",
    "$\\blacksquare$"
   ]
  }
 ],
 "metadata": {
  "kernelspec": {
   "display_name": "Python 3 (ipykernel)",
   "language": "python",
   "name": "python3"
  },
  "language_info": {
   "codemirror_mode": {
    "name": "ipython",
    "version": 3
   },
   "file_extension": ".py",
   "mimetype": "text/x-python",
   "name": "python",
   "nbconvert_exporter": "python",
   "pygments_lexer": "ipython3",
   "version": "3.11.6"
  }
 },
 "nbformat": 4,
 "nbformat_minor": 5
}
