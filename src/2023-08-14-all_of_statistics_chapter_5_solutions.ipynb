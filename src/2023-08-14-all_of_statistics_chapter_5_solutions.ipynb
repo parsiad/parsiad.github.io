{
 "cells": [
  {
   "cell_type": "raw",
   "id": "43183327-9996-4731-a361-78d852a52509",
   "metadata": {
    "editable": true,
    "raw_mimetype": "",
    "slideshow": {
     "slide_type": ""
    },
    "tags": []
   },
   "source": [
    "---\n",
    "date: 2023-08-13 12:00:00-0800\n",
    "layout: post\n",
    "redirect_from:\n",
    "  - /blog/2020/all-of-statistics-chapter-05/\n",
    "title: All of Statistics Chapter 5 Solutions\n",
    "---"
   ]
  },
  {
   "cell_type": "code",
   "execution_count": 2,
   "id": "71aec1bb-0b9f-4ac0-9084-b9b04b0c365e",
   "metadata": {
    "editable": true,
    "slideshow": {
     "slide_type": ""
    },
    "tags": [
     "no_cell"
    ]
   },
   "outputs": [],
   "source": [
    "import matplotlib as mpl\n",
    "import matplotlib.pyplot as plt\n",
    "import numpy as np\n",
    "import scipy.stats\n",
    "from tabulate import tabulate\n",
    "\n",
    "mpl.style.use(\"fivethirtyeight\")"
   ]
  },
  {
   "cell_type": "markdown",
   "id": "12383ce9-90bb-4782-96e2-f982af8217b7",
   "metadata": {},
   "source": [
    "## 1."
   ]
  },
  {
   "cell_type": "markdown",
   "id": "5b341829-1f42-41c5-ab29-5cf92325b6e4",
   "metadata": {},
   "source": [
    "(a) First, note that\n",
    "\n",
    "$$\n",
    "\\left(n-1\\right)S_{n}^{2}=\\sum_{i}\\left(X_{i}-\\overline{X}\\right)^{2}=\\sum_{i}\\left(X_{i}^{2}-2X_{i}\\overline{X}+\\overline{X}^{2}\\right)=\\left(\\sum_{i}X_{i}^{2}\\right)-n\\overline{X}^{2}.\n",
    "$$\n",
    "\n",
    "Moreover,\n",
    "\n",
    "$$\n",
    "\\overline{X}^{2}=\\frac{1}{n^{2}}\\left(\\sum_{i}X_{i}^{2}+2\\sum_{i<j}X_{i}X_{j}\\right)\n",
    "$$\n",
    "\n",
    "and hence\n",
    "\n",
    "$$\n",
    "n\\mathbb{E}\\left[\\overline{X}^{2}\\right]=\\mathbb{E}\\left[X_{1}^{2}\\right]+\\left(n-1\\right)\\mathbb{E}X_{1}\\mathbb{E}X_{2}=n\\mu^{2}+\\sigma^{2}.\n",
    "$$\n",
    "\n",
    "It follows that\n",
    "\n",
    "$$\n",
    "\\left(n-1\\right)\\mathbb{E}\\left[S_{n}^{2}\\right]=n\\mathbb{E}\\left[X_{1}^{2}\\right]-n\\mathbb{E}\\left[\\overline{X}^{2}\\right]=\\left(n-1\\right)\\sigma^{2},\n",
    "$$\n",
    "\n",
    "as desired.\n",
    "\n",
    "(b) By the above,\n",
    "\n",
    "$$\n",
    "S_{n}^{2}=\\frac{n}{n-1}\\left[\\frac{1}{n}\\left(\\sum_{i}X_{i}^{2}\\right)-\\overline{X}^{2}\\right].\n",
    "$$\n",
    "\n",
    "Then, using the weak law of large numbers (WLLN) and properties of pairs of sequence which convergence in probability, we obtain the desired result in a few steps:\n",
    "\n",
    "1. By the WLLN, $\\frac{1}{n}\\sum_{i}X_{i}^{2}\\xrightarrow{P}\\mathbb{E}[X_{1}^{2}]=\\mu^{2}+\\sigma^{2}$ and $\\overline{X}\\xrightarrow{P}\\mathbb{E}X_{1}=\\mu$.\n",
    "2. By Theorem 5.5(g), $\\overline{X}^{2}\\xrightarrow{P}\\mu^{2}$.\n",
    "3. By Theorem 5.5(a), $\\frac{1}{n}\\sum_{i}X_{i}^{2}-\\overline{X}^{2}\\xrightarrow{P}\\sigma^{2}$.\n",
    "4. Finally, by Theorem 5.5(d), $S_{n}^{2}\\xrightarrow{P}\\sigma^{2}$."
   ]
  },
  {
   "cell_type": "markdown",
   "id": "4ea580ad-0763-45cd-ad54-1cf88e8c2d56",
   "metadata": {},
   "source": [
    "## 2."
   ]
  },
  {
   "cell_type": "markdown",
   "id": "c842204c-c5f9-49ce-99e0-2e62dbbef46f",
   "metadata": {},
   "source": [
    "Suppose $X_{n}$ converges to $b$ in quadratic mean. By Jensen's inequality\n",
    "\n",
    "$$\n",
    "\\mathbb{E}\\left[X_{n}-b\\right]^{2}\\leq\\mathbb{E}\\left[\\left(X_{n}-b\\right)^{2}\\right]\\rightarrow0.\n",
    "$$\n",
    "\n",
    "Therefore, $\\mathbb{E}[X_{n}-b]\\rightarrow0$ and hence $\\mathbb{E}X_{n}\\rightarrow b$.\n",
    "Next, note that\n",
    "\n",
    "$$\n",
    "\\mathbb{E}\\left[\\left(X_{n}-b\\right)^{2}\\right]=\\mathbb{E}\\left[X_{n}^{2}\\right]-2b\\mathbb{E}X_{n}+b^{2}=\\mathbb{V}(X_{n})+\\left(\\mathbb{E}X_{n}\\right)^{2}-2b\\mathbb{E}X_{n}+b^{2}.\n",
    "$$\n",
    "\n",
    "Taking limits of both sides reveals that $\\mathbb{V}(X_{n})\\rightarrow0$.\n",
    "As for the converse, we can apply the limits $\\lim_{n}\\mathbb{E}X_{n}=b$\n",
    "and $\\lim_{n}\\mathbb{V}(X_{n})=0$ directly to the equation above."
   ]
  },
  {
   "cell_type": "markdown",
   "id": "a4921007-e749-4b26-a929-980e0ce14c2d",
   "metadata": {},
   "source": [
    "## 3."
   ]
  },
  {
   "cell_type": "markdown",
   "id": "48f37590-5da3-42e3-b3fd-5aee88ae0b2b",
   "metadata": {},
   "source": [
    "Since the expectation of $\\overline{X}$ is $\\mu$ and the variance of $\\overline{X}$ converges to zero, the desired result is obtained by an application of our findings in Question 2."
   ]
  },
  {
   "cell_type": "markdown",
   "id": "88347e1c-6b04-46bc-8087-366a7b37cede",
   "metadata": {},
   "source": [
    "## 4."
   ]
  },
  {
   "cell_type": "markdown",
   "id": "0e6880d8-3556-4c89-9993-348122407a63",
   "metadata": {},
   "source": [
    "Let $\\epsilon>0$. For $n$ sufficiently large,\n",
    "\n",
    "$$\n",
    "\\mathbb{P}(\\left|X_{n}-0\\right|>\\epsilon)=\\mathbb{P}(X_{n}>\\epsilon)=\\mathbb{P}(X_{n}=n)=1/n^{2}\\rightarrow0\n",
    "$$\n",
    "\n",
    "and hence $X_{n}$ converges in probability. However,\n",
    "\n",
    "$$\n",
    "\\mathbb{E}\\left[\\left(X_{n}-0\\right)^{2}\\right]=\\mathbb{E}\\left[X_{n}^{2}\\right]\\geq\\mathbb{E}\\left[X_{n}^{2}I_{\\{X_{n}=n\\}}\\right]=n^{2}\\mathbb{P}(X_{n}=n)=1\n",
    "$$\n",
    "\n",
    "and hence $X_{n}$ does not converge in quadratic mean."
   ]
  },
  {
   "cell_type": "markdown",
   "id": "384af87d-ca67-474c-8dbc-5f69ce50aa66",
   "metadata": {},
   "source": [
    "## 5."
   ]
  },
  {
   "cell_type": "markdown",
   "id": "74a40699-47a5-4b8b-9183-a954c3e26af2",
   "metadata": {},
   "source": [
    "It is sufficient to prove the second claim since convergence in quadratic\n",
    "mean implies convergence in probability. Since the expectation of\n",
    "$\\overline{X}$ is $p$ and the variance of $\\overline{X}$ converges\n",
    "to zero, the desired result is obtained by an application of our findings\n",
    "in Question 2."
   ]
  },
  {
   "cell_type": "markdown",
   "id": "1132f782-eb30-401f-9755-dde37ebfec7f",
   "metadata": {},
   "source": [
    "## 6."
   ]
  },
  {
   "cell_type": "markdown",
   "id": "fb02e052-e141-434e-95e8-e3a92aa4f7a4",
   "metadata": {},
   "source": [
    "By the CLT,\n",
    "\n",
    "$$\n",
    "\\mathbb{P}\\biggl(\\frac{X_{1}+\\cdots+X_{100}}{100}\\geq68\\biggr)=\\mathbb{P}\\biggl(\\underbrace{\\frac{\\sqrt{100}}{2.6}\\left(\\frac{X_{1}+\\cdots+X_{100}}{100}-68\\right)}_{\\text{approximately }N(0,1)}\\geq0\\biggr)\\approx0.5.\n",
    "$$"
   ]
  },
  {
   "cell_type": "markdown",
   "id": "d1a55dd3-94f9-4e71-8bb2-a231da4f67ad",
   "metadata": {},
   "source": [
    "## 7."
   ]
  },
  {
   "cell_type": "markdown",
   "id": "7c386a31-ca6f-4d7b-9b83-ea9b9f7c11b6",
   "metadata": {},
   "source": [
    "Let $f>0$ be an arbitrary function and $\\epsilon>0$ be a constant.\n",
    "Then,\n",
    "\n",
    "$$\n",
    "\\mathbb{P}(\\left|f(n)X_{n}-0\\right|>\\epsilon)=\\mathbb{P}(X_{n}>\\epsilon/f(n))\\leq\\mathbb{P}(X_{n}>0)=1-e^{-1/n}\\rightarrow0.\n",
    "$$\n",
    "\n",
    "Take $f = 1$ for part (a) and $f = n$ for part (b)."
   ]
  },
  {
   "cell_type": "markdown",
   "id": "ea3edb3d-e1d1-4a58-af7a-2b6914d4ba9f",
   "metadata": {},
   "source": [
    "## 8."
   ]
  },
  {
   "cell_type": "markdown",
   "id": "ac98fce4-3c4c-4a5d-af16-0e36427432d0",
   "metadata": {},
   "source": [
    "By the CLT,\n",
    "\n",
    "$$\n",
    "\\mathbb{P}(Y<90)=\\mathbb{P}\\biggl(\\underbrace{\\frac{\\sqrt{100}}{1}\\left(\\frac{Y}{100}-1\\right)}_{\\text{approximately }N(0,1)}<\\frac{\\sqrt{100}}{1}\\left(\\frac{90}{100}-1\\right)\\biggr)\\approx\\Phi(-1).\n",
    "$$"
   ]
  },
  {
   "cell_type": "markdown",
   "id": "572090a3-cd24-4acf-81f7-95d278325d5d",
   "metadata": {},
   "source": [
    "We can compare this estimate to the true value below."
   ]
  },
  {
   "cell_type": "code",
   "execution_count": 13,
   "id": "16c79dc2-5ea3-45a9-aa76-f9320476409f",
   "metadata": {},
   "outputs": [
    {
     "data": {
      "text/plain": [
       "0.15865525393145707"
      ]
     },
     "execution_count": 13,
     "metadata": {},
     "output_type": "execute_result"
    }
   ],
   "source": [
    "scipy.stats.norm.cdf(-1.)"
   ]
  },
  {
   "cell_type": "code",
   "execution_count": 12,
   "id": "af06e70e-8267-4048-88a5-7a16184f86ee",
   "metadata": {},
   "outputs": [
    {
     "data": {
      "text/plain": [
       "0.14785"
      ]
     },
     "execution_count": 12,
     "metadata": {},
     "output_type": "execute_result"
    }
   ],
   "source": [
    "(np.random.poisson(lam=1.0, size=(100_000, 100)).sum(axis=1) < 90).mean()"
   ]
  },
  {
   "cell_type": "markdown",
   "id": "3dca3034-0b5a-435a-a86e-f503b8dd8a2b",
   "metadata": {},
   "source": [
    "## 9."
   ]
  },
  {
   "cell_type": "markdown",
   "id": "61d05eac-c509-4a31-88c2-fe5a6d37753a",
   "metadata": {},
   "source": [
    "Let $\\epsilon>0$. Then,\n",
    "\n",
    "$$\n",
    "\\mathbb{P}(\\left|X_{n}-X\\right|>\\epsilon)\\leq\\mathbb{P}(X_{n}\\neq X)=1/n\\rightarrow0.\n",
    "$$\n",
    "\n",
    "Therefore, $X_{n}$ converges in probability (and hence in distribution) to $X$.\n",
    "On the other hand, $X_{n}$ does not converge in quadratic mean since\n",
    "\n",
    "$$\n",
    "\\mathbb{E}\\left[\\left(X_{n}-X\\right)^{2}\\right]=\\mathbb{E}\\left[\\left(e^{n}-X\\right)^{2}I_{\\{X_{n}\\neq X\\}}\\right]=\\frac{1+e^{2n}}{n}\\rightarrow\\infty.\n",
    "$$"
   ]
  },
  {
   "cell_type": "markdown",
   "id": "1f2ae5cd-5906-431c-a5aa-d4ac1f6f8bfb",
   "metadata": {},
   "source": [
    "## 10."
   ]
  },
  {
   "cell_type": "markdown",
   "id": "fffc4293-6656-46ce-b4ad-83b795d7741b",
   "metadata": {},
   "source": [
    "See Chapter 4 Question 6."
   ]
  },
  {
   "cell_type": "markdown",
   "id": "9c5101bc-c038-4412-8e7f-e9976ee11e85",
   "metadata": {},
   "source": [
    "## 11."
   ]
  },
  {
   "cell_type": "markdown",
   "id": "4de429b7-9c3b-4523-a61c-b28d92b3ed85",
   "metadata": {},
   "source": [
    "First, note that $X$ is almost surely zero.\n",
    "Let $\\epsilon>0$ and $Z$ be a standard normal random variable. Then, by Chebyshev's inequality,\n",
    "\n",
    "$$\n",
    "\\mathbb{P}(\\left|X_{n}-X\\right|>\\epsilon)=\\mathbb{P}(\\left|X_{n}\\right|>\\epsilon)=\\mathbb{P}(\\left|Z\\right|>\\epsilon\\sqrt{n})\\leq\\frac{\\mathbb{E}\\left[Z^{2}\\right]}{\\epsilon^{2}n}=\\frac{1}{\\epsilon^{2}n}\\rightarrow0.\n",
    "$$\n",
    "\n",
    "Therefore, $X_{n}$ converges in probability (and hence in distribution) to zero."
   ]
  },
  {
   "cell_type": "markdown",
   "id": "f440d83a-fae5-4948-b5af-852a56eec1f7",
   "metadata": {},
   "source": [
    "## 12."
   ]
  },
  {
   "cell_type": "markdown",
   "id": "12e2afff-c62f-459d-858f-a44773907973",
   "metadata": {},
   "source": [
    "Let $F$ be the CDF of an integer valued random variable. Let $k$ be an integer.\n",
    "It follows that $F(k)=F(k+\\epsilon)$ whenever $0\\leq \\epsilon<1$.\n",
    "We use this observation below.\n",
    "\n",
    "Suppose $X_{n}\\rightsquigarrow X$.\n",
    "By definition, $F_{X_{n}}\\rightarrow F_{X}$ at all points of continuity of $F_{X}$. Therefore,\n",
    "\n",
    "$$\n",
    "\\mathbb{P}(X_{n}=k)=F_{X_{n}}(k+\\epsilon)-F_{X_{n}}(k-\\epsilon)\\rightarrow F_{X}(k+\\epsilon)-F_{X}(k-\\epsilon)=\\mathbb{P}(X=k).\n",
    "$$\n",
    "\n",
    "Conversely, if $\\mathbb{P}(X_{n}=k)\\rightarrow\\mathbb{P}(X=k)$ for all integers $k$, note that\n",
    "    \n",
    "$$\n",
    "F_{X_{n}}(x)=\\sum_{k\\leq x}\\mathbb{P}(X_{n}=k)\\rightarrow\\sum_{k\\leq x}\\mathbb{P}(X=k)=F_{X}(x)\n",
    "$$\n",
    "\n",
    "and hence $X_{n}\\rightsquigarrow X$ as desired."
   ]
  },
  {
   "cell_type": "markdown",
   "id": "da073592-acf9-46d1-9280-e0058c2ab49e",
   "metadata": {},
   "source": [
    "## 13."
   ]
  },
  {
   "cell_type": "markdown",
   "id": "b690d6bc-3fa2-4df8-bcc2-3778a1606b6f",
   "metadata": {},
   "source": [
    "First, note that\n",
    "\n",
    "$$\n",
    "F_{X_{n}}(x)=\\mathbb{P}(n\\min\\left\\{ Z_{1},\\ldots,Z_{n}\\right\\} \\leq x)=1-\\mathbb{P}(Z_{1}\\geq x/n)^{n}.\n",
    "$$\n",
    "\n",
    "If $x\\leq0$, $F_{X_{n}}(x)=0$. Otherwise,\n",
    "\n",
    "$$\n",
    "\\mathbb{P}(Z_{1}\\geq x/n)^{n}=\\left(1-\\mathbb{P}(Z_{1}\\leq x/n)\\right)^{n}=\\left(1-\\int_{0}^{x/n}f(z)dz\\right)^{n}.\n",
    "$$\n",
    "\n",
    "The mean value theorem for integrals yields a $c_{n}$ between zero and $x/n$ such that\n",
    "\n",
    "$$\n",
    "\\mathbb{P}(Z_{1}\\geq x/n)^{n}=\\left(1-f(c_{n})\\frac{x}{n}\\right)^{n}=\\left(e^{-f(c_{n})x/n}+O(n^{-2})\\right)^{n}\\rightarrow e^{-\\lambda x}.\n",
    "$$\n",
    "\n",
    "Therefore, $F_{X_{n}}(x)\\rightarrow(1-e^{-\\lambda x})I_{(0,\\infty)}(x)$ and hence $X_{n}$ converges in distribution to an $\\operatorname{Exp}(1/\\lambda)$ random variable."
   ]
  },
  {
   "cell_type": "markdown",
   "id": "44505581-ddd4-4a3a-aff6-0b80453fd605",
   "metadata": {},
   "source": [
    "## 14."
   ]
  },
  {
   "cell_type": "markdown",
   "id": "610e0208-682b-4ea1-9217-19c62284becd",
   "metadata": {},
   "source": [
    "By the CLT,\n",
    "\n",
    "$$\n",
    "\\sqrt{n}\\frac{\\overline{X}-\\mu}{\\sigma}=\\frac{\\sqrt{n}}{1/\\sqrt{12}}\\left(\\overline{X}-\\frac{1}{2}\\right)\\rightsquigarrow N(0,1).\n",
    "$$\n",
    "\n",
    "Let $g(x)=x^{2}$ so that $g^{\\prime}(x)=2x$. By the delta method,\n",
    "\n",
    "$$\n",
    "\\sqrt{n}\\frac{g(\\overline{X})-g(\\mu)}{\\left|g^{\\prime}(\\mu)\\right|\\sigma}=\\frac{\\sqrt{n}}{1/\\sqrt{12}}\\left(\\overline{X}^{2}-\\frac{1}{4}\\right)\\rightsquigarrow N(0,1).\n",
    "$$"
   ]
  },
  {
   "cell_type": "markdown",
   "id": "69068f87-0e53-4a40-a819-b1fdf45e1826",
   "metadata": {},
   "source": [
    "## 15."
   ]
  },
  {
   "cell_type": "markdown",
   "id": "e3803227-4f6b-4696-bb96-8ed1d16826c3",
   "metadata": {},
   "source": [
    "Define $g:\\mathbb{R}^{2}\\rightarrow\\mathbb{R}$ by $g(x)=x_{1}/x_{2}$.\n",
    "Then, $\\nabla g(x)=(1/x_{2},-x_{1}/x_{2}^{2})^{\\intercal}$. Define\n",
    "\n",
    "$$\n",
    "\\nabla_{\\mu}=\\nabla g(\\mu)=(1/\\mu_{2},-\\mu_{1}/\\mu_{2}^{2})^{\\intercal}\n",
    "$$\n",
    "\n",
    "for brevity. By the multivariate delta method,\n",
    "\n",
    "$$\n",
    "\\sqrt{n}\\left(\\frac{\\overline{X}_{1}}{\\overline{X}_{2}}-\\frac{\\mu_{1}}{\\mu_{2}}\\right)\\rightsquigarrow N(0,\\nabla_{\\mu}^{\\intercal}\\Sigma\\nabla_{\\mu})\n",
    "$$\n",
    "\n",
    "where\n",
    "\n",
    "$$\n",
    "\\nabla_{\\mu}^{\\intercal}\\Sigma\\nabla_{\\mu}=\\frac{1}{\\mu_{2}^{2}}\\Sigma_{11}-2\\frac{\\mu_{1}}{\\mu_{2}^{3}}\\Sigma_{12}+\\frac{\\mu_{1}^{2}}{\\mu_{2}^{4}}\\Sigma_{22}.\n",
    "$$"
   ]
  },
  {
   "cell_type": "markdown",
   "id": "f11bd7b7-1d2c-47a0-9acd-b33f218a92d6",
   "metadata": {},
   "source": [
    "## 16."
   ]
  },
  {
   "cell_type": "markdown",
   "id": "fd22dd10-1678-4547-9805-082d10ca0ed1",
   "metadata": {},
   "source": [
    "Let $X_{n},X,Y\\sim N(0,1)$ be IID and set $Y_{n}=X_{n}$. Trivially,\n",
    "$X_{n}\\rightsquigarrow X$ and $Y_{n}\\rightsquigarrow Y$. However,\n",
    "$\\mathbb{V}(X_{n}+Y_{n})=\\mathbb{V}(2X_{n})=4$ while $\\mathbb{V}(X+Y)=\\mathbb{V}(X)+\\mathbb{V}(Y)=2$\n",
    "and hence $X_{n}+Y_{n}$ does not converge in distribution to $X+Y$."
   ]
  }
 ],
 "metadata": {
  "kernelspec": {
   "display_name": "Python 3 (ipykernel)",
   "language": "python",
   "name": "python3"
  },
  "language_info": {
   "codemirror_mode": {
    "name": "ipython",
    "version": 3
   },
   "file_extension": ".py",
   "mimetype": "text/x-python",
   "name": "python",
   "nbconvert_exporter": "python",
   "pygments_lexer": "ipython3",
   "version": "3.11.5"
  }
 },
 "nbformat": 4,
 "nbformat_minor": 5
}
