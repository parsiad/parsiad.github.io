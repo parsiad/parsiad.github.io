{
 "cells": [
  {
   "cell_type": "raw",
   "id": "4bdf732c-2a12-4e8a-8ffd-c497bd47d397",
   "metadata": {
    "editable": true,
    "raw_mimetype": "",
    "slideshow": {
     "slide_type": ""
    },
    "tags": []
   },
   "source": [
    "---\n",
    "date: 2024-01-19 12:00:00-0800\n",
    "layout: post\n",
    "title: Deriving the Fokker-Planck equation\n",
    "---"
   ]
  },
  {
   "cell_type": "markdown",
   "id": "8e626646-8f1a-4a88-8e36-1ec4d7b6fd98",
   "metadata": {},
   "source": [
    "## Motivation"
   ]
  },
  {
   "cell_type": "markdown",
   "id": "ab3c603b-f7db-4fce-8f12-301497db9cad",
   "metadata": {
    "editable": true,
    "slideshow": {
     "slide_type": ""
    },
    "tags": []
   },
   "source": [
    "The Fokker-Planck equation is a [partial differential equation](https://en.wikipedia.org/wiki/Partial_differential_equation) (PDE) which describes the evolution of the [probability density function](https://en.wikipedia.org/wiki/Probability_density_function) of an [Ito diffusion](https://en.wikipedia.org/wiki/It%C3%B4_diffusion).\n",
    "Since it is a PDE, it admits solutions in certain special cases and is amenable to [numerical methods for PDEs](https://en.wikipedia.org/wiki/Partial_differential_equation#Numerical_solutions) in the general case."
   ]
  },
  {
   "cell_type": "markdown",
   "id": "b36e9e95-97c4-49e2-8824-749231d0b942",
   "metadata": {
    "editable": true,
    "slideshow": {
     "slide_type": ""
    },
    "tags": []
   },
   "source": [
    "## Derivation"
   ]
  },
  {
   "cell_type": "markdown",
   "id": "d5e1b1b2-a51b-43c8-90df-ca6c4b03dd78",
   "metadata": {
    "editable": true,
    "slideshow": {
     "slide_type": ""
    },
    "tags": []
   },
   "source": [
    "Consider the SDE\n",
    "\n",
    "$$\n",
    "\\mathrm{d}X_{t}=a(t,X_{t})\\mathrm{d}t+b(t,X_{t})\\mathrm{d}W_{t}\n",
    "$$\n",
    "\n",
    "with bounded coefficients: (i.e., $\\sup_{t,x}|a(t,x)|+\\sup_{t,x}|b(t,x)|<\\infty$).\n",
    "This requirement is used below to apply Fubini's theorem but can be relaxed.\n",
    "\n",
    "Let $f:\\mathbb{R}\\rightarrow\\mathbb{R}$ be smooth with compact support.\n",
    "By Ito's lemma,\n",
    "\n",
    "$$\n",
    "\\mathrm{d}f=f_{x}\\mathrm{d}X_{t}+\\frac{1}{2}f_{xx}\\mathrm{d}X_{t}^{2}=\\left(af_{x}+\\frac{1}{2}b^{2}f_{xx}\\right)\\mathrm{d}t+bf_{x}\\mathrm{d}W_{t}.\n",
    "$$\n",
    "\n",
    "Taking expectations of both sides,\n",
    "\n",
    "$$\n",
    "\\mathbb{E}\\left[\\mathrm{d}f\\right]=\\mathbb{E}\\left[\\left(af_{x}+\\frac{1}{2}b^{2}f_{xx}\\right)\\mathrm{d}t\\right].\n",
    "$$\n",
    "\n",
    "The above is formalism for the expression\n",
    "\n",
    "$$\n",
    "\\mathbb{E}f(X_{T})-\\mathbb{E}f(X_{t})=\\mathbb{E}\\left[\\int_{t}^{T}a(s,X_{s})f_{x}(X_{s})+\\frac{1}{2}b(s,X_{s})^{2}f_{xx}(X_{s})\\mathrm{d}s\\right].\n",
    "$$\n",
    "\n",
    "By [Fubini's theorem](https://en.wikipedia.org/wiki/Fubini's_theorem), we can interchange the expectation and integral on the right hand side.\n",
    "Moreover, by the [Mean Value Theorem](https://en.wikipedia.org/wiki/Mean_value_theorem), we can find $\\xi$ between $t$ and $T$ such that \n",
    "\n",
    "$$\n",
    "\\frac{\\mathbb{E}f(X_{T})-\\mathbb{E}f(X_{t})}{T-t}=\\mathbb{E}\\left[a(\\xi,X_{\\xi})f_{x}(X_{\\xi})+\\frac{1}{2}b(\\xi,X_{\\xi})^{2}f_{xx}(X_{\\xi})\\right].\n",
    "$$\n",
    "\n",
    "Taking limits as $T\\downarrow t$ and applying the [Dominated Convergence Theorem](https://en.wikipedia.org/wiki/Dominated_convergence_theorem),\n",
    "\n",
    "$$\n",
    "\\frac{\\partial}{\\partial t}\\left[\\mathbb{E}f(X_{t})\\right]=\\mathbb{E}\\left[a(t,X_{t})f_{x}(X_{t})+\\frac{1}{2}b(t,X_{t})^{2}f_{xx}(X_{t})\\right].\n",
    "$$\n",
    "\n",
    "Let $p(t,\\cdot)$ be the density of $X_{t}$.\n",
    "Then, the above is equivalent to\n",
    "\n",
    "$$\n",
    "\\frac{\\partial}{\\partial t}\\int p(t,x)f(x)\\mathrm{d}x=\\int p(t,x)\\left(a(t,x)f_{x}(x)+\\frac{1}{2}b(t,x)^{2}f_{xx}(x)\\right)\\mathrm{d}x.\n",
    "$$\n",
    "\n",
    "Applying [integration by parts](https://en.wikipedia.org/wiki/Integration_by_parts) to the right hand side,\n",
    "\n",
    "$$\n",
    "\\frac{\\partial}{\\partial t}\\int f(x)p(t,x)\\mathrm{d}x=\\int f(x)\\left(-\\frac{\\partial}{\\partial x}\\left[p(t,x)a(t,x)\\right]+\\frac{1}{2}\\frac{\\partial^{2}}{\\partial x^{2}}\\left[p(t,x)b(t,x)^{2}\\right]\\right)\\mathrm{d}x.\n",
    "$$\n",
    "\n",
    "Since this holds for all functions $f$, it follows that\n",
    "\n",
    "$$\n",
    "\\frac{\\partial p}{\\partial t}(t,x)=-\\frac{\\partial}{\\partial x}\\left[p(t,x)a(t,x)\\right]+\\frac{1}{2}\\frac{\\partial^{2}}{\\partial x^{2}}\\left[p(t,x)b(t,x)^{2}\\right].\n",
    "$$\n",
    "\n",
    "This is the Fokker-Planck equation in one dimension.\n",
    "The derivation for multiple dimensions is similar."
   ]
  }
 ],
 "metadata": {
  "kernelspec": {
   "display_name": "Python 3 (ipykernel)",
   "language": "python",
   "name": "python3"
  },
  "language_info": {
   "codemirror_mode": {
    "name": "ipython",
    "version": 3
   },
   "file_extension": ".py",
   "mimetype": "text/x-python",
   "name": "python",
   "nbconvert_exporter": "python",
   "pygments_lexer": "ipython3",
   "version": "3.11.6"
  }
 },
 "nbformat": 4,
 "nbformat_minor": 5
}
