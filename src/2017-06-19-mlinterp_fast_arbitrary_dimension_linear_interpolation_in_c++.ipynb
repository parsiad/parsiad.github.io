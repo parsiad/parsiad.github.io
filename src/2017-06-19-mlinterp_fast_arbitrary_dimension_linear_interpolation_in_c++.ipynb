{
 "cells": [
  {
   "cell_type": "raw",
   "id": "9c6eb9e6-733a-4219-acb7-bb93e11cc0c1",
   "metadata": {},
   "source": [
    "---\n",
    "date: 2017-06-19 12:00:00-0800\n",
    "layout: post\n",
    "redirect_from:\n",
    "  - /blog/2017/mlinterp/\n",
    "title: mlinterp - Fast arbitrary dimension linear interpolation in C++\n",
    "---"
   ]
  },
  {
   "cell_type": "markdown",
   "id": "2faf877d-ff9e-4c66-b5fc-05720e28a215",
   "metadata": {},
   "source": [
    "I made a header-only C++ library for arbitrary dimension [linear interpolation](https://en.wikipedia.org/wiki/Linear_interpolation) (a.k.a. multilinear interpolation).\n",
    "The design philosophy is to push as much to compile-time as possible by [template metaprogramming](https://en.wikipedia.org/wiki/Template_metaprogramming)."
   ]
  },
  {
   "cell_type": "markdown",
   "id": "197219d3-8cfd-4b63-a975-21cf0b3e1913",
   "metadata": {},
   "source": [
    "Instructions for how to include it in your work are on [the GitHub project page](https://github.com/parsiad/mlinterp)."
   ]
  },
  {
   "cell_type": "markdown",
   "id": "4b99d553-cdc4-4b80-b0fd-91dc8ab1a049",
   "metadata": {},
   "source": [
    "Below are some simple examples of its usage."
   ]
  },
  {
   "cell_type": "markdown",
   "id": "3a8231fd-4629-41df-b824-705ff97eca4a",
   "metadata": {},
   "source": [
    "## Examples"
   ]
  },
  {
   "cell_type": "markdown",
   "id": "06a433f7-b496-4f64-b2e2-93cd665c742f",
   "metadata": {},
   "source": [
    "### 1d"
   ]
  },
  {
   "cell_type": "markdown",
   "id": "b388fd74-298b-41bb-b046-ee3b1e5a9dc9",
   "metadata": {},
   "source": [
    "Let's interpolate y = sin(x) on the interval [-pi, pi] using 15 evenly-spaced data points."
   ]
  },
  {
   "cell_type": "markdown",
   "id": "41290783-79f5-473d-b8b3-f0b32852224d",
   "metadata": {},
   "source": [
    "```c++\n",
    "using namespace mlinterp;\n",
    "\n",
    "// Boundaries of the interval [-pi, pi]\n",
    "constexpr double b = 3.14159265358979323846, a = -b;\n",
    "\n",
    "// Subdivide the interval [-pi, pi] using 15 evenly-spaced points and\n",
    "// evaluate sin(x) at each of those points\n",
    "constexpr int nxd = 15, nd[] = { nxd };\n",
    "double xd[nxd];\n",
    "double yd[nxd];\n",
    "for(int n = 0; n < nxd; ++n) {\n",
    "\txd[n] = a + (b - a) / (nxd - 1) * n;\n",
    "\tyd[n] = sin(xd[n]);\n",
    "}\n",
    "\n",
    "// Subdivide the interval [-pi, pi] using 100 evenly-spaced points\n",
    "// (these are the points at which we interpolate)\n",
    "constexpr int ni = 100;\n",
    "double xi[ni];\n",
    "for(int n = 0; n < ni; ++n) {\n",
    "\txi[n] = a + (b - a) / (ni - 1) * n;\n",
    "}\n",
    "\n",
    "// Perform the interpolation\n",
    "double yi[ni]; // Result is stored in this buffer\n",
    "interp(\n",
    "\tnd, ni, // Number of points\n",
    "\tyd, yi, // Output axis (y)\n",
    "\txd, xi  // Input axis (x)\n",
    ");\n",
    "\n",
    "// Print the interpolated values\n",
    "cout << scientific << setprecision(8) << showpos;\n",
    "for(int n = 0; n < ni; ++n) {\n",
    "\tcout << xi[n] << \"\\t\" << yi[n] << endl;\n",
    "}\n",
    "```"
   ]
  },
  {
   "cell_type": "markdown",
   "id": "bc619f6b-41d2-4384-87d7-6422efce4f95",
   "metadata": {
    "execution": {
     "iopub.execute_input": "2022-08-14T05:01:38.545587Z",
     "iopub.status.busy": "2022-08-14T05:01:38.544989Z",
     "iopub.status.idle": "2022-08-14T05:01:38.683184Z",
     "shell.execute_reply": "2022-08-14T05:01:38.682313Z",
     "shell.execute_reply.started": "2022-08-14T05:01:38.545532Z"
    }
   },
   "source": [
    "![](https://raw.githubusercontent.com/parsiad/mlinterp/master/images/1d.png)"
   ]
  },
  {
   "cell_type": "markdown",
   "id": "50e61ab0-3e92-42dc-941d-1a6b91996b37",
   "metadata": {},
   "source": [
    "Note that the points do not have to be evenly spaced. Try modifying the above to use a non-uniform grid!"
   ]
  },
  {
   "cell_type": "markdown",
   "id": "0477ef73-5f0d-4e8e-8358-700ad34d44c1",
   "metadata": {},
   "source": [
    "### 2d"
   ]
  },
  {
   "cell_type": "markdown",
   "id": "788349f6-3ff7-411a-b3a3-4aa22da3988a",
   "metadata": {},
   "source": [
    "Let's interpolate z = sin(x)cos(y) on the interval [-pi, pi] X [-pi, pi] using 15 evenly-spaced points along the x axis and 15 evenly-spaced points along the y axis."
   ]
  },
  {
   "cell_type": "markdown",
   "id": "652f1ccc-a084-452b-959c-8920d82b4171",
   "metadata": {},
   "source": [
    "```c++\n",
    "using namespace mlinterp;\n",
    "\n",
    "// Boundaries of the interval [-pi, pi]\n",
    "constexpr double b = 3.14159265358979323846, a = -b;\n",
    "\n",
    "// Discretize the set [-pi, pi] X [-pi, pi] using 15 evenly-spaced\n",
    "// points along the x axis and 15 evenly-spaced points along the y axis\n",
    "// and evaluate sin(x)cos(y) at each of those points\n",
    "constexpr int nxd = 15, nyd = 15, nd[] = { nxd, nyd };\n",
    "double xd[nxd];\n",
    "for(int i = 0; i < nxd; ++i) {\n",
    "\txd[i] = a + (b - a) / (nxd - 1) * i;\n",
    "}\n",
    "double yd[nyd];\n",
    "for(int j = 0; j < nyd; ++j) {\n",
    "\tyd[j] = a + (b - a) / (nyd - 1) * j;\n",
    "}\n",
    "double zd[nxd * nyd];\n",
    "for(int i = 0; i < nxd; ++i) {\n",
    "\tfor(int j = 0; j < nyd; ++j) {\n",
    "\t\tconst int n = j + i * nyd;\n",
    "\t\tzd[n] = sin(xd[i]) * cos(yd[j]);\n",
    "\t}\n",
    "}\n",
    "\n",
    "// Subdivide the set [-pi, pi] X [-pi, pi] using 100 evenly-spaced\n",
    "// points along the x axis and 100 evenly-spaced points along the y axis\n",
    "// (these are the points at which we interpolate)\n",
    "constexpr int m = 100, ni = m * m;\n",
    "double xi[ni];\n",
    "double yi[ni];\n",
    "for(int i = 0; i < m; ++i) {\n",
    "\tfor(int j = 0; j < m; ++j) {\n",
    "\t\tconst int n = j + i * m;\n",
    "\t\txi[n] = a + (b - a) / (m - 1) * i;\n",
    "\t\tyi[n] = a + (b - a) / (m - 1) * j;\n",
    "\t}\n",
    "}\n",
    "\n",
    "// Perform the interpolation\n",
    "double zi[ni]; // Result is stored in this buffer\n",
    "interp(\n",
    "\tnd, ni,        // Number of points\n",
    "\tzd, zi,        // Output axis (z)\n",
    "\txd, xi, yd, yi // Input axes (x and y)\n",
    ");\n",
    "\n",
    "// Print the interpolated values\n",
    "cout << scientific << setprecision(8) << showpos;\n",
    "for(int n = 0; n < ni; ++n) {\n",
    "\tcout << xi[n] << \"\\t\" << yi[n] << \"\\t\" << zi[n] << endl;\n",
    "}\n",
    "```"
   ]
  },
  {
   "cell_type": "markdown",
   "id": "1af491b8-821f-49e0-a802-7b8a376fafd1",
   "metadata": {},
   "source": [
    "![](https://raw.githubusercontent.com/parsiad/mlinterp/master/images/2d.png)"
   ]
  },
  {
   "cell_type": "markdown",
   "id": "c08aba4f-5074-41bf-af95-0608a3c310cf",
   "metadata": {},
   "source": [
    "Note that the x and y axes do not have to be identical: they can each have any number of unequally spaced points. Try modifying the above to use different x and y axes!"
   ]
  },
  {
   "cell_type": "markdown",
   "id": "d0d2dac6-94f7-4422-8880-981d3a69153e",
   "metadata": {},
   "source": [
    "## Higher dimensions (3d, 4d, ...)"
   ]
  },
  {
   "cell_type": "markdown",
   "id": "0889c926-22c2-4aea-b101-185d5c76d332",
   "metadata": {},
   "source": [
    "In general, if you have k dimensions with axes x1, x2, ..., xk, the interp routine is called as follows:"
   ]
  },
  {
   "cell_type": "markdown",
   "id": "ebd20a5f-70f0-4353-bdac-4ac91494ea77",
   "metadata": {},
   "source": [
    "```c++\n",
    "interp(\n",
    "\tnd,  ni,                          // Number of points\n",
    "\tyd,  yi,                          // Output axis\n",
    "\tx1d, x1i, x2d, x2i, ..., xkd, xki // Input axes\n",
    ");\n",
    "```"
   ]
  }
 ],
 "metadata": {
  "kernelspec": {
   "display_name": "Python 3 (ipykernel)",
   "language": "python",
   "name": "python3"
  },
  "language_info": {
   "codemirror_mode": {
    "name": "ipython",
    "version": 3
   },
   "file_extension": ".py",
   "mimetype": "text/x-python",
   "name": "python",
   "nbconvert_exporter": "python",
   "pygments_lexer": "ipython3",
   "version": "3.8.12"
  }
 },
 "nbformat": 4,
 "nbformat_minor": 5
}
